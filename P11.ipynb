{
 "cells": [
  {
   "cell_type": "markdown",
   "metadata": {},
   "source": [
    "# Introducción"
   ]
  },
  {
   "cell_type": "markdown",
   "metadata": {},
   "source": [
    "Se debe investigar el comportamiento de usuario para la aplicación de una empresa que comercializa productos alimentarios.\n",
    "\n",
    "Primero, se estudiará el embudo de ventas para descubrir cómo los usuarios y las usuarias llegan a la etapa de compra. Para ello se formularán preguntas relacionadas al comportamiento de los clientes durante su paso por el embudo.\n",
    "\n",
    "Luego se analizarán los resultados de un test A/A/B, realizado debiido a que al equipo de diseño le gustaría cambiar las fuentes de toda la aplicación, pero la gerencia teme que los usuarios y las usuarias piensen que el nuevo diseño es intimidante. Por ello, deciden tomar una decisión basada en los resultados del test A/A/B.\n",
    "\n",
    "Los usuarios se dividen en tres grupos: dos grupos de control obtienen las fuentes antiguas y un grupo de prueba obtiene las nuevas. Debemos descubrir qué conjunto de fuentes produce mejores resultados.\n",
    "\n",
    "Crear dos grupos A tiene ciertas ventajas. Podemos establecer el principio de que solo confiaremos en la exactitud de nuestras pruebas cuando los dos grupos de control sean similares. Si hay diferencias significativas entre los grupos A, esto puede ayudarnos a descubrir factores que pueden estar distorsionando los resultados. La comparación de grupos de control también nos dice cuánto tiempo y datos necesitaremos cuando realicemos más tests.\n",
    "\n",
    "La información para el análisis general y para el análisis A/A/B está en el mismo dataset."
   ]
  },
  {
   "cell_type": "markdown",
   "metadata": {},
   "source": [
    "# Descripción de datos"
   ]
  },
  {
   "cell_type": "markdown",
   "metadata": {},
   "source": [
    "Cada entrada de registro es una acción de usuario o un evento. La ruta del archivo es `/datasets/logs_exp_us.csv`.\n",
    "\n",
    "- `EventName`: nombre del evento.\n",
    "- `DeviceIDHash`: identificador de usuario unívoco.\n",
    "- `EventTimestamp`: hora del evento.\n",
    "- `ExpId`: número de experimento: 246 y 247 son los grupos de control, 248 es el grupo de prueba."
   ]
  },
  {
   "cell_type": "markdown",
   "metadata": {},
   "source": [
    "# Pauta de trabajo"
   ]
  },
  {
   "cell_type": "markdown",
   "metadata": {},
   "source": [
    "Este informe estará dividido en tres partes, cada una de ellas tendrá diferentos objetivos:\n",
    "\n",
    "__Preanálisis:__ Etapa en la cual se cargan los datos y se optimizan en caso de ser necesario, se trabajan los valores duplicados y ausentes, y finalmente, se modifican los datos para facilitar el posterior análisis.\n",
    "\n",
    "- Optimizar el nombre de las columnas de manera que sea conveniente para el análisis.\n",
    "- Comprobar si hay tipos de datos y valores ausentes y corregir los datos si es necesario.\n",
    "- Agregar una columna de fecha y hora y una columna separada para las fechas (transformar las fechas del formato timestamp).\n",
    "\n",
    "__Análisis:__ Etapa en la cual se responden las preguntas establecidas y se trazan los gráficos correspondientes.\n",
    "\n",
    "- Estudiar y comprobar los datos.\n",
    "    - ¿Cuántos eventos hay en los registros?\n",
    "    - ¿Cuántos usuarios y usuarias hay en los registros?\n",
    "    - ¿Cuál es el promedio de eventos por usuario?\n",
    "    - ¿Qué periodo de tiempo cubren los datos?\n",
    "    - ¿Hay una cantidad suficiente de registros por grupo?\n",
    "    \n",
    "    \n",
    "- Estudiar el embudo de eventos.\n",
    "    - ¿Qué eventos hay en los registros? y ¿Cuál su frecuencia de suceso?\n",
    "    - ¿Cual la cantidad de usuarios y usuarias que realizaron cada una de las acciones registradas?\n",
    "    - ¿En qué orden ocurrieron las acciones?\n",
    "    - ¿Cual es la proporción de usuarios y usuarias que pasan de una etapa a la siguiente?\n",
    "    - ¿En qué etapa pierdes más usuarios y usuarias?\n",
    "    - ¿Qué porcentaje de usuarios y usuarias hace todo el viaje desde su primer evento hasta el pago?\n",
    "\n",
    "\n",
    "- Estudiar los resultados del experimento.\n",
    "    - ¿Cuántos usuarios y usuarias hay en cada grupo?\n",
    "    - ¿Hay una diferencia estadísticamente significativa entre los grupos de control?\n",
    "    - ¿Los grupos se dividieron correctamente?\n",
    "    - ¿Qué conclusiones se pueden sacar del experimento?\n",
    "    - ¿El nivel de significación ha sido el correcto?\n",
    "\n",
    "__Conclusiones:__ Etapa en la cual se resume la totalidad del informe y se destacan los hallazgos mas importantes del análisis."
   ]
  },
  {
   "cell_type": "markdown",
   "metadata": {},
   "source": [
    "## Pre-análisis de datos"
   ]
  },
  {
   "cell_type": "markdown",
   "metadata": {},
   "source": [
    "Se realizarán todos los preparativos, importación de librerías, limpieza, etc. que se deben realizar antes de empezar con el análisis."
   ]
  },
  {
   "cell_type": "markdown",
   "metadata": {},
   "source": [
    "### Importación de librerías"
   ]
  },
  {
   "cell_type": "markdown",
   "metadata": {},
   "source": [
    "Se importarán las librerías necesarias para el análisis, pruebas estadísticas y visualizaciones."
   ]
  },
  {
   "cell_type": "code",
   "execution_count": 1,
   "metadata": {},
   "outputs": [],
   "source": [
    "import pandas as pd\n",
    "import math as mt\n",
    "import numpy as np\n",
    "from scipy import stats as st\n",
    "from plotly import graph_objects as go\n",
    "from matplotlib import pyplot as plt\n",
    "import seaborn as sns"
   ]
  },
  {
   "cell_type": "markdown",
   "metadata": {},
   "source": [
    "Importación exitosa."
   ]
  },
  {
   "cell_type": "markdown",
   "metadata": {},
   "source": [
    "### Carga de datos"
   ]
  },
  {
   "cell_type": "markdown",
   "metadata": {},
   "source": [
    "Usando `.read_csv()` se importará el dataset que tiene la información que necesitamos."
   ]
  },
  {
   "cell_type": "code",
   "execution_count": 2,
   "metadata": {},
   "outputs": [],
   "source": [
    "df = pd.read_csv('/datasets/logs_exp_us.csv', sep='\\t')"
   ]
  },
  {
   "cell_type": "markdown",
   "metadata": {},
   "source": [
    "Se descubre que el dataset no está separado por comas (como se esperaría), sino que está separado por `\\t`, una vez corregido esto se importa correctamente el conjunto de datos."
   ]
  },
  {
   "cell_type": "markdown",
   "metadata": {},
   "source": [
    "### Previsualización de datos"
   ]
  },
  {
   "cell_type": "markdown",
   "metadata": {},
   "source": [
    "Se busca dar una revisión general a los datos para observar su tipo, nombres de columnas y si es que hay valores ausentes (entre otros)."
   ]
  },
  {
   "cell_type": "code",
   "execution_count": 3,
   "metadata": {},
   "outputs": [
    {
     "name": "stdout",
     "output_type": "stream",
     "text": [
      "<class 'pandas.core.frame.DataFrame'>\n",
      "RangeIndex: 244126 entries, 0 to 244125\n",
      "Data columns (total 4 columns):\n",
      " #   Column          Non-Null Count   Dtype \n",
      "---  ------          --------------   ----- \n",
      " 0   EventName       244126 non-null  object\n",
      " 1   DeviceIDHash    244126 non-null  int64 \n",
      " 2   EventTimestamp  244126 non-null  int64 \n",
      " 3   ExpId           244126 non-null  int64 \n",
      "dtypes: int64(3), object(1)\n",
      "memory usage: 7.5+ MB\n"
     ]
    },
    {
     "data": {
      "text/html": [
       "<div>\n",
       "<style scoped>\n",
       "    .dataframe tbody tr th:only-of-type {\n",
       "        vertical-align: middle;\n",
       "    }\n",
       "\n",
       "    .dataframe tbody tr th {\n",
       "        vertical-align: top;\n",
       "    }\n",
       "\n",
       "    .dataframe thead th {\n",
       "        text-align: right;\n",
       "    }\n",
       "</style>\n",
       "<table border=\"1\" class=\"dataframe\">\n",
       "  <thead>\n",
       "    <tr style=\"text-align: right;\">\n",
       "      <th></th>\n",
       "      <th>EventName</th>\n",
       "      <th>DeviceIDHash</th>\n",
       "      <th>EventTimestamp</th>\n",
       "      <th>ExpId</th>\n",
       "    </tr>\n",
       "  </thead>\n",
       "  <tbody>\n",
       "    <tr>\n",
       "      <th>0</th>\n",
       "      <td>MainScreenAppear</td>\n",
       "      <td>4575588528974610257</td>\n",
       "      <td>1564029816</td>\n",
       "      <td>246</td>\n",
       "    </tr>\n",
       "    <tr>\n",
       "      <th>1</th>\n",
       "      <td>MainScreenAppear</td>\n",
       "      <td>7416695313311560658</td>\n",
       "      <td>1564053102</td>\n",
       "      <td>246</td>\n",
       "    </tr>\n",
       "    <tr>\n",
       "      <th>2</th>\n",
       "      <td>PaymentScreenSuccessful</td>\n",
       "      <td>3518123091307005509</td>\n",
       "      <td>1564054127</td>\n",
       "      <td>248</td>\n",
       "    </tr>\n",
       "    <tr>\n",
       "      <th>3</th>\n",
       "      <td>CartScreenAppear</td>\n",
       "      <td>3518123091307005509</td>\n",
       "      <td>1564054127</td>\n",
       "      <td>248</td>\n",
       "    </tr>\n",
       "    <tr>\n",
       "      <th>4</th>\n",
       "      <td>PaymentScreenSuccessful</td>\n",
       "      <td>6217807653094995999</td>\n",
       "      <td>1564055322</td>\n",
       "      <td>248</td>\n",
       "    </tr>\n",
       "  </tbody>\n",
       "</table>\n",
       "</div>"
      ],
      "text/plain": [
       "                 EventName         DeviceIDHash  EventTimestamp  ExpId\n",
       "0         MainScreenAppear  4575588528974610257      1564029816    246\n",
       "1         MainScreenAppear  7416695313311560658      1564053102    246\n",
       "2  PaymentScreenSuccessful  3518123091307005509      1564054127    248\n",
       "3         CartScreenAppear  3518123091307005509      1564054127    248\n",
       "4  PaymentScreenSuccessful  6217807653094995999      1564055322    248"
      ]
     },
     "execution_count": 3,
     "metadata": {},
     "output_type": "execute_result"
    }
   ],
   "source": [
    "df.info()\n",
    "df.head()"
   ]
  },
  {
   "cell_type": "markdown",
   "metadata": {},
   "source": [
    "Se puede apreciar que no hay valores ausentes, las fechas están en formato timestamp (deberá ser modificado), el resto de tipos de datos está en su tipo correcto."
   ]
  },
  {
   "cell_type": "markdown",
   "metadata": {},
   "source": [
    "### Optimización de datos"
   ]
  },
  {
   "cell_type": "markdown",
   "metadata": {},
   "source": [
    "En esta fase se harán las correcciones mencionadas anteriormente, además de hacer otros cambios como: optimizar el nombre de las columnas y buscar valores duplicados."
   ]
  },
  {
   "cell_type": "code",
   "execution_count": 4,
   "metadata": {},
   "outputs": [],
   "source": [
    "df.columns = ['event', 'device_id', 'ts', 'group']"
   ]
  },
  {
   "cell_type": "markdown",
   "metadata": {},
   "source": [
    "Se modifican exitosamente los nombres de las columnas, estos nombres facilitan el análisis al ser más cortos que los anteriores y al estar en minúsculas, reduciendo la posibilidad de errores. Ahora se crearán columnas de fecha y hora a partir de la columna `ts`. "
   ]
  },
  {
   "cell_type": "code",
   "execution_count": 5,
   "metadata": {},
   "outputs": [
    {
     "data": {
      "text/html": [
       "<div>\n",
       "<style scoped>\n",
       "    .dataframe tbody tr th:only-of-type {\n",
       "        vertical-align: middle;\n",
       "    }\n",
       "\n",
       "    .dataframe tbody tr th {\n",
       "        vertical-align: top;\n",
       "    }\n",
       "\n",
       "    .dataframe thead th {\n",
       "        text-align: right;\n",
       "    }\n",
       "</style>\n",
       "<table border=\"1\" class=\"dataframe\">\n",
       "  <thead>\n",
       "    <tr style=\"text-align: right;\">\n",
       "      <th></th>\n",
       "      <th>event</th>\n",
       "      <th>device_id</th>\n",
       "      <th>ts</th>\n",
       "      <th>group</th>\n",
       "      <th>date</th>\n",
       "      <th>hour</th>\n",
       "    </tr>\n",
       "  </thead>\n",
       "  <tbody>\n",
       "    <tr>\n",
       "      <th>0</th>\n",
       "      <td>MainScreenAppear</td>\n",
       "      <td>4575588528974610257</td>\n",
       "      <td>1564029816</td>\n",
       "      <td>246</td>\n",
       "      <td>2019-07-25</td>\n",
       "      <td>04:43</td>\n",
       "    </tr>\n",
       "    <tr>\n",
       "      <th>1</th>\n",
       "      <td>MainScreenAppear</td>\n",
       "      <td>7416695313311560658</td>\n",
       "      <td>1564053102</td>\n",
       "      <td>246</td>\n",
       "      <td>2019-07-25</td>\n",
       "      <td>11:11</td>\n",
       "    </tr>\n",
       "    <tr>\n",
       "      <th>2</th>\n",
       "      <td>PaymentScreenSuccessful</td>\n",
       "      <td>3518123091307005509</td>\n",
       "      <td>1564054127</td>\n",
       "      <td>248</td>\n",
       "      <td>2019-07-25</td>\n",
       "      <td>11:28</td>\n",
       "    </tr>\n",
       "    <tr>\n",
       "      <th>3</th>\n",
       "      <td>CartScreenAppear</td>\n",
       "      <td>3518123091307005509</td>\n",
       "      <td>1564054127</td>\n",
       "      <td>248</td>\n",
       "      <td>2019-07-25</td>\n",
       "      <td>11:28</td>\n",
       "    </tr>\n",
       "    <tr>\n",
       "      <th>4</th>\n",
       "      <td>PaymentScreenSuccessful</td>\n",
       "      <td>6217807653094995999</td>\n",
       "      <td>1564055322</td>\n",
       "      <td>248</td>\n",
       "      <td>2019-07-25</td>\n",
       "      <td>11:48</td>\n",
       "    </tr>\n",
       "  </tbody>\n",
       "</table>\n",
       "</div>"
      ],
      "text/plain": [
       "                     event            device_id          ts  group  \\\n",
       "0         MainScreenAppear  4575588528974610257  1564029816    246   \n",
       "1         MainScreenAppear  7416695313311560658  1564053102    246   \n",
       "2  PaymentScreenSuccessful  3518123091307005509  1564054127    248   \n",
       "3         CartScreenAppear  3518123091307005509  1564054127    248   \n",
       "4  PaymentScreenSuccessful  6217807653094995999  1564055322    248   \n",
       "\n",
       "         date   hour  \n",
       "0  2019-07-25  04:43  \n",
       "1  2019-07-25  11:11  \n",
       "2  2019-07-25  11:28  \n",
       "3  2019-07-25  11:28  \n",
       "4  2019-07-25  11:48  "
      ]
     },
     "execution_count": 5,
     "metadata": {},
     "output_type": "execute_result"
    }
   ],
   "source": [
    "df['date'] = pd.to_datetime(df['ts'], unit='s').dt.strftime('%Y-%m-%d')\n",
    "df['hour'] = pd.to_datetime(df['ts'], unit='s').dt.strftime('%H:%M')\n",
    "df.head()"
   ]
  },
  {
   "cell_type": "markdown",
   "metadata": {},
   "source": [
    "Se puede observar el dataset con los nuevos nombres de columnas y las nuevas columnas. Ahora se buscarán valores duplicados."
   ]
  },
  {
   "cell_type": "code",
   "execution_count": 6,
   "metadata": {},
   "outputs": [
    {
     "name": "stdout",
     "output_type": "stream",
     "text": [
      "413\n"
     ]
    },
    {
     "data": {
      "text/html": [
       "<div>\n",
       "<style scoped>\n",
       "    .dataframe tbody tr th:only-of-type {\n",
       "        vertical-align: middle;\n",
       "    }\n",
       "\n",
       "    .dataframe tbody tr th {\n",
       "        vertical-align: top;\n",
       "    }\n",
       "\n",
       "    .dataframe thead th {\n",
       "        text-align: right;\n",
       "    }\n",
       "</style>\n",
       "<table border=\"1\" class=\"dataframe\">\n",
       "  <thead>\n",
       "    <tr style=\"text-align: right;\">\n",
       "      <th></th>\n",
       "      <th>event</th>\n",
       "      <th>device_id</th>\n",
       "      <th>ts</th>\n",
       "      <th>group</th>\n",
       "      <th>date</th>\n",
       "      <th>hour</th>\n",
       "    </tr>\n",
       "  </thead>\n",
       "  <tbody>\n",
       "    <tr>\n",
       "      <th>453</th>\n",
       "      <td>MainScreenAppear</td>\n",
       "      <td>5613408041324010552</td>\n",
       "      <td>1564474784</td>\n",
       "      <td>248</td>\n",
       "      <td>2019-07-30</td>\n",
       "      <td>08:19</td>\n",
       "    </tr>\n",
       "    <tr>\n",
       "      <th>2350</th>\n",
       "      <td>CartScreenAppear</td>\n",
       "      <td>1694940645335807244</td>\n",
       "      <td>1564609899</td>\n",
       "      <td>248</td>\n",
       "      <td>2019-07-31</td>\n",
       "      <td>21:51</td>\n",
       "    </tr>\n",
       "    <tr>\n",
       "      <th>3573</th>\n",
       "      <td>MainScreenAppear</td>\n",
       "      <td>434103746454591587</td>\n",
       "      <td>1564628377</td>\n",
       "      <td>248</td>\n",
       "      <td>2019-08-01</td>\n",
       "      <td>02:59</td>\n",
       "    </tr>\n",
       "    <tr>\n",
       "      <th>4076</th>\n",
       "      <td>MainScreenAppear</td>\n",
       "      <td>3761373764179762633</td>\n",
       "      <td>1564631266</td>\n",
       "      <td>247</td>\n",
       "      <td>2019-08-01</td>\n",
       "      <td>03:47</td>\n",
       "    </tr>\n",
       "    <tr>\n",
       "      <th>4803</th>\n",
       "      <td>MainScreenAppear</td>\n",
       "      <td>2835328739789306622</td>\n",
       "      <td>1564634641</td>\n",
       "      <td>248</td>\n",
       "      <td>2019-08-01</td>\n",
       "      <td>04:44</td>\n",
       "    </tr>\n",
       "  </tbody>\n",
       "</table>\n",
       "</div>"
      ],
      "text/plain": [
       "                 event            device_id          ts  group        date  \\\n",
       "453   MainScreenAppear  5613408041324010552  1564474784    248  2019-07-30   \n",
       "2350  CartScreenAppear  1694940645335807244  1564609899    248  2019-07-31   \n",
       "3573  MainScreenAppear   434103746454591587  1564628377    248  2019-08-01   \n",
       "4076  MainScreenAppear  3761373764179762633  1564631266    247  2019-08-01   \n",
       "4803  MainScreenAppear  2835328739789306622  1564634641    248  2019-08-01   \n",
       "\n",
       "       hour  \n",
       "453   08:19  \n",
       "2350  21:51  \n",
       "3573  02:59  \n",
       "4076  03:47  \n",
       "4803  04:44  "
      ]
     },
     "execution_count": 6,
     "metadata": {},
     "output_type": "execute_result"
    }
   ],
   "source": [
    "print(df.duplicated().sum())\n",
    "df[df.duplicated()].head()"
   ]
  },
  {
   "cell_type": "markdown",
   "metadata": {},
   "source": [
    "Se encuntran 413 valores, lo cual es muy bajo teniendo en cuenta que el dataset tiene 244126 registros. Se visualizan los datos duplicados para ver si tienen algo en común o si sólo son errores. No se encuentran cosas en común por lo que serán eliminados."
   ]
  },
  {
   "cell_type": "code",
   "execution_count": 7,
   "metadata": {},
   "outputs": [],
   "source": [
    "df.drop_duplicates(inplace=True)"
   ]
  },
  {
   "cell_type": "markdown",
   "metadata": {},
   "source": [
    "Duplicados eliminados exitosamente"
   ]
  },
  {
   "cell_type": "markdown",
   "metadata": {},
   "source": [
    "## Análisis de datos"
   ]
  },
  {
   "cell_type": "markdown",
   "metadata": {},
   "source": [
    "En esta fase se responderán las preguntas establecidas, se trazarán los gráficos correspondientes y se analizarán los resultados del test A/A/B."
   ]
  },
  {
   "cell_type": "markdown",
   "metadata": {},
   "source": [
    "### Estudiar y comprobar los datos"
   ]
  },
  {
   "cell_type": "markdown",
   "metadata": {},
   "source": [
    "Antes de entrar a sacar conclusiones se debe comprobar la integridad de los datos, verificar si están dentro de los límites establecidos y si son suficientes para poder obtener un análisis correcto."
   ]
  },
  {
   "cell_type": "markdown",
   "metadata": {},
   "source": [
    "#### ¿Cuántos eventos hay en los registros?"
   ]
  },
  {
   "cell_type": "markdown",
   "metadata": {},
   "source": [
    "Para responder esta pregunta basta con simplemente contar las filas del dataset."
   ]
  },
  {
   "cell_type": "code",
   "execution_count": 8,
   "metadata": {},
   "outputs": [
    {
     "data": {
      "text/plain": [
       "243713"
      ]
     },
     "execution_count": 8,
     "metadata": {},
     "output_type": "execute_result"
    }
   ],
   "source": [
    "len(df)"
   ]
  },
  {
   "cell_type": "markdown",
   "metadata": {},
   "source": [
    "Se encuentran __243.713 eventos__ registrados."
   ]
  },
  {
   "cell_type": "markdown",
   "metadata": {},
   "source": [
    "#### ¿Cuántos usuarios y usuarias hay en los registros?"
   ]
  },
  {
   "cell_type": "markdown",
   "metadata": {},
   "source": [
    "Se contará cuantos dispositivos únicos hay registrados, esto proporciona un valor estimado de la cantidad de usuarios que generó la información del dataset."
   ]
  },
  {
   "cell_type": "code",
   "execution_count": 9,
   "metadata": {},
   "outputs": [
    {
     "data": {
      "text/plain": [
       "7551"
      ]
     },
     "execution_count": 9,
     "metadata": {},
     "output_type": "execute_result"
    }
   ],
   "source": [
    "df['device_id'].nunique()"
   ]
  },
  {
   "cell_type": "markdown",
   "metadata": {},
   "source": [
    "Se identifican __aproximadamente 7551 usuarios y usuarias__."
   ]
  },
  {
   "cell_type": "markdown",
   "metadata": {},
   "source": [
    "#### ¿Cuál es el promedio de eventos por usuario?"
   ]
  },
  {
   "cell_type": "markdown",
   "metadata": {},
   "source": [
    "Se contará el número de eventos en promedio por dispositivo y se analizará la distribución."
   ]
  },
  {
   "cell_type": "code",
   "execution_count": 10,
   "metadata": {},
   "outputs": [
    {
     "name": "stdout",
     "output_type": "stream",
     "text": [
      "32.0\n"
     ]
    },
    {
     "data": {
      "image/png": "[encoded data removed]",
      "text/plain": [
       "<Figure size 500x500 with 1 Axes>"
      ]
     },
     "metadata": {},
     "output_type": "display_data"
    }
   ],
   "source": [
    "print(df.groupby('device_id')['event'].count().mean().round(0))\n",
    "sns.displot(df.groupby('device_id')['event'].count())\n",
    "plt.xlabel('Eventos por usuario')\n",
    "plt.ylabel('Cantidad de usuarios');"
   ]
  },
  {
   "cell_type": "markdown",
   "metadata": {},
   "source": [
    "Se descubre que la media es 32, sin embargo no estamos en presencia de una distribución normal, lo que significa que debemos usar otra medida como __la moda__."
   ]
  },
  {
   "cell_type": "code",
   "execution_count": 11,
   "metadata": {},
   "outputs": [
    {
     "name": "stdout",
     "output_type": "stream",
     "text": [
      "0    5\n",
      "dtype: int64\n",
      "\n"
     ]
    },
    {
     "data": {
      "image/png": "[encoded data removed]",
      "text/plain": [
       "<Figure size 640x480 with 1 Axes>"
      ]
     },
     "metadata": {},
     "output_type": "display_data"
    }
   ],
   "source": [
    "print(df.groupby('device_id')['event'].count().mode())\n",
    "print()\n",
    "sns.histplot(df.groupby('device_id')['event'].count())\n",
    "plt.xlim(0, 100)\n",
    "plt.grid(True)\n",
    "plt.xlabel('Eventos por usuario')\n",
    "plt.ylabel('Cantidad de usuarios');"
   ]
  },
  {
   "cell_type": "markdown",
   "metadata": {},
   "source": [
    "Obtenemos la moda y verificamos mediante el nuevo histograma, se puede concluir que __un usuario promedio tiende a realizar 5 eventos__ en la web de la empresa."
   ]
  },
  {
   "cell_type": "markdown",
   "metadata": {},
   "source": [
    "#### ¿Qué periodo de tiempo cubren los datos?"
   ]
  },
  {
   "cell_type": "markdown",
   "metadata": {},
   "source": [
    "Esta pregunta puede abordarse de varias maneras, se comenzará con la más simple."
   ]
  },
  {
   "cell_type": "code",
   "execution_count": 12,
   "metadata": {},
   "outputs": [
    {
     "name": "stdout",
     "output_type": "stream",
     "text": [
      "2019-07-25\n",
      "2019-08-07\n"
     ]
    }
   ],
   "source": [
    "print(df['date'].min())\n",
    "print(df['date'].max())"
   ]
  },
  {
   "cell_type": "markdown",
   "metadata": {},
   "source": [
    "Se identifican las fechas límite de los datos, cubren un rango de __dos semanas__. Ahora se analizará la distribución de los datos dentro de estas dos semanas estudiadas."
   ]
  },
  {
   "cell_type": "code",
   "execution_count": 13,
   "metadata": {},
   "outputs": [
    {
     "data": {
      "image/png": "[encoded data removed]",
      "text/plain": [
       "<Figure size 640x480 with 1 Axes>"
      ]
     },
     "metadata": {},
     "output_type": "display_data"
    }
   ],
   "source": [
    "sns.set(style='white')\n",
    "sns.histplot(data=df, x='date')\n",
    "plt.grid(True)\n",
    "plt.xticks(rotation=80)\n",
    "plt.xlabel('Fecha')\n",
    "plt.ylabel('Registros');"
   ]
  },
  {
   "cell_type": "markdown",
   "metadata": {},
   "source": [
    "Se observa que tenemos datos completos desde el `2019-08-01` en adelante, un rango de __una semana__. Se eliminarán los datos de antes de la fecha indicada."
   ]
  },
  {
   "cell_type": "code",
   "execution_count": 14,
   "metadata": {},
   "outputs": [],
   "source": [
    "new_df = df[df['date'] >= '2019-08-01']"
   ]
  },
  {
   "cell_type": "markdown",
   "metadata": {},
   "source": [
    "Se crea un nuevo dataset con la información filtrada por fecha el análisis, se comprobará si es significativa la cantidad de datos perdidos."
   ]
  },
  {
   "cell_type": "code",
   "execution_count": 15,
   "metadata": {},
   "outputs": [
    {
     "name": "stdout",
     "output_type": "stream",
     "text": [
      "Total de eventos: 243713\n",
      "Eventos perdidos: 2826\n",
      "Eventos perdidos: 1.159560630741897 %\n",
      "\n",
      "Total de clientes: 7551\n",
      "Clientes perdidos: 17\n",
      "Clientes perdidos: 0.0022513574361011784 %\n"
     ]
    }
   ],
   "source": [
    "print('Total de eventos:' ,len(df))\n",
    "print('Eventos perdidos:' ,len(df) - len(new_df))\n",
    "print('Eventos perdidos:' ,((len(df) - len(new_df)) / len(df))*100, '%')\n",
    "print()\n",
    "print('Total de clientes:', df['device_id'].nunique())\n",
    "print('Clientes perdidos:' ,df['device_id'].nunique() - new_df['device_id'].nunique())\n",
    "print('Clientes perdidos:' ,(df['device_id'].nunique() - new_df['device_id'].nunique()) / df['device_id'].nunique(), '%')"
   ]
  },
  {
   "cell_type": "markdown",
   "metadata": {},
   "source": [
    "Se comprueba que __las pérdidas de información son mínimas__, sobre todo en cuanto a registros de clientes (que es en lo que más se trabajará)."
   ]
  },
  {
   "cell_type": "markdown",
   "metadata": {},
   "source": [
    "#### ¿Hay una cantidad suficiente de registros por grupo?"
   ]
  },
  {
   "cell_type": "markdown",
   "metadata": {},
   "source": [
    "Mediante un gráfico de barras se comprobará si hay una cantidad suficiente de registros por grupo."
   ]
  },
  {
   "cell_type": "code",
   "execution_count": 16,
   "metadata": {},
   "outputs": [
    {
     "data": {
      "image/png": "[encoded data removed]",
      "text/plain": [
       "<Figure size 640x480 with 1 Axes>"
      ]
     },
     "metadata": {},
     "output_type": "display_data"
    }
   ],
   "source": [
    "ax = new_df['group'].value_counts().plot(kind='bar', rot=0, grid=True, xlabel='Grupo', ylabel='Cantidad de registros', title='Registros por grupo')\n",
    "for p in ax.patches:\n",
    "    ax.annotate(str(int(p.get_height())), (p.get_x() + p.get_width() / 2., p.get_height()),\n",
    "                ha='center', va='center', xytext=(0, 5), textcoords='offset points', fontsize=8, color='blue');"
   ]
  },
  {
   "cell_type": "markdown",
   "metadata": {},
   "source": [
    "Efectivamente __hay una cantidad significativa de registros por grupo__."
   ]
  },
  {
   "cell_type": "markdown",
   "metadata": {},
   "source": [
    "### Estudiar el embudo de eventos"
   ]
  },
  {
   "cell_type": "markdown",
   "metadata": {},
   "source": [
    "En esta fase se estudiará el embudo de eventos para analizar el comportamiento de los usuarios en la web de la compañía."
   ]
  },
  {
   "cell_type": "markdown",
   "metadata": {},
   "source": [
    "#### ¿Qué eventos hay en los registros? y ¿Cuál su frecuencia de suceso?"
   ]
  },
  {
   "cell_type": "markdown",
   "metadata": {},
   "source": [
    "Mediante un filtrado y un gráfico de barras con etiquetas se graficarán los registros y su determinada frecuencia."
   ]
  },
  {
   "cell_type": "code",
   "execution_count": 17,
   "metadata": {},
   "outputs": [
    {
     "data": {
      "image/png": "[encoded data removed]",
      "text/plain": [
       "<Figure size 640x480 with 1 Axes>"
      ]
     },
     "metadata": {},
     "output_type": "display_data"
    }
   ],
   "source": [
    "ax = new_df['event'].value_counts().plot(kind='bar', rot=75, grid=True, xlabel='Evento', ylabel='Cantidad de registros', title='Tipos de eventos registrados')\n",
    "for p in ax.patches:\n",
    "    ax.annotate(str(int(p.get_height())), (p.get_x() + p.get_width() / 2., p.get_height()),\n",
    "                ha='center', va='center', xytext=(0, 5), textcoords='offset points', fontsize=8, color='blue');"
   ]
  },
  {
   "cell_type": "markdown",
   "metadata": {},
   "source": [
    "Hay 5 tipos de evento registrados:\n",
    "- Aparición de pantalla principal.\n",
    "- Aparición de pantalla de ofertas.\n",
    "- Aparición de pantalla de carrito.\n",
    "- Aparición de pantalla de Pago exitoso.\n",
    "- Tutorial.\n",
    "\n",
    "Están distribuídas en orden lógico exceptuando la etapa `Tutorial` la cual debe ser una guía de como hacer una compra, esto tiene sentido debido a que esto se suele omitir, lo que explicaría una cantidad tan baja de registros de este evento. Se probará más adelante esta teoría."
   ]
  },
  {
   "cell_type": "code",
   "execution_count": 18,
   "metadata": {},
   "outputs": [
    {
     "data": {
      "image/png": "[encoded data removed]",
      "text/plain": [
       "<Figure size 640x480 with 1 Axes>"
      ]
     },
     "metadata": {},
     "output_type": "display_data"
    }
   ],
   "source": [
    "bar = new_df.groupby(['event', 'group'])['device_id'].count().reset_index()\n",
    "sns.barplot(data=bar, x='event', y='device_id', hue='group', order=['MainScreenAppear', 'OffersScreenAppear', 'CartScreenAppear', 'PaymentScreenSuccessful', 'Tutorial'])\n",
    "plt.xticks(rotation=75)\n",
    "plt.title('Número de eventos registrados (división por grupos)')\n",
    "plt.grid(True)"
   ]
  },
  {
   "cell_type": "markdown",
   "metadata": {},
   "source": [
    "En cuanto al gráfico desglosado por grupos, __se observa al grupo 248 (grupo B) levemente superior a los otros dos grupos__."
   ]
  },
  {
   "cell_type": "markdown",
   "metadata": {},
   "source": [
    "#### ¿Cual la cantidad de usuarios y usuarias que realizaron cada una de las acciones registradas?"
   ]
  },
  {
   "cell_type": "markdown",
   "metadata": {},
   "source": [
    "De la misma manera que en el paso anterior (filtrando y graficando) se obtendrá la cantidad de usuarios que realizaron cada acción."
   ]
  },
  {
   "cell_type": "code",
   "execution_count": 19,
   "metadata": {},
   "outputs": [
    {
     "data": {
      "image/png": "[encoded data removed]",
      "text/plain": [
       "<Figure size 640x480 with 1 Axes>"
      ]
     },
     "metadata": {},
     "output_type": "display_data"
    }
   ],
   "source": [
    "ax = new_df.groupby('event')['device_id'].nunique().sort_values(ascending=False).plot(kind='bar', rot=75, grid=True, xlabel='Evento', ylabel='Cantidad de usuarios', title='Usuarios registrados por evento')\n",
    "for p in ax.patches:\n",
    "    ax.annotate(str(int(p.get_height())), (p.get_x() + p.get_width() / 2., p.get_height()),\n",
    "                ha='center', va='center', xytext=(0, 5), textcoords='offset points', fontsize=8, color='blue');"
   ]
  },
  {
   "cell_type": "markdown",
   "metadata": {},
   "source": [
    "Las proporciones de usuarios por evento coinciden con el gráfico anterior, sin embargo, la diferencia entre la pantalla principal y la pantalla de oferta es menor que en el gráfico de eventos, esto significa que __los usuarios tienden a visitar la pantalla principal muchas veces antes de concretar una compra__ (se puede seguir profundizando en esto)."
   ]
  },
  {
   "cell_type": "code",
   "execution_count": 20,
   "metadata": {},
   "outputs": [
    {
     "data": {
      "image/png": "[encoded data removed]",
      "text/plain": [
       "<Figure size 640x480 with 1 Axes>"
      ]
     },
     "metadata": {},
     "output_type": "display_data"
    }
   ],
   "source": [
    "bar = new_df.groupby(['event', 'group'])['device_id'].nunique().reset_index()\n",
    "sns.barplot(data=bar, x='event', y='device_id', hue='group', order=['MainScreenAppear', 'OffersScreenAppear', 'CartScreenAppear', 'PaymentScreenSuccessful', 'Tutorial'])\n",
    "plt.xticks(rotation=75)\n",
    "plt.title('Usuarios registrados por evento (división por grupos)')\n",
    "plt.grid(True)"
   ]
  },
  {
   "cell_type": "markdown",
   "metadata": {},
   "source": [
    "En cuanto al desglose por grupos, podemos darnos cuenta de que __la cantidad de usuarios por grupo esta muy pareja__."
   ]
  },
  {
   "cell_type": "markdown",
   "metadata": {},
   "source": [
    "#### ¿En qué orden ocurrieron las acciones?"
   ]
  },
  {
   "cell_type": "markdown",
   "metadata": {},
   "source": [
    "Ahora se comprobará el orden de las acciones, para ello, se extraerán dos id de dispositivo que hayan completado el tutorial y se observará la cronología de eventos que completaron en la web."
   ]
  },
  {
   "cell_type": "code",
   "execution_count": 21,
   "metadata": {},
   "outputs": [
    {
     "data": {
      "text/html": [
       "<div>\n",
       "<style scoped>\n",
       "    .dataframe tbody tr th:only-of-type {\n",
       "        vertical-align: middle;\n",
       "    }\n",
       "\n",
       "    .dataframe tbody tr th {\n",
       "        vertical-align: top;\n",
       "    }\n",
       "\n",
       "    .dataframe thead th {\n",
       "        text-align: right;\n",
       "    }\n",
       "</style>\n",
       "<table border=\"1\" class=\"dataframe\">\n",
       "  <thead>\n",
       "    <tr style=\"text-align: right;\">\n",
       "      <th></th>\n",
       "      <th>event</th>\n",
       "      <th>device_id</th>\n",
       "      <th>ts</th>\n",
       "      <th>group</th>\n",
       "      <th>date</th>\n",
       "      <th>hour</th>\n",
       "    </tr>\n",
       "  </thead>\n",
       "  <tbody>\n",
       "    <tr>\n",
       "      <th>2828</th>\n",
       "      <td>Tutorial</td>\n",
       "      <td>3737462046622621720</td>\n",
       "      <td>1564618048</td>\n",
       "      <td>246</td>\n",
       "      <td>2019-08-01</td>\n",
       "      <td>00:07</td>\n",
       "    </tr>\n",
       "    <tr>\n",
       "      <th>2841</th>\n",
       "      <td>Tutorial</td>\n",
       "      <td>3737462046622621720</td>\n",
       "      <td>1564618338</td>\n",
       "      <td>246</td>\n",
       "      <td>2019-08-01</td>\n",
       "      <td>00:12</td>\n",
       "    </tr>\n",
       "    <tr>\n",
       "      <th>3353</th>\n",
       "      <td>Tutorial</td>\n",
       "      <td>5587388800188073787</td>\n",
       "      <td>1564625981</td>\n",
       "      <td>247</td>\n",
       "      <td>2019-08-01</td>\n",
       "      <td>02:19</td>\n",
       "    </tr>\n",
       "    <tr>\n",
       "      <th>3433</th>\n",
       "      <td>Tutorial</td>\n",
       "      <td>2988069914968447512</td>\n",
       "      <td>1564626904</td>\n",
       "      <td>246</td>\n",
       "      <td>2019-08-01</td>\n",
       "      <td>02:35</td>\n",
       "    </tr>\n",
       "    <tr>\n",
       "      <th>3590</th>\n",
       "      <td>Tutorial</td>\n",
       "      <td>1884616937397676465</td>\n",
       "      <td>1564628471</td>\n",
       "      <td>247</td>\n",
       "      <td>2019-08-01</td>\n",
       "      <td>03:01</td>\n",
       "    </tr>\n",
       "    <tr>\n",
       "      <th>...</th>\n",
       "      <td>...</td>\n",
       "      <td>...</td>\n",
       "      <td>...</td>\n",
       "      <td>...</td>\n",
       "      <td>...</td>\n",
       "      <td>...</td>\n",
       "    </tr>\n",
       "    <tr>\n",
       "      <th>241781</th>\n",
       "      <td>Tutorial</td>\n",
       "      <td>1309234519709630135</td>\n",
       "      <td>1565204899</td>\n",
       "      <td>247</td>\n",
       "      <td>2019-08-07</td>\n",
       "      <td>19:08</td>\n",
       "    </tr>\n",
       "    <tr>\n",
       "      <th>241869</th>\n",
       "      <td>Tutorial</td>\n",
       "      <td>5523029501947287934</td>\n",
       "      <td>1565205070</td>\n",
       "      <td>247</td>\n",
       "      <td>2019-08-07</td>\n",
       "      <td>19:11</td>\n",
       "    </tr>\n",
       "    <tr>\n",
       "      <th>242673</th>\n",
       "      <td>Tutorial</td>\n",
       "      <td>4069063897900929368</td>\n",
       "      <td>1565206705</td>\n",
       "      <td>248</td>\n",
       "      <td>2019-08-07</td>\n",
       "      <td>19:38</td>\n",
       "    </tr>\n",
       "    <tr>\n",
       "      <th>242695</th>\n",
       "      <td>Tutorial</td>\n",
       "      <td>5862484110925354625</td>\n",
       "      <td>1565206785</td>\n",
       "      <td>247</td>\n",
       "      <td>2019-08-07</td>\n",
       "      <td>19:39</td>\n",
       "    </tr>\n",
       "    <tr>\n",
       "      <th>243542</th>\n",
       "      <td>Tutorial</td>\n",
       "      <td>5365227480683749189</td>\n",
       "      <td>1565209432</td>\n",
       "      <td>248</td>\n",
       "      <td>2019-08-07</td>\n",
       "      <td>20:23</td>\n",
       "    </tr>\n",
       "  </tbody>\n",
       "</table>\n",
       "<p>1005 rows × 6 columns</p>\n",
       "</div>"
      ],
      "text/plain": [
       "           event            device_id          ts  group        date   hour\n",
       "2828    Tutorial  3737462046622621720  1564618048    246  2019-08-01  00:07\n",
       "2841    Tutorial  3737462046622621720  1564618338    246  2019-08-01  00:12\n",
       "3353    Tutorial  5587388800188073787  1564625981    247  2019-08-01  02:19\n",
       "3433    Tutorial  2988069914968447512  1564626904    246  2019-08-01  02:35\n",
       "3590    Tutorial  1884616937397676465  1564628471    247  2019-08-01  03:01\n",
       "...          ...                  ...         ...    ...         ...    ...\n",
       "241781  Tutorial  1309234519709630135  1565204899    247  2019-08-07  19:08\n",
       "241869  Tutorial  5523029501947287934  1565205070    247  2019-08-07  19:11\n",
       "242673  Tutorial  4069063897900929368  1565206705    248  2019-08-07  19:38\n",
       "242695  Tutorial  5862484110925354625  1565206785    247  2019-08-07  19:39\n",
       "243542  Tutorial  5365227480683749189  1565209432    248  2019-08-07  20:23\n",
       "\n",
       "[1005 rows x 6 columns]"
      ]
     },
     "execution_count": 21,
     "metadata": {},
     "output_type": "execute_result"
    }
   ],
   "source": [
    "new_df.query('event == \"Tutorial\"')"
   ]
  },
  {
   "cell_type": "markdown",
   "metadata": {},
   "source": [
    "Se seleccionarán las id de dispositivo `3737462046622621720` y `1309234519709630135`."
   ]
  },
  {
   "cell_type": "code",
   "execution_count": 22,
   "metadata": {},
   "outputs": [
    {
     "data": {
      "text/html": [
       "<div>\n",
       "<style scoped>\n",
       "    .dataframe tbody tr th:only-of-type {\n",
       "        vertical-align: middle;\n",
       "    }\n",
       "\n",
       "    .dataframe tbody tr th {\n",
       "        vertical-align: top;\n",
       "    }\n",
       "\n",
       "    .dataframe thead th {\n",
       "        text-align: right;\n",
       "    }\n",
       "</style>\n",
       "<table border=\"1\" class=\"dataframe\">\n",
       "  <thead>\n",
       "    <tr style=\"text-align: right;\">\n",
       "      <th></th>\n",
       "      <th>event</th>\n",
       "      <th>device_id</th>\n",
       "      <th>ts</th>\n",
       "      <th>group</th>\n",
       "      <th>date</th>\n",
       "      <th>hour</th>\n",
       "    </tr>\n",
       "  </thead>\n",
       "  <tbody>\n",
       "    <tr>\n",
       "      <th>2828</th>\n",
       "      <td>Tutorial</td>\n",
       "      <td>3737462046622621720</td>\n",
       "      <td>1564618048</td>\n",
       "      <td>246</td>\n",
       "      <td>2019-08-01</td>\n",
       "      <td>00:07</td>\n",
       "    </tr>\n",
       "    <tr>\n",
       "      <th>2829</th>\n",
       "      <td>MainScreenAppear</td>\n",
       "      <td>3737462046622621720</td>\n",
       "      <td>1564618080</td>\n",
       "      <td>246</td>\n",
       "      <td>2019-08-01</td>\n",
       "      <td>00:08</td>\n",
       "    </tr>\n",
       "    <tr>\n",
       "      <th>2830</th>\n",
       "      <td>MainScreenAppear</td>\n",
       "      <td>3737462046622621720</td>\n",
       "      <td>1564618135</td>\n",
       "      <td>246</td>\n",
       "      <td>2019-08-01</td>\n",
       "      <td>00:08</td>\n",
       "    </tr>\n",
       "    <tr>\n",
       "      <th>2831</th>\n",
       "      <td>OffersScreenAppear</td>\n",
       "      <td>3737462046622621720</td>\n",
       "      <td>1564618138</td>\n",
       "      <td>246</td>\n",
       "      <td>2019-08-01</td>\n",
       "      <td>00:08</td>\n",
       "    </tr>\n",
       "    <tr>\n",
       "      <th>2834</th>\n",
       "      <td>OffersScreenAppear</td>\n",
       "      <td>3737462046622621720</td>\n",
       "      <td>1564618226</td>\n",
       "      <td>246</td>\n",
       "      <td>2019-08-01</td>\n",
       "      <td>00:10</td>\n",
       "    </tr>\n",
       "    <tr>\n",
       "      <th>2835</th>\n",
       "      <td>MainScreenAppear</td>\n",
       "      <td>3737462046622621720</td>\n",
       "      <td>1564618247</td>\n",
       "      <td>246</td>\n",
       "      <td>2019-08-01</td>\n",
       "      <td>00:10</td>\n",
       "    </tr>\n",
       "    <tr>\n",
       "      <th>2836</th>\n",
       "      <td>MainScreenAppear</td>\n",
       "      <td>3737462046622621720</td>\n",
       "      <td>1564618270</td>\n",
       "      <td>246</td>\n",
       "      <td>2019-08-01</td>\n",
       "      <td>00:11</td>\n",
       "    </tr>\n",
       "    <tr>\n",
       "      <th>2837</th>\n",
       "      <td>MainScreenAppear</td>\n",
       "      <td>3737462046622621720</td>\n",
       "      <td>1564618280</td>\n",
       "      <td>246</td>\n",
       "      <td>2019-08-01</td>\n",
       "      <td>00:11</td>\n",
       "    </tr>\n",
       "    <tr>\n",
       "      <th>2841</th>\n",
       "      <td>Tutorial</td>\n",
       "      <td>3737462046622621720</td>\n",
       "      <td>1564618338</td>\n",
       "      <td>246</td>\n",
       "      <td>2019-08-01</td>\n",
       "      <td>00:12</td>\n",
       "    </tr>\n",
       "    <tr>\n",
       "      <th>2842</th>\n",
       "      <td>MainScreenAppear</td>\n",
       "      <td>3737462046622621720</td>\n",
       "      <td>1564618354</td>\n",
       "      <td>246</td>\n",
       "      <td>2019-08-01</td>\n",
       "      <td>00:12</td>\n",
       "    </tr>\n",
       "    <tr>\n",
       "      <th>14835</th>\n",
       "      <td>MainScreenAppear</td>\n",
       "      <td>3737462046622621720</td>\n",
       "      <td>1564656354</td>\n",
       "      <td>246</td>\n",
       "      <td>2019-08-01</td>\n",
       "      <td>10:45</td>\n",
       "    </tr>\n",
       "    <tr>\n",
       "      <th>21428</th>\n",
       "      <td>MainScreenAppear</td>\n",
       "      <td>3737462046622621720</td>\n",
       "      <td>1564666204</td>\n",
       "      <td>246</td>\n",
       "      <td>2019-08-01</td>\n",
       "      <td>13:30</td>\n",
       "    </tr>\n",
       "    <tr>\n",
       "      <th>21433</th>\n",
       "      <td>OffersScreenAppear</td>\n",
       "      <td>3737462046622621720</td>\n",
       "      <td>1564666212</td>\n",
       "      <td>246</td>\n",
       "      <td>2019-08-01</td>\n",
       "      <td>13:30</td>\n",
       "    </tr>\n",
       "    <tr>\n",
       "      <th>21437</th>\n",
       "      <td>CartScreenAppear</td>\n",
       "      <td>3737462046622621720</td>\n",
       "      <td>1564666220</td>\n",
       "      <td>246</td>\n",
       "      <td>2019-08-01</td>\n",
       "      <td>13:30</td>\n",
       "    </tr>\n",
       "    <tr>\n",
       "      <th>21456</th>\n",
       "      <td>PaymentScreenSuccessful</td>\n",
       "      <td>3737462046622621720</td>\n",
       "      <td>1564666237</td>\n",
       "      <td>246</td>\n",
       "      <td>2019-08-01</td>\n",
       "      <td>13:30</td>\n",
       "    </tr>\n",
       "    <tr>\n",
       "      <th>21461</th>\n",
       "      <td>OffersScreenAppear</td>\n",
       "      <td>3737462046622621720</td>\n",
       "      <td>1564666241</td>\n",
       "      <td>246</td>\n",
       "      <td>2019-08-01</td>\n",
       "      <td>13:30</td>\n",
       "    </tr>\n",
       "    <tr>\n",
       "      <th>21481</th>\n",
       "      <td>PaymentScreenSuccessful</td>\n",
       "      <td>3737462046622621720</td>\n",
       "      <td>1564666261</td>\n",
       "      <td>246</td>\n",
       "      <td>2019-08-01</td>\n",
       "      <td>13:31</td>\n",
       "    </tr>\n",
       "    <tr>\n",
       "      <th>21483</th>\n",
       "      <td>CartScreenAppear</td>\n",
       "      <td>3737462046622621720</td>\n",
       "      <td>1564666262</td>\n",
       "      <td>246</td>\n",
       "      <td>2019-08-01</td>\n",
       "      <td>13:31</td>\n",
       "    </tr>\n",
       "    <tr>\n",
       "      <th>21500</th>\n",
       "      <td>OffersScreenAppear</td>\n",
       "      <td>3737462046622621720</td>\n",
       "      <td>1564666287</td>\n",
       "      <td>246</td>\n",
       "      <td>2019-08-01</td>\n",
       "      <td>13:31</td>\n",
       "    </tr>\n",
       "    <tr>\n",
       "      <th>21506</th>\n",
       "      <td>CartScreenAppear</td>\n",
       "      <td>3737462046622621720</td>\n",
       "      <td>1564666298</td>\n",
       "      <td>246</td>\n",
       "      <td>2019-08-01</td>\n",
       "      <td>13:31</td>\n",
       "    </tr>\n",
       "    <tr>\n",
       "      <th>21515</th>\n",
       "      <td>CartScreenAppear</td>\n",
       "      <td>3737462046622621720</td>\n",
       "      <td>1564666325</td>\n",
       "      <td>246</td>\n",
       "      <td>2019-08-01</td>\n",
       "      <td>13:32</td>\n",
       "    </tr>\n",
       "    <tr>\n",
       "      <th>21535</th>\n",
       "      <td>PaymentScreenSuccessful</td>\n",
       "      <td>3737462046622621720</td>\n",
       "      <td>1564666349</td>\n",
       "      <td>246</td>\n",
       "      <td>2019-08-01</td>\n",
       "      <td>13:32</td>\n",
       "    </tr>\n",
       "    <tr>\n",
       "      <th>21536</th>\n",
       "      <td>CartScreenAppear</td>\n",
       "      <td>3737462046622621720</td>\n",
       "      <td>1564666350</td>\n",
       "      <td>246</td>\n",
       "      <td>2019-08-01</td>\n",
       "      <td>13:32</td>\n",
       "    </tr>\n",
       "    <tr>\n",
       "      <th>26563</th>\n",
       "      <td>MainScreenAppear</td>\n",
       "      <td>3737462046622621720</td>\n",
       "      <td>1564673455</td>\n",
       "      <td>246</td>\n",
       "      <td>2019-08-01</td>\n",
       "      <td>15:30</td>\n",
       "    </tr>\n",
       "    <tr>\n",
       "      <th>35881</th>\n",
       "      <td>MainScreenAppear</td>\n",
       "      <td>3737462046622621720</td>\n",
       "      <td>1564687439</td>\n",
       "      <td>246</td>\n",
       "      <td>2019-08-01</td>\n",
       "      <td>19:23</td>\n",
       "    </tr>\n",
       "    <tr>\n",
       "      <th>35883</th>\n",
       "      <td>OffersScreenAppear</td>\n",
       "      <td>3737462046622621720</td>\n",
       "      <td>1564687443</td>\n",
       "      <td>246</td>\n",
       "      <td>2019-08-01</td>\n",
       "      <td>19:24</td>\n",
       "    </tr>\n",
       "    <tr>\n",
       "      <th>54720</th>\n",
       "      <td>MainScreenAppear</td>\n",
       "      <td>3737462046622621720</td>\n",
       "      <td>1564746202</td>\n",
       "      <td>246</td>\n",
       "      <td>2019-08-02</td>\n",
       "      <td>11:43</td>\n",
       "    </tr>\n",
       "    <tr>\n",
       "      <th>54724</th>\n",
       "      <td>OffersScreenAppear</td>\n",
       "      <td>3737462046622621720</td>\n",
       "      <td>1564746206</td>\n",
       "      <td>246</td>\n",
       "      <td>2019-08-02</td>\n",
       "      <td>11:43</td>\n",
       "    </tr>\n",
       "    <tr>\n",
       "      <th>54786</th>\n",
       "      <td>OffersScreenAppear</td>\n",
       "      <td>3737462046622621720</td>\n",
       "      <td>1564746286</td>\n",
       "      <td>246</td>\n",
       "      <td>2019-08-02</td>\n",
       "      <td>11:44</td>\n",
       "    </tr>\n",
       "    <tr>\n",
       "      <th>85397</th>\n",
       "      <td>MainScreenAppear</td>\n",
       "      <td>3737462046622621720</td>\n",
       "      <td>1564827238</td>\n",
       "      <td>246</td>\n",
       "      <td>2019-08-03</td>\n",
       "      <td>10:13</td>\n",
       "    </tr>\n",
       "    <tr>\n",
       "      <th>95115</th>\n",
       "      <td>MainScreenAppear</td>\n",
       "      <td>3737462046622621720</td>\n",
       "      <td>1564842157</td>\n",
       "      <td>246</td>\n",
       "      <td>2019-08-03</td>\n",
       "      <td>14:22</td>\n",
       "    </tr>\n",
       "    <tr>\n",
       "      <th>95133</th>\n",
       "      <td>PaymentScreenSuccessful</td>\n",
       "      <td>3737462046622621720</td>\n",
       "      <td>1564842169</td>\n",
       "      <td>246</td>\n",
       "      <td>2019-08-03</td>\n",
       "      <td>14:22</td>\n",
       "    </tr>\n",
       "    <tr>\n",
       "      <th>95134</th>\n",
       "      <td>CartScreenAppear</td>\n",
       "      <td>3737462046622621720</td>\n",
       "      <td>1564842169</td>\n",
       "      <td>246</td>\n",
       "      <td>2019-08-03</td>\n",
       "      <td>14:22</td>\n",
       "    </tr>\n",
       "    <tr>\n",
       "      <th>95149</th>\n",
       "      <td>OffersScreenAppear</td>\n",
       "      <td>3737462046622621720</td>\n",
       "      <td>1564842185</td>\n",
       "      <td>246</td>\n",
       "      <td>2019-08-03</td>\n",
       "      <td>14:23</td>\n",
       "    </tr>\n",
       "    <tr>\n",
       "      <th>95981</th>\n",
       "      <td>OffersScreenAppear</td>\n",
       "      <td>3737462046622621720</td>\n",
       "      <td>1564843420</td>\n",
       "      <td>246</td>\n",
       "      <td>2019-08-03</td>\n",
       "      <td>14:43</td>\n",
       "    </tr>\n",
       "    <tr>\n",
       "      <th>155623</th>\n",
       "      <td>MainScreenAppear</td>\n",
       "      <td>3737462046622621720</td>\n",
       "      <td>1565005996</td>\n",
       "      <td>246</td>\n",
       "      <td>2019-08-05</td>\n",
       "      <td>11:53</td>\n",
       "    </tr>\n",
       "    <tr>\n",
       "      <th>155629</th>\n",
       "      <td>OffersScreenAppear</td>\n",
       "      <td>3737462046622621720</td>\n",
       "      <td>1565005999</td>\n",
       "      <td>246</td>\n",
       "      <td>2019-08-05</td>\n",
       "      <td>11:53</td>\n",
       "    </tr>\n",
       "    <tr>\n",
       "      <th>155635</th>\n",
       "      <td>OffersScreenAppear</td>\n",
       "      <td>3737462046622621720</td>\n",
       "      <td>1565006008</td>\n",
       "      <td>246</td>\n",
       "      <td>2019-08-05</td>\n",
       "      <td>11:53</td>\n",
       "    </tr>\n",
       "  </tbody>\n",
       "</table>\n",
       "</div>"
      ],
      "text/plain": [
       "                          event            device_id          ts  group  \\\n",
       "2828                   Tutorial  3737462046622621720  1564618048    246   \n",
       "2829           MainScreenAppear  3737462046622621720  1564618080    246   \n",
       "2830           MainScreenAppear  3737462046622621720  1564618135    246   \n",
       "2831         OffersScreenAppear  3737462046622621720  1564618138    246   \n",
       "2834         OffersScreenAppear  3737462046622621720  1564618226    246   \n",
       "2835           MainScreenAppear  3737462046622621720  1564618247    246   \n",
       "2836           MainScreenAppear  3737462046622621720  1564618270    246   \n",
       "2837           MainScreenAppear  3737462046622621720  1564618280    246   \n",
       "2841                   Tutorial  3737462046622621720  1564618338    246   \n",
       "2842           MainScreenAppear  3737462046622621720  1564618354    246   \n",
       "14835          MainScreenAppear  3737462046622621720  1564656354    246   \n",
       "21428          MainScreenAppear  3737462046622621720  1564666204    246   \n",
       "21433        OffersScreenAppear  3737462046622621720  1564666212    246   \n",
       "21437          CartScreenAppear  3737462046622621720  1564666220    246   \n",
       "21456   PaymentScreenSuccessful  3737462046622621720  1564666237    246   \n",
       "21461        OffersScreenAppear  3737462046622621720  1564666241    246   \n",
       "21481   PaymentScreenSuccessful  3737462046622621720  1564666261    246   \n",
       "21483          CartScreenAppear  3737462046622621720  1564666262    246   \n",
       "21500        OffersScreenAppear  3737462046622621720  1564666287    246   \n",
       "21506          CartScreenAppear  3737462046622621720  1564666298    246   \n",
       "21515          CartScreenAppear  3737462046622621720  1564666325    246   \n",
       "21535   PaymentScreenSuccessful  3737462046622621720  1564666349    246   \n",
       "21536          CartScreenAppear  3737462046622621720  1564666350    246   \n",
       "26563          MainScreenAppear  3737462046622621720  1564673455    246   \n",
       "35881          MainScreenAppear  3737462046622621720  1564687439    246   \n",
       "35883        OffersScreenAppear  3737462046622621720  1564687443    246   \n",
       "54720          MainScreenAppear  3737462046622621720  1564746202    246   \n",
       "54724        OffersScreenAppear  3737462046622621720  1564746206    246   \n",
       "54786        OffersScreenAppear  3737462046622621720  1564746286    246   \n",
       "85397          MainScreenAppear  3737462046622621720  1564827238    246   \n",
       "95115          MainScreenAppear  3737462046622621720  1564842157    246   \n",
       "95133   PaymentScreenSuccessful  3737462046622621720  1564842169    246   \n",
       "95134          CartScreenAppear  3737462046622621720  1564842169    246   \n",
       "95149        OffersScreenAppear  3737462046622621720  1564842185    246   \n",
       "95981        OffersScreenAppear  3737462046622621720  1564843420    246   \n",
       "155623         MainScreenAppear  3737462046622621720  1565005996    246   \n",
       "155629       OffersScreenAppear  3737462046622621720  1565005999    246   \n",
       "155635       OffersScreenAppear  3737462046622621720  1565006008    246   \n",
       "\n",
       "              date   hour  \n",
       "2828    2019-08-01  00:07  \n",
       "2829    2019-08-01  00:08  \n",
       "2830    2019-08-01  00:08  \n",
       "2831    2019-08-01  00:08  \n",
       "2834    2019-08-01  00:10  \n",
       "2835    2019-08-01  00:10  \n",
       "2836    2019-08-01  00:11  \n",
       "2837    2019-08-01  00:11  \n",
       "2841    2019-08-01  00:12  \n",
       "2842    2019-08-01  00:12  \n",
       "14835   2019-08-01  10:45  \n",
       "21428   2019-08-01  13:30  \n",
       "21433   2019-08-01  13:30  \n",
       "21437   2019-08-01  13:30  \n",
       "21456   2019-08-01  13:30  \n",
       "21461   2019-08-01  13:30  \n",
       "21481   2019-08-01  13:31  \n",
       "21483   2019-08-01  13:31  \n",
       "21500   2019-08-01  13:31  \n",
       "21506   2019-08-01  13:31  \n",
       "21515   2019-08-01  13:32  \n",
       "21535   2019-08-01  13:32  \n",
       "21536   2019-08-01  13:32  \n",
       "26563   2019-08-01  15:30  \n",
       "35881   2019-08-01  19:23  \n",
       "35883   2019-08-01  19:24  \n",
       "54720   2019-08-02  11:43  \n",
       "54724   2019-08-02  11:43  \n",
       "54786   2019-08-02  11:44  \n",
       "85397   2019-08-03  10:13  \n",
       "95115   2019-08-03  14:22  \n",
       "95133   2019-08-03  14:22  \n",
       "95134   2019-08-03  14:22  \n",
       "95149   2019-08-03  14:23  \n",
       "95981   2019-08-03  14:43  \n",
       "155623  2019-08-05  11:53  \n",
       "155629  2019-08-05  11:53  \n",
       "155635  2019-08-05  11:53  "
      ]
     },
     "execution_count": 22,
     "metadata": {},
     "output_type": "execute_result"
    }
   ],
   "source": [
    "new_df.query('device_id == 3737462046622621720')"
   ]
  },
  {
   "cell_type": "markdown",
   "metadata": {},
   "source": [
    "En este caso __el Tutorial es efectivamente el primer evento completado__, vamos a analizar ahora la segunda id que es de una fecha diferente."
   ]
  },
  {
   "cell_type": "code",
   "execution_count": 23,
   "metadata": {},
   "outputs": [
    {
     "data": {
      "text/html": [
       "<div>\n",
       "<style scoped>\n",
       "    .dataframe tbody tr th:only-of-type {\n",
       "        vertical-align: middle;\n",
       "    }\n",
       "\n",
       "    .dataframe tbody tr th {\n",
       "        vertical-align: top;\n",
       "    }\n",
       "\n",
       "    .dataframe thead th {\n",
       "        text-align: right;\n",
       "    }\n",
       "</style>\n",
       "<table border=\"1\" class=\"dataframe\">\n",
       "  <thead>\n",
       "    <tr style=\"text-align: right;\">\n",
       "      <th></th>\n",
       "      <th>event</th>\n",
       "      <th>device_id</th>\n",
       "      <th>ts</th>\n",
       "      <th>group</th>\n",
       "      <th>date</th>\n",
       "      <th>hour</th>\n",
       "    </tr>\n",
       "  </thead>\n",
       "  <tbody>\n",
       "    <tr>\n",
       "      <th>241781</th>\n",
       "      <td>Tutorial</td>\n",
       "      <td>1309234519709630135</td>\n",
       "      <td>1565204899</td>\n",
       "      <td>247</td>\n",
       "      <td>2019-08-07</td>\n",
       "      <td>19:08</td>\n",
       "    </tr>\n",
       "    <tr>\n",
       "      <th>241823</th>\n",
       "      <td>MainScreenAppear</td>\n",
       "      <td>1309234519709630135</td>\n",
       "      <td>1565204960</td>\n",
       "      <td>247</td>\n",
       "      <td>2019-08-07</td>\n",
       "      <td>19:09</td>\n",
       "    </tr>\n",
       "    <tr>\n",
       "      <th>241843</th>\n",
       "      <td>MainScreenAppear</td>\n",
       "      <td>1309234519709630135</td>\n",
       "      <td>1565205001</td>\n",
       "      <td>247</td>\n",
       "      <td>2019-08-07</td>\n",
       "      <td>19:10</td>\n",
       "    </tr>\n",
       "    <tr>\n",
       "      <th>241844</th>\n",
       "      <td>OffersScreenAppear</td>\n",
       "      <td>1309234519709630135</td>\n",
       "      <td>1565205005</td>\n",
       "      <td>247</td>\n",
       "      <td>2019-08-07</td>\n",
       "      <td>19:10</td>\n",
       "    </tr>\n",
       "    <tr>\n",
       "      <th>241877</th>\n",
       "      <td>CartScreenAppear</td>\n",
       "      <td>1309234519709630135</td>\n",
       "      <td>1565205090</td>\n",
       "      <td>247</td>\n",
       "      <td>2019-08-07</td>\n",
       "      <td>19:11</td>\n",
       "    </tr>\n",
       "    <tr>\n",
       "      <th>242317</th>\n",
       "      <td>PaymentScreenSuccessful</td>\n",
       "      <td>1309234519709630135</td>\n",
       "      <td>1565205997</td>\n",
       "      <td>247</td>\n",
       "      <td>2019-08-07</td>\n",
       "      <td>19:26</td>\n",
       "    </tr>\n",
       "    <tr>\n",
       "      <th>242341</th>\n",
       "      <td>OffersScreenAppear</td>\n",
       "      <td>1309234519709630135</td>\n",
       "      <td>1565206016</td>\n",
       "      <td>247</td>\n",
       "      <td>2019-08-07</td>\n",
       "      <td>19:26</td>\n",
       "    </tr>\n",
       "    <tr>\n",
       "      <th>242361</th>\n",
       "      <td>OffersScreenAppear</td>\n",
       "      <td>1309234519709630135</td>\n",
       "      <td>1565206049</td>\n",
       "      <td>247</td>\n",
       "      <td>2019-08-07</td>\n",
       "      <td>19:27</td>\n",
       "    </tr>\n",
       "    <tr>\n",
       "      <th>242366</th>\n",
       "      <td>OffersScreenAppear</td>\n",
       "      <td>1309234519709630135</td>\n",
       "      <td>1565206057</td>\n",
       "      <td>247</td>\n",
       "      <td>2019-08-07</td>\n",
       "      <td>19:27</td>\n",
       "    </tr>\n",
       "    <tr>\n",
       "      <th>242558</th>\n",
       "      <td>OffersScreenAppear</td>\n",
       "      <td>1309234519709630135</td>\n",
       "      <td>1565206420</td>\n",
       "      <td>247</td>\n",
       "      <td>2019-08-07</td>\n",
       "      <td>19:33</td>\n",
       "    </tr>\n",
       "  </tbody>\n",
       "</table>\n",
       "</div>"
      ],
      "text/plain": [
       "                          event            device_id          ts  group  \\\n",
       "241781                 Tutorial  1309234519709630135  1565204899    247   \n",
       "241823         MainScreenAppear  1309234519709630135  1565204960    247   \n",
       "241843         MainScreenAppear  1309234519709630135  1565205001    247   \n",
       "241844       OffersScreenAppear  1309234519709630135  1565205005    247   \n",
       "241877         CartScreenAppear  1309234519709630135  1565205090    247   \n",
       "242317  PaymentScreenSuccessful  1309234519709630135  1565205997    247   \n",
       "242341       OffersScreenAppear  1309234519709630135  1565206016    247   \n",
       "242361       OffersScreenAppear  1309234519709630135  1565206049    247   \n",
       "242366       OffersScreenAppear  1309234519709630135  1565206057    247   \n",
       "242558       OffersScreenAppear  1309234519709630135  1565206420    247   \n",
       "\n",
       "              date   hour  \n",
       "241781  2019-08-07  19:08  \n",
       "241823  2019-08-07  19:09  \n",
       "241843  2019-08-07  19:10  \n",
       "241844  2019-08-07  19:10  \n",
       "241877  2019-08-07  19:11  \n",
       "242317  2019-08-07  19:26  \n",
       "242341  2019-08-07  19:26  \n",
       "242361  2019-08-07  19:27  \n",
       "242366  2019-08-07  19:27  \n",
       "242558  2019-08-07  19:33  "
      ]
     },
     "execution_count": 23,
     "metadata": {},
     "output_type": "execute_result"
    }
   ],
   "source": [
    "new_df.query('device_id == 1309234519709630135')"
   ]
  },
  {
   "cell_type": "markdown",
   "metadata": {},
   "source": [
    "En el segundo caso el también el tutorial es el primer evento completado, por lo que el orden de eventos sería el siguiente:\n",
    "- __Tutorial (opcional)__.\n",
    "- __Pantalla principal__.\n",
    "- __Pantalla de oferta__.\n",
    "- __Pantalla de carrito__.\n",
    "- __Pago exitoso__."
   ]
  },
  {
   "cell_type": "markdown",
   "metadata": {},
   "source": [
    "#### ¿Cual es la proporción de usuarios y usuarias que pasan de una etapa a la siguiente?"
   ]
  },
  {
   "cell_type": "markdown",
   "metadata": {},
   "source": [
    "Para trabajar con esta métrica se debe, primero, tener presente el número total de usuarios registrados en el nuevo dataset filtrado."
   ]
  },
  {
   "cell_type": "code",
   "execution_count": 24,
   "metadata": {},
   "outputs": [
    {
     "data": {
      "text/plain": [
       "7534"
      ]
     },
     "execution_count": 24,
     "metadata": {},
     "output_type": "execute_result"
    }
   ],
   "source": [
    "new_df['device_id'].nunique()"
   ]
  },
  {
   "cell_type": "markdown",
   "metadata": {},
   "source": [
    "Hay __7534 usuarios y registrados__ en el nuevo dataset. Ahora se construirá un gráfico de embudo con los porcentajes visibles para cada evento respecto del total y respecto de la etapa anterior."
   ]
  },
  {
   "cell_type": "code",
   "execution_count": 25,
   "metadata": {},
   "outputs": [],
   "source": [
    "fig = go.Figure(go.Funnel(\n",
    "    y = [\"MainScreenAppear\", \"OffersScreenAppear\", \"CartScreenAppear\", \"PaymentScreenSuccessful\"],\n",
    "    x = [7419, 4593, 3734, 3539],\n",
    "    textposition = \"inside\",\n",
    "    textinfo = \"value+percent previous+percent initial\"\n",
    "    ))"
   ]
  },
  {
   "cell_type": "markdown",
   "metadata": {},
   "source": [
    "(Se adjunta una foto debido a que la librería `Figure` de gráficos interactivos, necesita tener el kernel funcionando para mostrar la visualización, debido a eso, una imagen adjunta es más práctico.)"
   ]
  },
  {
   "attachments": {
    "Funnel.png": {
     "image/png": "[encoded data removed]"
    }
   },
   "cell_type": "markdown",
   "metadata": {},
   "source": [
    "![Funnel.png](attachment:Funnel.png)"
   ]
  },
  {
   "cell_type": "markdown",
   "metadata": {},
   "source": [
    "Comparandolo con otros embudos de ventas, este se ve muy bien, ya que __un 48% de los usuarios completó el Funnel hasta el pago__. Analizando las pérdidas se puede apreciar que donde más se pierden usuarios es en la transición de __la pantalla inicial a la pantalla de oferta, donde abandona el 38% de los usuarios__ que ven la pantalla inicial. \n",
    "\n",
    "Ahora visualizaremos el mismo funnel, pero con divisiones por grupos, para esto debemos comenzar crando un dataset agrupado por evento, por cada grupo de prueba."
   ]
  },
  {
   "cell_type": "code",
   "execution_count": 40,
   "metadata": {},
   "outputs": [
    {
     "data": {
      "text/html": [
       "<div>\n",
       "<style scoped>\n",
       "    .dataframe tbody tr th:only-of-type {\n",
       "        vertical-align: middle;\n",
       "    }\n",
       "\n",
       "    .dataframe tbody tr th {\n",
       "        vertical-align: top;\n",
       "    }\n",
       "\n",
       "    .dataframe thead th {\n",
       "        text-align: right;\n",
       "    }\n",
       "</style>\n",
       "<table border=\"1\" class=\"dataframe\">\n",
       "  <thead>\n",
       "    <tr style=\"text-align: right;\">\n",
       "      <th></th>\n",
       "      <th>event</th>\n",
       "      <th>device_id</th>\n",
       "    </tr>\n",
       "  </thead>\n",
       "  <tbody>\n",
       "    <tr>\n",
       "      <th>0</th>\n",
       "      <td>MainScreenAppear</td>\n",
       "      <td>2450</td>\n",
       "    </tr>\n",
       "    <tr>\n",
       "      <th>1</th>\n",
       "      <td>OffersScreenAppear</td>\n",
       "      <td>1542</td>\n",
       "    </tr>\n",
       "    <tr>\n",
       "      <th>2</th>\n",
       "      <td>CartScreenAppear</td>\n",
       "      <td>1266</td>\n",
       "    </tr>\n",
       "    <tr>\n",
       "      <th>3</th>\n",
       "      <td>PaymentScreenSuccessful</td>\n",
       "      <td>1200</td>\n",
       "    </tr>\n",
       "    <tr>\n",
       "      <th>4</th>\n",
       "      <td>Tutorial</td>\n",
       "      <td>278</td>\n",
       "    </tr>\n",
       "  </tbody>\n",
       "</table>\n",
       "</div>"
      ],
      "text/plain": [
       "                     event  device_id\n",
       "0         MainScreenAppear       2450\n",
       "1       OffersScreenAppear       1542\n",
       "2         CartScreenAppear       1266\n",
       "3  PaymentScreenSuccessful       1200\n",
       "4                 Tutorial        278"
      ]
     },
     "execution_count": 40,
     "metadata": {},
     "output_type": "execute_result"
    }
   ],
   "source": [
    "g246 = new_df[new_df['group'] == 246].groupby('event')['device_id'].nunique().sort_values(ascending=False).reset_index()\n",
    "g247 = new_df[new_df['group'] == 247].groupby('event')['device_id'].nunique().sort_values(ascending=False).reset_index()\n",
    "g248 = new_df[new_df['group'] == 248].groupby('event')['device_id'].nunique().sort_values(ascending=False).reset_index()\n",
    "g246"
   ]
  },
  {
   "cell_type": "markdown",
   "metadata": {},
   "source": [
    "Una vez listos los datasets, podemos generar la visualización."
   ]
  },
  {
   "cell_type": "code",
   "execution_count": 43,
   "metadata": {},
   "outputs": [],
   "source": [
    "fig = go.Figure()\n",
    "\n",
    "fig.add_trace(go.Funnel(\n",
    "    name = '246',\n",
    "    meta = g246,\n",
    "    y = g246['event'],\n",
    "    x = g246['device_id'],\n",
    "    textposition = \"inside\",\n",
    "    textinfo = \"value+percent previous+percent initial\"\n",
    "    ))\n",
    "\n",
    "fig.add_trace(go.Funnel(\n",
    "    name = '247',\n",
    "    meta = g247,\n",
    "    y = g247['event'],\n",
    "    x = g247['device_id'],\n",
    "    textposition = \"inside\",\n",
    "    textinfo = \"value+percent previous+percent initial\"\n",
    "    ))\n",
    "\n",
    "fig.add_trace(go.Funnel(\n",
    "    name = '248',\n",
    "    meta = g248,\n",
    "    y = g248['event'],\n",
    "    x = g248['device_id'],\n",
    "    textposition = \"inside\",\n",
    "    textinfo = \"value+percent previous+percent initial\"\n",
    "    ))\n",
    "\n",
    "plt.close()"
   ]
  },
  {
   "cell_type": "markdown",
   "metadata": {},
   "source": [
    "(Se adjunta una foto debido a que la librería `Figure` de gráficos interactivos, necesita tener el kernel funcionando para mostrar la visualización, debido a eso, una imagen adjunta es más práctico.)"
   ]
  },
  {
   "attachments": {
    "newplot%20%281%29.png": {
     "image/png": "[encoded data removed]"
    }
   },
   "cell_type": "markdown",
   "metadata": {},
   "source": [
    "![newplot%20%281%29.png](attachment:newplot%20%281%29.png)"
   ]
  },
  {
   "cell_type": "markdown",
   "metadata": {},
   "source": [
    "El nuevo gráfico nos muestra lo mismo que habíamos visto en los gráficos de barras anteriores, __las tasas de conversión son muy parecidas entre los grupos__. Las diferencias observadas oscilan entre un 1% y un 2% lo que, probablemente, no sea suficiente para que sean estadísticamente significativas, de todas maneras, se realizarán las pruebas correspondientes."
   ]
  },
  {
   "cell_type": "markdown",
   "metadata": {},
   "source": [
    "### Estudiar los resultados del experimento"
   ]
  },
  {
   "cell_type": "markdown",
   "metadata": {},
   "source": [
    "En esta fase se estudiarán los resultados del test A/A/B que se mencionó al principio del informe, mediante los grupos de control se comprobará si la muestra fue aislada correctamente y en el caso que así sea, mediante el grupo de prueba se comprobará si los cambios en la fuente de la aplicación modifican el comportamiento de los usuarios."
   ]
  },
  {
   "cell_type": "markdown",
   "metadata": {},
   "source": [
    "#### ¿Cuántos usuarios y usuarias hay en cada grupo?"
   ]
  },
  {
   "cell_type": "markdown",
   "metadata": {},
   "source": [
    "Antes de hacer pruebas estadísticas necesitamos saber cuántos usuarios hay en cada grupo."
   ]
  },
  {
   "cell_type": "code",
   "execution_count": 28,
   "metadata": {},
   "outputs": [
    {
     "data": {
      "image/png": "[encoded data removed]",
      "text/plain": [
       "<Figure size 640x480 with 1 Axes>"
      ]
     },
     "metadata": {},
     "output_type": "display_data"
    }
   ],
   "source": [
    "ax = new_df.groupby('group')['device_id'].nunique().sort_values(ascending=False).plot(kind='bar', rot=0, grid=True, xlabel='Grupo', ylabel='Cantidad de usuarios', title='Usuarios registrados por grupo')\n",
    "for p in ax.patches:\n",
    "    ax.annotate(str(int(p.get_height())), (p.get_x() + p.get_width() / 2., p.get_height()),\n",
    "                ha='center', va='center', xytext=(0, 5), textcoords='offset points', fontsize=8, color='blue');"
   ]
  },
  {
   "cell_type": "markdown",
   "metadata": {},
   "source": [
    "Las cantidades son muy similares entre los grupos y hay suficientes usuarios para poder tener resultados significativos."
   ]
  },
  {
   "cell_type": "markdown",
   "metadata": {},
   "source": [
    "#### ¿Hay una diferencia estadísticamente significativa entre los grupos de control?"
   ]
  },
  {
   "cell_type": "markdown",
   "metadata": {},
   "source": [
    "Ahora se comprobará, mediante una prueba estadística sobre las proporciones de usuarios que hacen compras y los que no, si es que hay diferencias entre los grupos de control (`246` y `247`)."
   ]
  },
  {
   "cell_type": "code",
   "execution_count": 29,
   "metadata": {},
   "outputs": [
    {
     "data": {
      "text/html": [
       "<div>\n",
       "<style scoped>\n",
       "    .dataframe tbody tr th:only-of-type {\n",
       "        vertical-align: middle;\n",
       "    }\n",
       "\n",
       "    .dataframe tbody tr th {\n",
       "        vertical-align: top;\n",
       "    }\n",
       "\n",
       "    .dataframe thead th {\n",
       "        text-align: right;\n",
       "    }\n",
       "</style>\n",
       "<table border=\"1\" class=\"dataframe\">\n",
       "  <thead>\n",
       "    <tr style=\"text-align: right;\">\n",
       "      <th></th>\n",
       "      <th>device_id</th>\n",
       "      <th>group</th>\n",
       "      <th>converted</th>\n",
       "    </tr>\n",
       "  </thead>\n",
       "  <tbody>\n",
       "    <tr>\n",
       "      <th>0</th>\n",
       "      <td>3737462046622621720</td>\n",
       "      <td>246</td>\n",
       "      <td>1.0</td>\n",
       "    </tr>\n",
       "    <tr>\n",
       "      <th>1</th>\n",
       "      <td>1433840883824088890</td>\n",
       "      <td>247</td>\n",
       "      <td>0.0</td>\n",
       "    </tr>\n",
       "    <tr>\n",
       "      <th>2</th>\n",
       "      <td>4899590676214355127</td>\n",
       "      <td>247</td>\n",
       "      <td>1.0</td>\n",
       "    </tr>\n",
       "    <tr>\n",
       "      <th>3</th>\n",
       "      <td>1182179323890311443</td>\n",
       "      <td>246</td>\n",
       "      <td>0.0</td>\n",
       "    </tr>\n",
       "    <tr>\n",
       "      <th>4</th>\n",
       "      <td>4613461174774205834</td>\n",
       "      <td>248</td>\n",
       "      <td>1.0</td>\n",
       "    </tr>\n",
       "  </tbody>\n",
       "</table>\n",
       "</div>"
      ],
      "text/plain": [
       "             device_id  group  converted\n",
       "0  3737462046622621720    246        1.0\n",
       "1  1433840883824088890    247        0.0\n",
       "2  4899590676214355127    247        1.0\n",
       "3  1182179323890311443    246        0.0\n",
       "4  4613461174774205834    248        1.0"
      ]
     },
     "execution_count": 29,
     "metadata": {},
     "output_type": "execute_result"
    }
   ],
   "source": [
    "conversions = new_df[['device_id', 'group']].drop_duplicates() #Se crea una matriz de id de dispositivo y grupos, para evitar duplicados\n",
    "converted = pd.DataFrame(data={\"device_id\": new_df[new_df[\"event\"] == \"PaymentScreenSuccessful\"][\"device_id\"].unique(), \"converted\": 1}) #Se crea un dataframe donde cada usuario que hizo al menos una compra tiene un booleano de 1\n",
    "conversions = conversions.merge(converted, on=\"device_id\", how=\"left\")\n",
    "conversions[\"converted\"] = conversions[\"converted\"].fillna(0)\n",
    "conversions.head()"
   ]
  },
  {
   "cell_type": "markdown",
   "metadata": {},
   "source": [
    "Lo primero que se hizo aquí es crear una matriz de `device_id` y grupos, para hacer la division por grupos entre los usuarios y eliminar la posibilidad de que un mismo id esté en más de un grupo, luego se crea un dataset donde cada `device_id` que hizo al menos una compra, tiene en la columna `converted` un booleano 1, finalmente se combina con la matriz quedando todos los id que no hicieron compras como valores ausentes, estos se rellenan con ceros quedando lista la clasificación por compra por cliente.\n",
    "\n",
    "Ahora solo queda aplicar la formula para la prueba estadística."
   ]
  },
  {
   "cell_type": "code",
   "execution_count": 30,
   "metadata": {},
   "outputs": [
    {
     "name": "stdout",
     "output_type": "stream",
     "text": [
      "[1200 1158]\n",
      "[2484 2513]\n",
      "246: 48.31% %   247: 46.08% %.\n",
      "p-value:  0.11456679313141849\n",
      "No se pudo rechazar la hipótesis nula: no hay razón para pensar que las proporciones son diferentes\n"
     ]
    }
   ],
   "source": [
    "alpha = .05 #  nivel de significación\n",
    "\n",
    "purchases = np.array([len(conversions.query('group == 246 and converted == 1')), len(conversions.query('group == 247 and converted == 1'))])\n",
    "leads = np.array([len(conversions.query('group == 246')), len(conversions.query('group == 247'))])\n",
    "\n",
    "print(purchases)\n",
    "print(leads)\n",
    "\n",
    "p1 = purchases[0]/leads[0]\n",
    "p2 = purchases[1]/leads[1]\n",
    "p_combined = ((purchases[0] + purchases[1]) / (leads[0] + leads[1]))\n",
    "difference = p1 - p2\n",
    "\n",
    "print('246:', format(p1, '.2%'), '%  ','247:',format(p2, '.2%'), '%.')\n",
    "\n",
    "z_value = difference / mt.sqrt(p_combined * (1 - p_combined) * (1/leads[0] + 1/leads[1]))\n",
    "\n",
    "distr = st.norm(0, 1) \n",
    "\n",
    "p_value = (1 - distr.cdf(abs(z_value))) * 2 \n",
    "\n",
    "print('p-value: ', p_value)\n",
    "\n",
    "if (p_value < alpha):\n",
    "    print(\"Rechazar la hipótesis nula: hay una diferencia significativa entre las proporciones\")\n",
    "else:\n",
    "    print(\"No se pudo rechazar la hipótesis nula: no hay razón para pensar que las proporciones son diferentes\")"
   ]
  },
  {
   "cell_type": "markdown",
   "metadata": {},
   "source": [
    "La prueba estadística concluye que __no hay diferencias significativas entre la tasa de conversión de los grupos de control__."
   ]
  },
  {
   "cell_type": "markdown",
   "metadata": {},
   "source": [
    "#### ¿Qué conclusiones se pueden sacar del experimento?"
   ]
  },
  {
   "cell_type": "markdown",
   "metadata": {},
   "source": [
    "Para poder sacar conclusiones del experimiento, se definirá una función para calcular las diferencias estadísticas entre los eventos y los grupos del dataset, el cálculo anterior ayudará a corroborar que la función trabaje adecuadamente."
   ]
  },
  {
   "cell_type": "code",
   "execution_count": 31,
   "metadata": {},
   "outputs": [],
   "source": [
    "def prop_test(group_1, group_2, event):\n",
    "    \n",
    "    conversions = new_df[['device_id', 'group']].drop_duplicates()\n",
    "    converted = pd.DataFrame(data={\"device_id\": new_df[new_df[\"event\"] == event][\"device_id\"].unique(), \"converted\": 1})\n",
    "    conversions = conversions.merge(converted, on=\"device_id\", how=\"left\")\n",
    "    conversions[\"converted\"] = conversions[\"converted\"].fillna(0)\n",
    "    \n",
    "    purchases = np.array([len(conversions[(conversions['group'] == group_1) & (conversions['converted'] == 1)]), \n",
    "                          len(conversions[(conversions['group'] == group_2) & (conversions['converted'] == 1)])])\n",
    "                          \n",
    "    leads = np.array([len(conversions[conversions['group'] == group_1]), \n",
    "                      len(conversions[conversions['group'] == group_2])])\n",
    "    \n",
    "    print(event, ':',purchases)\n",
    "    print('Total :',leads)\n",
    "    \n",
    "    alpha = .05 / 5 #Corrección de Bonferroni\n",
    "    \n",
    "    p1 = purchases[0]/leads[0]\n",
    "    p2 = purchases[1]/leads[1]\n",
    "    p_combined = ((purchases[0] + purchases[1]) / (leads[0] + leads[1]))\n",
    "    difference = p1 - p2\n",
    "    \n",
    "    print(group_1, ':', format(p1, '.2%'), '%  ', group_2, ':', format(p2, '.2%'), '%.')\n",
    "\n",
    "    z_value = difference / mt.sqrt(p_combined * (1 - p_combined) * (1/leads[0] + 1/leads[1]))\n",
    "\n",
    "    distr = st.norm(0, 1) \n",
    "\n",
    "    p_value = (1 - distr.cdf(abs(z_value))) * 2\n",
    "    \n",
    "    print('p-value: ', p_value)\n",
    "\n",
    "    if (p_value < alpha):\n",
    "        print(\"Rechazar la hipótesis nula: hay una diferencia significativa entre las proporciones\")\n",
    "    else:\n",
    "        print(\"No se pudo rechazar la hipótesis nula: no hay razón para pensar que las proporciones son diferentes\")"
   ]
  },
  {
   "cell_type": "markdown",
   "metadata": {},
   "source": [
    "La función está lista, incorpora todas las salidas y los pasos de la formula, se establece un valor alpha de `.05 / 5` ya que estamos aplicando __la correción de Bonferroni__ para disminuir la probabilidad de error en las múltiples pruebas estadísticas ( se divide por cinco porque son cinco eventos registrados). Funciona proporcionando los grupos a comparar y el nombre del evento, para verificar que funcione bien se observará el resultado del evento `PaymentScreenSuccessful`.\n",
    "\n",
    "Se aplicará la función, primero, entre los grupos de control (`246` y `247`)"
   ]
  },
  {
   "cell_type": "code",
   "execution_count": 32,
   "metadata": {},
   "outputs": [
    {
     "name": "stdout",
     "output_type": "stream",
     "text": [
      "MainScreenAppear : [2450 2476]\n",
      "Total : [2484 2513]\n",
      "246 : 98.63% %   247 : 98.53% %.\n",
      "p-value:  0.7570597232046099\n",
      "No se pudo rechazar la hipótesis nula: no hay razón para pensar que las proporciones son diferentes\n",
      "\n",
      "OffersScreenAppear : [1542 1520]\n",
      "Total : [2484 2513]\n",
      "246 : 62.08% %   247 : 60.49% %.\n",
      "p-value:  0.2480954578522181\n",
      "No se pudo rechazar la hipótesis nula: no hay razón para pensar que las proporciones son diferentes\n",
      "\n",
      "CartScreenAppear : [1266 1238]\n",
      "Total : [2484 2513]\n",
      "246 : 50.97% %   247 : 49.26% %.\n",
      "p-value:  0.22883372237997213\n",
      "No se pudo rechazar la hipótesis nula: no hay razón para pensar que las proporciones son diferentes\n",
      "\n",
      "PaymentScreenSuccessful : [1200 1158]\n",
      "Total : [2484 2513]\n",
      "246 : 48.31% %   247 : 46.08% %.\n",
      "p-value:  0.11456679313141849\n",
      "No se pudo rechazar la hipótesis nula: no hay razón para pensar que las proporciones son diferentes\n",
      "\n",
      "Tutorial : [278 283]\n",
      "Total : [2484 2513]\n",
      "246 : 11.19% %   247 : 11.26% %.\n",
      "p-value:  0.9376996189257114\n",
      "No se pudo rechazar la hipótesis nula: no hay razón para pensar que las proporciones son diferentes\n"
     ]
    }
   ],
   "source": [
    "prop_test(246, 247, 'MainScreenAppear')\n",
    "print()\n",
    "prop_test(246, 247, 'OffersScreenAppear')\n",
    "print()\n",
    "prop_test(246, 247, 'CartScreenAppear')\n",
    "print()\n",
    "prop_test(246, 247, 'PaymentScreenSuccessful')\n",
    "print()\n",
    "prop_test(246, 247, 'Tutorial')"
   ]
  },
  {
   "cell_type": "markdown",
   "metadata": {},
   "source": [
    "La función opera correctamente, ya que el resultado de `PaymentScreenSuccessful` coincide con el del ejercicio anterior.\n",
    "\n",
    "Además se observa que __los grupos de control están bien divididos__, que no hay diferencias estadísticas en ninguno de los eventos, se observan valores p relativamente altos y variaciones bajas en los porcentajes.\n",
    "\n",
    "Ahora se hará la comparación con el grupo de prueba (`248`) para determinar si los cambios de fuente en la aplicación generan resultados positivos, neutrales o negativos. Se mantendrá la funcion con el valor alpha de `.05 / 5` ya que, aunque ahora sean más pruebas estadisticas, los grupos a comparar se repiten, de igual manera, cinco veces (una por cada evento)"
   ]
  },
  {
   "cell_type": "code",
   "execution_count": 33,
   "metadata": {},
   "outputs": [
    {
     "name": "stdout",
     "output_type": "stream",
     "text": [
      "MainScreenAppear : [2450 2493]\n",
      "Total : [2484 2537]\n",
      "246 : 98.63% %   248 : 98.27% %.\n",
      "p-value:  0.2949721933554552\n",
      "No se pudo rechazar la hipótesis nula: no hay razón para pensar que las proporciones son diferentes\n",
      "\n",
      "MainScreenAppear : [2476 2493]\n",
      "Total : [2513 2537]\n",
      "247 : 98.53% %   248 : 98.27% %.\n",
      "p-value:  0.4587053616621515\n",
      "No se pudo rechazar la hipótesis nula: no hay razón para pensar que las proporciones son diferentes\n"
     ]
    }
   ],
   "source": [
    "prop_test(246, 248, 'MainScreenAppear')\n",
    "print()\n",
    "prop_test(247, 248, 'MainScreenAppear')"
   ]
  },
  {
   "cell_type": "markdown",
   "metadata": {},
   "source": [
    "- __No hay diferencia significativa en el evento de muestra de pantalla principal.__"
   ]
  },
  {
   "cell_type": "code",
   "execution_count": 34,
   "metadata": {},
   "outputs": [
    {
     "name": "stdout",
     "output_type": "stream",
     "text": [
      "OffersScreenAppear : [1542 1531]\n",
      "Total : [2484 2537]\n",
      "246 : 62.08% %   248 : 60.35% %.\n",
      "p-value:  0.20836205402738917\n",
      "No se pudo rechazar la hipótesis nula: no hay razón para pensar que las proporciones son diferentes\n",
      "\n",
      "OffersScreenAppear : [1520 1531]\n",
      "Total : [2513 2537]\n",
      "247 : 60.49% %   248 : 60.35% %.\n",
      "p-value:  0.9197817830592261\n",
      "No se pudo rechazar la hipótesis nula: no hay razón para pensar que las proporciones son diferentes\n"
     ]
    }
   ],
   "source": [
    "prop_test(246, 248, 'OffersScreenAppear')\n",
    "print()\n",
    "prop_test(247, 248, 'OffersScreenAppear')"
   ]
  },
  {
   "cell_type": "markdown",
   "metadata": {},
   "source": [
    "- __No hay diferencia significativa en el evento de muestra de pantalla de oferta.__"
   ]
  },
  {
   "cell_type": "code",
   "execution_count": 35,
   "metadata": {},
   "outputs": [
    {
     "name": "stdout",
     "output_type": "stream",
     "text": [
      "CartScreenAppear : [1266 1230]\n",
      "Total : [2484 2537]\n",
      "246 : 50.97% %   248 : 48.48% %.\n",
      "p-value:  0.07842923237520116\n",
      "No se pudo rechazar la hipótesis nula: no hay razón para pensar que las proporciones son diferentes\n",
      "\n",
      "CartScreenAppear : [1238 1230]\n",
      "Total : [2513 2537]\n",
      "247 : 49.26% %   248 : 48.48% %.\n",
      "p-value:  0.5786197879539783\n",
      "No se pudo rechazar la hipótesis nula: no hay razón para pensar que las proporciones son diferentes\n"
     ]
    }
   ],
   "source": [
    "prop_test(246, 248, 'CartScreenAppear')\n",
    "print()\n",
    "prop_test(247, 248, 'CartScreenAppear')"
   ]
  },
  {
   "cell_type": "markdown",
   "metadata": {},
   "source": [
    "- __No hay diferencia significativa en el evento de muestra de pantalla de carrito.__"
   ]
  },
  {
   "cell_type": "code",
   "execution_count": 36,
   "metadata": {},
   "outputs": [
    {
     "name": "stdout",
     "output_type": "stream",
     "text": [
      "PaymentScreenSuccessful : [1200 1181]\n",
      "Total : [2484 2537]\n",
      "246 : 48.31% %   248 : 46.55% %.\n",
      "p-value:  0.2122553275697796\n",
      "No se pudo rechazar la hipótesis nula: no hay razón para pensar que las proporciones son diferentes\n",
      "\n",
      "PaymentScreenSuccessful : [1158 1181]\n",
      "Total : [2513 2537]\n",
      "247 : 46.08% %   248 : 46.55% %.\n",
      "p-value:  0.7373415053803964\n",
      "No se pudo rechazar la hipótesis nula: no hay razón para pensar que las proporciones son diferentes\n"
     ]
    }
   ],
   "source": [
    "prop_test(246, 248, 'PaymentScreenSuccessful')\n",
    "print()\n",
    "prop_test(247, 248, 'PaymentScreenSuccessful')"
   ]
  },
  {
   "cell_type": "markdown",
   "metadata": {},
   "source": [
    "- __No hay diferencia significativa en el evento de muestra de pago exitoso.__"
   ]
  },
  {
   "cell_type": "code",
   "execution_count": 37,
   "metadata": {},
   "outputs": [
    {
     "name": "stdout",
     "output_type": "stream",
     "text": [
      "Tutorial : [278 279]\n",
      "Total : [2484 2537]\n",
      "246 : 11.19% %   248 : 11.00% %.\n",
      "p-value:  0.8264294010087645\n",
      "No se pudo rechazar la hipótesis nula: no hay razón para pensar que las proporciones son diferentes\n",
      "\n",
      "Tutorial : [283 279]\n",
      "Total : [2513 2537]\n",
      "247 : 11.26% %   248 : 11.00% %.\n",
      "p-value:  0.765323922474501\n",
      "No se pudo rechazar la hipótesis nula: no hay razón para pensar que las proporciones son diferentes\n"
     ]
    }
   ],
   "source": [
    "prop_test(246, 248, 'Tutorial')\n",
    "print()\n",
    "prop_test(247, 248, 'Tutorial')"
   ]
  },
  {
   "cell_type": "markdown",
   "metadata": {},
   "source": [
    "- __No hay diferencia significativa en el evento de muestra de tutorial.__"
   ]
  },
  {
   "cell_type": "markdown",
   "metadata": {},
   "source": [
    "Del experimento se concluye que los cambios en la fuente de la aplicación propuestos por el equipo de diseño __no dieron resultados positivos ni tampoco negativos, estadísticamente hablando__, mirando los porcentajes se puede apreciar que estuvieron levemente por debajo de los grupos de control, por lo cual, __no se recomienda hacer los cambios propuestos__."
   ]
  },
  {
   "cell_type": "markdown",
   "metadata": {},
   "source": [
    "#### ¿El nivel de significación ha sido el correcto?"
   ]
  },
  {
   "cell_type": "markdown",
   "metadata": {},
   "source": [
    "Si, en una primera instancia se realizaron todas las pruebas con un nivel de significación de `.05` y los resultados fueron los mismos, __debido a que los valores p son altos (la probabilidad de que sean iguales es muy alta) no habrá variaciones en los resultados al bajar el nivel de significación, de igual manera se aplica la corrección de Bonferroni, ya que es la manera correcta de aplicar las pruebas estadísticas__ en estos casos por la manera en que disminuye las probabilidades de un falso positivo."
   ]
  },
  {
   "cell_type": "code",
   "execution_count": 38,
   "metadata": {},
   "outputs": [
    {
     "name": "stdout",
     "output_type": "stream",
     "text": [
      "Probabilidad de falso positivo sin corrección: 22.62%\n",
      "\n",
      "Probabilidad de falso positivo con corrección: 4.90%\n"
     ]
    }
   ],
   "source": [
    "print('Probabilidad de falso positivo sin corrección:' ,format(1 - (1 - 0.05)**5, '.2%'))\n",
    "print()\n",
    "print('Probabilidad de falso positivo con corrección:',format(1 - (1 - (0.05 / 5))**5, '.2%'))"
   ]
  },
  {
   "cell_type": "markdown",
   "metadata": {},
   "source": [
    "Una drástica disminución (17%) de las probabilidades de falla se observa en este caso."
   ]
  },
  {
   "cell_type": "markdown",
   "metadata": {},
   "source": [
    "## Conclusiones"
   ]
  },
  {
   "cell_type": "markdown",
   "metadata": {},
   "source": [
    "En este apartado se desarollarán ampliamente todas las conclusiones obtenidas en el desarrollo del informe, haciendo hincapié en los hallazgos fundamentales del trabajo, como lo son: hallazgos sobre el registro de los datos, información sobre el embudo de eventos, relevancia de los hallazgos y conclusiones sobre el experimento."
   ]
  },
  {
   "cell_type": "markdown",
   "metadata": {},
   "source": [
    "### Estudio y comprobación de los datos"
   ]
  },
  {
   "cell_type": "markdown",
   "metadata": {},
   "source": [
    "- Se calculó la cantidad de datos por día y se determinó que __hay una cantidad suficiente de datos (eventos, registros de grupo y usuario) para realizar un análisis y pruebas estadísiticas__.\n",
    "- Se observó que __hay datos completos desde el 2019-08-01 en adelante, un rango de una semana__. Se eliminaron los datos de antes de la fecha indicada."
   ]
  },
  {
   "cell_type": "markdown",
   "metadata": {},
   "source": [
    "### Embudo de eventos"
   ]
  },
  {
   "cell_type": "markdown",
   "metadata": {},
   "source": [
    "Hay 5 tipos de evento registrados:\n",
    "- Aparición de pantalla principal.\n",
    "- Aparición de pantalla de ofertas.\n",
    "- Aparición de pantalla de carrito.\n",
    "- Aparición de pantalla de Pago exitoso.\n",
    "- Tutorial.\n",
    "\n",
    "__El tutorial es un opcional que está en la parte superior del embudo__ y que la gran mayoría elige saltar (no quita que pueda ser muy útil para la gente que elige verlo). En cuanto a las hallazgos sobre el paso de los clientes por el embudo, hemos detectado que:\n",
    "- Los usuarios suelen visitar __más de una vez la pantalla principal antes de hacer una compra__.\n",
    "- En donde más se pierden usuarios es __en la transición de pantalla principal a pantalla de oferta__ (un 38%)."
   ]
  },
  {
   "cell_type": "markdown",
   "metadata": {},
   "source": [
    "### Experimento"
   ]
  },
  {
   "cell_type": "markdown",
   "metadata": {},
   "source": [
    "En cuanto al experimento, podemos rescatar que el segmento A/A del test, fue realizado correctamente, ya que no se apreciaron diferencias significativas entre estos grupos. En cuanto al resultado final (como se menciona anteriormente) se concluye que:\n",
    "\n",
    "__No se recomienda implementar el cambio del grupo B, ya que no se rechaza ninguna hipótesis nula en favor de este grupo y, en porcentajes está ligeramente por debajo de los grupos A.__"
   ]
  }
 ],
 "metadata": {
  "ExecuteTimeLog": [
   {
    "duration": 4935,
    "start_time": "2024-08-14T20:24:23.356Z"
   },
   {
    "duration": 359,
    "start_time": "2024-08-14T20:26:16.863Z"
   },
   {
    "duration": 8,
    "start_time": "2024-08-14T20:26:36.949Z"
   },
   {
    "duration": 321,
    "start_time": "2024-08-14T20:26:55.421Z"
   },
   {
    "duration": 5,
    "start_time": "2024-08-14T20:27:06.177Z"
   },
   {
    "duration": 873,
    "start_time": "2024-08-14T20:27:25.465Z"
   },
   {
    "duration": 5,
    "start_time": "2024-08-14T20:27:46.439Z"
   },
   {
    "duration": 5,
    "start_time": "2024-08-14T20:28:36.897Z"
   },
   {
    "duration": 5,
    "start_time": "2024-08-14T20:28:44.515Z"
   },
   {
    "duration": 6,
    "start_time": "2024-08-14T20:28:55.446Z"
   },
   {
    "duration": 301,
    "start_time": "2024-08-14T20:31:03.022Z"
   },
   {
    "duration": 327,
    "start_time": "2024-08-14T20:31:05.491Z"
   },
   {
    "duration": 6,
    "start_time": "2024-08-14T20:31:24.112Z"
   },
   {
    "duration": 302,
    "start_time": "2024-08-14T20:31:34.758Z"
   },
   {
    "duration": 6,
    "start_time": "2024-08-14T20:31:39.777Z"
   },
   {
    "duration": 307,
    "start_time": "2024-08-14T20:31:42.725Z"
   },
   {
    "duration": 307,
    "start_time": "2024-08-14T20:33:22.874Z"
   },
   {
    "duration": 7,
    "start_time": "2024-08-14T20:33:25.503Z"
   },
   {
    "duration": 307,
    "start_time": "2024-08-14T20:33:31.296Z"
   },
   {
    "duration": 960,
    "start_time": "2024-08-14T20:33:40.020Z"
   },
   {
    "duration": 1490,
    "start_time": "2024-08-14T20:33:55.877Z"
   },
   {
    "duration": 174,
    "start_time": "2024-08-14T20:34:03.288Z"
   },
   {
    "duration": 163,
    "start_time": "2024-08-14T20:34:32.853Z"
   },
   {
    "duration": 34,
    "start_time": "2024-08-14T20:34:45.752Z"
   },
   {
    "duration": 31,
    "start_time": "2024-08-14T20:34:51.664Z"
   },
   {
    "duration": 5,
    "start_time": "2024-08-14T20:42:37.381Z"
   },
   {
    "duration": 1086,
    "start_time": "2024-08-14T20:42:48.618Z"
   },
   {
    "duration": 23,
    "start_time": "2024-08-14T20:42:59.030Z"
   },
   {
    "duration": 603,
    "start_time": "2024-08-14T20:43:50.216Z"
   },
   {
    "duration": 166,
    "start_time": "2024-08-14T20:44:07.786Z"
   },
   {
    "duration": 44,
    "start_time": "2024-08-14T20:45:55.685Z"
   },
   {
    "duration": 64,
    "start_time": "2024-08-14T20:46:00.077Z"
   },
   {
    "duration": 19,
    "start_time": "2024-08-14T20:46:20.689Z"
   },
   {
    "duration": 24,
    "start_time": "2024-08-14T20:47:38.582Z"
   },
   {
    "duration": 1687,
    "start_time": "2024-08-14T20:47:52.281Z"
   },
   {
    "duration": 3436,
    "start_time": "2024-08-14T20:51:59.504Z"
   },
   {
    "duration": 3339,
    "start_time": "2024-08-14T20:52:04.351Z"
   },
   {
    "duration": 107,
    "start_time": "2024-08-14T20:52:45.882Z"
   },
   {
    "duration": 204,
    "start_time": "2024-08-14T20:53:20.375Z"
   },
   {
    "duration": 257,
    "start_time": "2024-08-14T20:53:38.737Z"
   },
   {
    "duration": 249,
    "start_time": "2024-08-14T20:54:09.426Z"
   },
   {
    "duration": 116,
    "start_time": "2024-08-14T20:54:34.545Z"
   },
   {
    "duration": 17,
    "start_time": "2024-08-14T20:54:40.922Z"
   },
   {
    "duration": 297,
    "start_time": "2024-08-14T20:56:07.574Z"
   },
   {
    "duration": 60,
    "start_time": "2024-08-14T20:56:29.812Z"
   },
   {
    "duration": 1241,
    "start_time": "2024-08-14T20:56:34.612Z"
   },
   {
    "duration": 201,
    "start_time": "2024-08-14T20:56:35.857Z"
   },
   {
    "duration": 38,
    "start_time": "2024-08-14T20:56:36.061Z"
   },
   {
    "duration": 173,
    "start_time": "2024-08-14T20:56:36.102Z"
   },
   {
    "duration": 92,
    "start_time": "2024-08-14T20:56:36.280Z"
   },
   {
    "duration": 4,
    "start_time": "2024-08-14T20:56:36.375Z"
   },
   {
    "duration": 1315,
    "start_time": "2024-08-14T20:56:36.383Z"
   },
   {
    "duration": 3402,
    "start_time": "2024-08-14T20:56:46.956Z"
   },
   {
    "duration": 3489,
    "start_time": "2024-08-14T20:56:56.542Z"
   },
   {
    "duration": 245,
    "start_time": "2024-08-14T20:57:36.035Z"
   },
   {
    "duration": 1334,
    "start_time": "2024-08-14T20:57:47.514Z"
   },
   {
    "duration": 236,
    "start_time": "2024-08-14T20:57:48.853Z"
   },
   {
    "duration": 49,
    "start_time": "2024-08-14T20:57:49.092Z"
   },
   {
    "duration": 4,
    "start_time": "2024-08-14T20:57:49.143Z"
   },
   {
    "duration": 5,
    "start_time": "2024-08-14T20:57:49.151Z"
   },
   {
    "duration": 3442,
    "start_time": "2024-08-14T20:57:49.159Z"
   },
   {
    "duration": 256,
    "start_time": "2024-08-14T20:57:52.604Z"
   },
   {
    "duration": 126,
    "start_time": "2024-08-14T20:58:52.502Z"
   },
   {
    "duration": 241,
    "start_time": "2024-08-14T20:59:19.727Z"
   },
   {
    "duration": 1283,
    "start_time": "2024-08-14T20:59:27.580Z"
   },
   {
    "duration": 218,
    "start_time": "2024-08-14T20:59:28.868Z"
   },
   {
    "duration": 49,
    "start_time": "2024-08-14T20:59:29.088Z"
   },
   {
    "duration": 5,
    "start_time": "2024-08-14T20:59:29.140Z"
   },
   {
    "duration": 3478,
    "start_time": "2024-08-14T20:59:29.150Z"
   },
   {
    "duration": 244,
    "start_time": "2024-08-14T20:59:32.635Z"
   },
   {
    "duration": 145,
    "start_time": "2024-08-14T20:59:32.882Z"
   },
   {
    "duration": 30,
    "start_time": "2024-08-14T21:00:43.823Z"
   },
   {
    "duration": 10,
    "start_time": "2024-08-14T21:02:37.590Z"
   },
   {
    "duration": 469,
    "start_time": "2024-08-14T21:03:41.477Z"
   },
   {
    "duration": 24,
    "start_time": "2024-08-14T21:03:55.657Z"
   },
   {
    "duration": 23,
    "start_time": "2024-08-14T21:04:04.103Z"
   },
   {
    "duration": 23,
    "start_time": "2024-08-14T21:04:17.937Z"
   },
   {
    "duration": 24,
    "start_time": "2024-08-14T21:05:59.162Z"
   },
   {
    "duration": 387,
    "start_time": "2024-08-14T21:06:37.119Z"
   },
   {
    "duration": 406,
    "start_time": "2024-08-14T21:07:14.167Z"
   },
   {
    "duration": 422,
    "start_time": "2024-08-14T21:07:34.673Z"
   },
   {
    "duration": 453,
    "start_time": "2024-08-14T21:07:49.992Z"
   },
   {
    "duration": 528,
    "start_time": "2024-08-14T21:08:19.875Z"
   },
   {
    "duration": 428,
    "start_time": "2024-08-14T21:08:32.857Z"
   },
   {
    "duration": 55144,
    "start_time": "2024-08-14T21:09:05.257Z"
   },
   {
    "duration": 425,
    "start_time": "2024-08-14T21:11:22.462Z"
   },
   {
    "duration": 477,
    "start_time": "2024-08-14T21:11:51.909Z"
   },
   {
    "duration": 405,
    "start_time": "2024-08-14T21:12:08.085Z"
   },
   {
    "duration": 30,
    "start_time": "2024-08-14T21:14:08.417Z"
   },
   {
    "duration": 33,
    "start_time": "2024-08-14T21:14:11.978Z"
   },
   {
    "duration": 41,
    "start_time": "2024-08-14T21:14:17.553Z"
   },
   {
    "duration": 42,
    "start_time": "2024-08-14T21:14:44.324Z"
   },
   {
    "duration": 32,
    "start_time": "2024-08-14T21:14:56.712Z"
   },
   {
    "duration": 1262,
    "start_time": "2024-08-14T22:22:07.124Z"
   },
   {
    "duration": 181,
    "start_time": "2024-08-14T22:22:08.390Z"
   },
   {
    "duration": 33,
    "start_time": "2024-08-14T22:22:08.575Z"
   },
   {
    "duration": 24,
    "start_time": "2024-08-14T22:22:08.611Z"
   },
   {
    "duration": 3396,
    "start_time": "2024-08-14T22:22:08.640Z"
   },
   {
    "duration": 250,
    "start_time": "2024-08-14T22:22:12.039Z"
   },
   {
    "duration": 142,
    "start_time": "2024-08-14T22:22:12.292Z"
   },
   {
    "duration": 30,
    "start_time": "2024-08-14T22:22:12.437Z"
   },
   {
    "duration": 11,
    "start_time": "2024-08-14T22:22:12.470Z"
   },
   {
    "duration": 54,
    "start_time": "2024-08-14T22:22:12.484Z"
   },
   {
    "duration": 447,
    "start_time": "2024-08-14T22:22:12.541Z"
   },
   {
    "duration": 52,
    "start_time": "2024-08-14T22:22:12.992Z"
   },
   {
    "duration": 18,
    "start_time": "2024-08-14T22:24:49.441Z"
   },
   {
    "duration": 454,
    "start_time": "2024-08-14T22:29:34.734Z"
   },
   {
    "duration": 510,
    "start_time": "2024-08-14T22:29:53.096Z"
   },
   {
    "duration": 606,
    "start_time": "2024-08-14T22:30:48.649Z"
   },
   {
    "duration": 434,
    "start_time": "2024-08-14T22:31:24.387Z"
   },
   {
    "duration": 417,
    "start_time": "2024-08-14T22:31:31.538Z"
   },
   {
    "duration": 454,
    "start_time": "2024-08-14T22:31:59.173Z"
   },
   {
    "duration": 519,
    "start_time": "2024-08-14T22:32:20.282Z"
   },
   {
    "duration": 495,
    "start_time": "2024-08-14T22:32:31.565Z"
   },
   {
    "duration": 36,
    "start_time": "2024-08-14T22:34:22.020Z"
   },
   {
    "duration": 38,
    "start_time": "2024-08-14T22:34:47.532Z"
   },
   {
    "duration": 41,
    "start_time": "2024-08-14T22:34:53.268Z"
   },
   {
    "duration": 39,
    "start_time": "2024-08-14T22:34:58.892Z"
   },
   {
    "duration": 35,
    "start_time": "2024-08-14T22:35:06.323Z"
   },
   {
    "duration": 38,
    "start_time": "2024-08-14T22:35:14.539Z"
   },
   {
    "duration": 41,
    "start_time": "2024-08-14T22:36:08.346Z"
   },
   {
    "duration": 22,
    "start_time": "2024-08-14T22:38:12.892Z"
   },
   {
    "duration": 43,
    "start_time": "2024-08-14T22:38:28.320Z"
   },
   {
    "duration": 37,
    "start_time": "2024-08-15T00:04:39.747Z"
   },
   {
    "duration": 1386,
    "start_time": "2024-08-15T00:04:51.954Z"
   },
   {
    "duration": 0,
    "start_time": "2024-08-15T00:04:53.349Z"
   },
   {
    "duration": 0,
    "start_time": "2024-08-15T00:04:53.352Z"
   },
   {
    "duration": 0,
    "start_time": "2024-08-15T00:04:53.354Z"
   },
   {
    "duration": 0,
    "start_time": "2024-08-15T00:04:53.356Z"
   },
   {
    "duration": 0,
    "start_time": "2024-08-15T00:04:53.358Z"
   },
   {
    "duration": 0,
    "start_time": "2024-08-15T00:04:53.360Z"
   },
   {
    "duration": 0,
    "start_time": "2024-08-15T00:04:53.363Z"
   },
   {
    "duration": 0,
    "start_time": "2024-08-15T00:04:53.365Z"
   },
   {
    "duration": 0,
    "start_time": "2024-08-15T00:04:53.367Z"
   },
   {
    "duration": 0,
    "start_time": "2024-08-15T00:04:53.369Z"
   },
   {
    "duration": 0,
    "start_time": "2024-08-15T00:04:53.372Z"
   },
   {
    "duration": 0,
    "start_time": "2024-08-15T00:04:53.374Z"
   },
   {
    "duration": 547,
    "start_time": "2024-08-15T00:05:47.071Z"
   },
   {
    "duration": 1464,
    "start_time": "2024-08-15T00:05:53.221Z"
   },
   {
    "duration": 201,
    "start_time": "2024-08-15T00:05:54.688Z"
   },
   {
    "duration": 45,
    "start_time": "2024-08-15T00:05:54.892Z"
   },
   {
    "duration": 4,
    "start_time": "2024-08-15T00:05:54.941Z"
   },
   {
    "duration": 3421,
    "start_time": "2024-08-15T00:05:54.950Z"
   },
   {
    "duration": 275,
    "start_time": "2024-08-15T00:05:58.374Z"
   },
   {
    "duration": 179,
    "start_time": "2024-08-15T00:05:58.652Z"
   },
   {
    "duration": 59,
    "start_time": "2024-08-15T00:05:58.839Z"
   },
   {
    "duration": 12,
    "start_time": "2024-08-15T00:05:58.901Z"
   },
   {
    "duration": 44,
    "start_time": "2024-08-15T00:05:58.916Z"
   },
   {
    "duration": 72,
    "start_time": "2024-08-15T00:05:58.964Z"
   },
   {
    "duration": 703,
    "start_time": "2024-08-15T00:05:59.046Z"
   },
   {
    "duration": 44,
    "start_time": "2024-08-15T00:05:59.752Z"
   },
   {
    "duration": 230,
    "start_time": "2024-08-15T00:06:43.659Z"
   },
   {
    "duration": 398,
    "start_time": "2024-08-15T00:06:59.451Z"
   },
   {
    "duration": 41,
    "start_time": "2024-08-15T00:07:19.469Z"
   },
   {
    "duration": 5,
    "start_time": "2024-08-15T00:08:29.165Z"
   },
   {
    "duration": 5,
    "start_time": "2024-08-15T00:09:03.434Z"
   },
   {
    "duration": 11,
    "start_time": "2024-08-15T00:09:57.384Z"
   },
   {
    "duration": 26,
    "start_time": "2024-08-15T00:11:09.452Z"
   },
   {
    "duration": 28,
    "start_time": "2024-08-15T00:12:01.874Z"
   },
   {
    "duration": 10,
    "start_time": "2024-08-15T00:12:12.243Z"
   },
   {
    "duration": 27,
    "start_time": "2024-08-15T00:12:24.981Z"
   },
   {
    "duration": 1473,
    "start_time": "2024-08-15T00:13:03.140Z"
   },
   {
    "duration": 193,
    "start_time": "2024-08-15T00:13:04.618Z"
   },
   {
    "duration": 50,
    "start_time": "2024-08-15T00:13:04.814Z"
   },
   {
    "duration": 5,
    "start_time": "2024-08-15T00:13:04.867Z"
   },
   {
    "duration": 3417,
    "start_time": "2024-08-15T00:13:04.878Z"
   },
   {
    "duration": 295,
    "start_time": "2024-08-15T00:13:08.299Z"
   },
   {
    "duration": 173,
    "start_time": "2024-08-15T00:13:08.598Z"
   },
   {
    "duration": 45,
    "start_time": "2024-08-15T00:13:08.777Z"
   },
   {
    "duration": 16,
    "start_time": "2024-08-15T00:13:08.825Z"
   },
   {
    "duration": 34,
    "start_time": "2024-08-15T00:13:08.845Z"
   },
   {
    "duration": 88,
    "start_time": "2024-08-15T00:13:08.886Z"
   },
   {
    "duration": 670,
    "start_time": "2024-08-15T00:13:08.977Z"
   },
   {
    "duration": 42,
    "start_time": "2024-08-15T00:13:09.651Z"
   },
   {
    "duration": 49,
    "start_time": "2024-08-15T00:13:09.699Z"
   },
   {
    "duration": 291,
    "start_time": "2024-08-15T00:13:09.752Z"
   },
   {
    "duration": 239,
    "start_time": "2024-08-15T00:13:29.947Z"
   },
   {
    "duration": 10,
    "start_time": "2024-08-15T00:13:40.214Z"
   },
   {
    "duration": 192,
    "start_time": "2024-08-15T00:14:07.751Z"
   },
   {
    "duration": 196,
    "start_time": "2024-08-15T00:14:20.611Z"
   },
   {
    "duration": 186,
    "start_time": "2024-08-15T00:14:44.370Z"
   },
   {
    "duration": 219,
    "start_time": "2024-08-15T00:15:32.863Z"
   },
   {
    "duration": 231,
    "start_time": "2024-08-15T00:15:36.806Z"
   },
   {
    "duration": 5,
    "start_time": "2024-08-15T00:17:45.986Z"
   },
   {
    "duration": 18,
    "start_time": "2024-08-15T00:18:54.432Z"
   },
   {
    "duration": 8,
    "start_time": "2024-08-15T00:19:53.270Z"
   },
   {
    "duration": 8,
    "start_time": "2024-08-15T00:20:01.952Z"
   },
   {
    "duration": 19,
    "start_time": "2024-08-15T00:20:23.967Z"
   },
   {
    "duration": 25,
    "start_time": "2024-08-15T00:21:08.636Z"
   },
   {
    "duration": 20,
    "start_time": "2024-08-15T00:22:15.103Z"
   },
   {
    "duration": 402,
    "start_time": "2024-08-15T00:22:45.258Z"
   },
   {
    "duration": 24,
    "start_time": "2024-08-15T00:22:51.089Z"
   },
   {
    "duration": 8,
    "start_time": "2024-08-15T00:23:03.895Z"
   },
   {
    "duration": 16,
    "start_time": "2024-08-15T00:23:12.777Z"
   },
   {
    "duration": 29,
    "start_time": "2024-08-15T00:23:54.636Z"
   },
   {
    "duration": 1114,
    "start_time": "2024-08-15T00:25:06.775Z"
   },
   {
    "duration": 30,
    "start_time": "2024-08-15T00:25:20.203Z"
   },
   {
    "duration": 236,
    "start_time": "2024-08-15T00:27:30.273Z"
   },
   {
    "duration": 352,
    "start_time": "2024-08-15T00:29:55.798Z"
   },
   {
    "duration": 284,
    "start_time": "2024-08-15T00:30:19.094Z"
   },
   {
    "duration": 207,
    "start_time": "2024-08-15T00:30:22.771Z"
   },
   {
    "duration": 248,
    "start_time": "2024-08-15T00:31:35.676Z"
   },
   {
    "duration": 240,
    "start_time": "2024-08-15T00:32:33.611Z"
   },
   {
    "duration": 213,
    "start_time": "2024-08-15T00:32:37.343Z"
   },
   {
    "duration": 69,
    "start_time": "2024-08-15T00:34:17.498Z"
   },
   {
    "duration": 65,
    "start_time": "2024-08-15T00:34:33.527Z"
   },
   {
    "duration": 83,
    "start_time": "2024-08-15T00:34:39.648Z"
   },
   {
    "duration": 278,
    "start_time": "2024-08-15T00:36:20.982Z"
   },
   {
    "duration": 309,
    "start_time": "2024-08-15T00:36:29.179Z"
   },
   {
    "duration": 256,
    "start_time": "2024-08-15T00:36:35.980Z"
   },
   {
    "duration": 284,
    "start_time": "2024-08-15T00:36:53.150Z"
   },
   {
    "duration": 2105,
    "start_time": "2024-08-15T00:37:56.261Z"
   },
   {
    "duration": 15,
    "start_time": "2024-08-15T00:38:12.585Z"
   },
   {
    "duration": 367,
    "start_time": "2024-08-15T00:38:28.400Z"
   },
   {
    "duration": 332,
    "start_time": "2024-08-15T00:40:44.177Z"
   },
   {
    "duration": 314,
    "start_time": "2024-08-15T00:40:54.149Z"
   },
   {
    "duration": 300,
    "start_time": "2024-08-15T00:42:40.047Z"
   },
   {
    "duration": 228,
    "start_time": "2024-08-15T00:42:52.793Z"
   },
   {
    "duration": 290,
    "start_time": "2024-08-15T00:42:59.651Z"
   },
   {
    "duration": 249,
    "start_time": "2024-08-15T00:43:41.164Z"
   },
   {
    "duration": 286,
    "start_time": "2024-08-15T00:43:49.191Z"
   },
   {
    "duration": 283,
    "start_time": "2024-08-15T00:47:09.270Z"
   },
   {
    "duration": 234,
    "start_time": "2024-08-15T00:47:13.031Z"
   },
   {
    "duration": 241,
    "start_time": "2024-08-15T00:47:46.400Z"
   },
   {
    "duration": 279,
    "start_time": "2024-08-15T00:48:43.229Z"
   },
   {
    "duration": 278,
    "start_time": "2024-08-15T00:48:54.898Z"
   },
   {
    "duration": 268,
    "start_time": "2024-08-15T00:49:36.378Z"
   },
   {
    "duration": 272,
    "start_time": "2024-08-15T00:49:54.483Z"
   },
   {
    "duration": 271,
    "start_time": "2024-08-15T00:50:10.808Z"
   },
   {
    "duration": 298,
    "start_time": "2024-08-15T00:50:53.672Z"
   },
   {
    "duration": 298,
    "start_time": "2024-08-15T00:51:21.428Z"
   },
   {
    "duration": 333,
    "start_time": "2024-08-15T00:51:34.394Z"
   },
   {
    "duration": 334,
    "start_time": "2024-08-15T00:52:47.781Z"
   },
   {
    "duration": 74,
    "start_time": "2024-08-15T00:53:40.228Z"
   },
   {
    "duration": 18,
    "start_time": "2024-08-15T00:53:47.204Z"
   },
   {
    "duration": 5,
    "start_time": "2024-08-15T00:58:31.870Z"
   },
   {
    "duration": 27,
    "start_time": "2024-08-15T00:59:24.248Z"
   },
   {
    "duration": 4,
    "start_time": "2024-08-15T01:00:22.424Z"
   },
   {
    "duration": 5,
    "start_time": "2024-08-15T01:00:29.221Z"
   },
   {
    "duration": 8,
    "start_time": "2024-08-15T01:01:27.275Z"
   },
   {
    "duration": 10,
    "start_time": "2024-08-15T01:01:32.453Z"
   },
   {
    "duration": 5,
    "start_time": "2024-08-15T01:01:47.121Z"
   },
   {
    "duration": 25,
    "start_time": "2024-08-15T01:01:57.222Z"
   },
   {
    "duration": 5,
    "start_time": "2024-08-15T01:02:05.302Z"
   },
   {
    "duration": 5,
    "start_time": "2024-08-15T01:02:20.470Z"
   },
   {
    "duration": 27,
    "start_time": "2024-08-15T01:02:44.814Z"
   },
   {
    "duration": 9,
    "start_time": "2024-08-15T01:02:54.240Z"
   },
   {
    "duration": 6,
    "start_time": "2024-08-15T01:03:06.957Z"
   },
   {
    "duration": 5,
    "start_time": "2024-08-15T01:03:34.713Z"
   },
   {
    "duration": 13,
    "start_time": "2024-08-15T01:03:55.952Z"
   },
   {
    "duration": 4,
    "start_time": "2024-08-15T01:04:38.468Z"
   },
   {
    "duration": 6,
    "start_time": "2024-08-15T01:04:59.340Z"
   },
   {
    "duration": 26,
    "start_time": "2024-08-15T01:05:13.532Z"
   },
   {
    "duration": 6,
    "start_time": "2024-08-15T01:05:17.764Z"
   },
   {
    "duration": 6,
    "start_time": "2024-08-15T01:05:30.704Z"
   },
   {
    "duration": 5,
    "start_time": "2024-08-15T01:05:53.492Z"
   },
   {
    "duration": 5,
    "start_time": "2024-08-15T01:06:03.561Z"
   },
   {
    "duration": 28,
    "start_time": "2024-08-15T01:06:45.406Z"
   },
   {
    "duration": 6,
    "start_time": "2024-08-15T01:07:48.190Z"
   },
   {
    "duration": 695,
    "start_time": "2024-08-15T01:10:13.871Z"
   },
   {
    "duration": 88,
    "start_time": "2024-08-15T01:11:56.824Z"
   },
   {
    "duration": 128,
    "start_time": "2024-08-15T01:12:01.725Z"
   },
   {
    "duration": 5160,
    "start_time": "2024-08-16T22:47:13.319Z"
   },
   {
    "duration": 219,
    "start_time": "2024-08-16T22:47:18.484Z"
   },
   {
    "duration": 35,
    "start_time": "2024-08-16T22:47:18.706Z"
   },
   {
    "duration": 24,
    "start_time": "2024-08-16T22:47:18.744Z"
   },
   {
    "duration": 3218,
    "start_time": "2024-08-16T22:47:18.774Z"
   },
   {
    "duration": 263,
    "start_time": "2024-08-16T22:47:21.994Z"
   },
   {
    "duration": 143,
    "start_time": "2024-08-16T22:47:22.260Z"
   },
   {
    "duration": 6,
    "start_time": "2024-08-16T22:47:22.406Z"
   },
   {
    "duration": 12,
    "start_time": "2024-08-16T22:47:22.414Z"
   },
   {
    "duration": 53,
    "start_time": "2024-08-16T22:47:22.429Z"
   },
   {
    "duration": 39,
    "start_time": "2024-08-16T22:47:22.485Z"
   },
   {
    "duration": 548,
    "start_time": "2024-08-16T22:47:22.526Z"
   },
   {
    "duration": 32,
    "start_time": "2024-08-16T22:47:23.078Z"
   },
   {
    "duration": 54,
    "start_time": "2024-08-16T22:47:23.115Z"
   },
   {
    "duration": 242,
    "start_time": "2024-08-16T22:47:23.173Z"
   },
   {
    "duration": 328,
    "start_time": "2024-08-16T22:47:23.417Z"
   },
   {
    "duration": 333,
    "start_time": "2024-08-16T22:47:23.747Z"
   },
   {
    "duration": 10,
    "start_time": "2024-08-16T22:47:24.084Z"
   },
   {
    "duration": 6,
    "start_time": "2024-08-16T22:47:24.097Z"
   },
   {
    "duration": 631,
    "start_time": "2024-08-16T22:47:24.106Z"
   },
   {
    "duration": 550,
    "start_time": "2024-08-16T22:49:56.614Z"
   },
   {
    "duration": 95,
    "start_time": "2024-08-16T22:51:58.431Z"
   },
   {
    "duration": 4,
    "start_time": "2024-08-16T22:52:08.750Z"
   },
   {
    "duration": 346,
    "start_time": "2024-08-16T22:52:13.681Z"
   },
   {
    "duration": 5,
    "start_time": "2024-08-16T22:54:43.598Z"
   },
   {
    "duration": 117,
    "start_time": "2024-08-16T22:57:39.021Z"
   },
   {
    "duration": 84,
    "start_time": "2024-08-16T22:57:56.883Z"
   },
   {
    "duration": 113,
    "start_time": "2024-08-16T22:58:36.317Z"
   },
   {
    "duration": 123,
    "start_time": "2024-08-16T22:58:46.478Z"
   },
   {
    "duration": 139,
    "start_time": "2024-08-16T22:59:07.757Z"
   },
   {
    "duration": 100,
    "start_time": "2024-08-16T22:59:13.179Z"
   },
   {
    "duration": 120,
    "start_time": "2024-08-16T22:59:21.423Z"
   },
   {
    "duration": 9,
    "start_time": "2024-08-16T23:01:52.113Z"
   },
   {
    "duration": 11,
    "start_time": "2024-08-16T23:02:00.379Z"
   },
   {
    "duration": 10,
    "start_time": "2024-08-16T23:06:04.349Z"
   },
   {
    "duration": 1388,
    "start_time": "2024-08-16T23:10:55.500Z"
   },
   {
    "duration": 289,
    "start_time": "2024-08-16T23:11:12.228Z"
   },
   {
    "duration": 5060,
    "start_time": "2024-08-17T17:21:51.166Z"
   },
   {
    "duration": 227,
    "start_time": "2024-08-17T17:21:56.229Z"
   },
   {
    "duration": 34,
    "start_time": "2024-08-17T17:21:56.459Z"
   },
   {
    "duration": 4,
    "start_time": "2024-08-17T17:21:56.497Z"
   },
   {
    "duration": 3241,
    "start_time": "2024-08-17T17:21:56.527Z"
   },
   {
    "duration": 289,
    "start_time": "2024-08-17T17:21:59.772Z"
   },
   {
    "duration": 142,
    "start_time": "2024-08-17T17:22:00.065Z"
   },
   {
    "duration": 17,
    "start_time": "2024-08-17T17:22:00.209Z"
   },
   {
    "duration": 13,
    "start_time": "2024-08-17T17:22:00.229Z"
   },
   {
    "duration": 28,
    "start_time": "2024-08-17T17:22:00.245Z"
   },
   {
    "duration": 65,
    "start_time": "2024-08-17T17:22:00.279Z"
   },
   {
    "duration": 532,
    "start_time": "2024-08-17T17:22:00.347Z"
   },
   {
    "duration": 44,
    "start_time": "2024-08-17T17:22:00.882Z"
   },
   {
    "duration": 35,
    "start_time": "2024-08-17T17:22:00.931Z"
   },
   {
    "duration": 257,
    "start_time": "2024-08-17T17:22:00.969Z"
   },
   {
    "duration": 374,
    "start_time": "2024-08-17T17:22:01.229Z"
   },
   {
    "duration": 327,
    "start_time": "2024-08-17T17:22:01.609Z"
   },
   {
    "duration": 13,
    "start_time": "2024-08-17T17:22:01.938Z"
   },
   {
    "duration": 8,
    "start_time": "2024-08-17T17:22:01.954Z"
   },
   {
    "duration": 311,
    "start_time": "2024-08-17T17:22:01.966Z"
   },
   {
    "duration": 20,
    "start_time": "2024-08-17T17:25:08.326Z"
   },
   {
    "duration": 18,
    "start_time": "2024-08-17T17:37:50.815Z"
   },
   {
    "duration": 1058,
    "start_time": "2024-08-17T17:44:23.521Z"
   },
   {
    "duration": 41,
    "start_time": "2024-08-17T17:45:00.372Z"
   },
   {
    "duration": 473,
    "start_time": "2024-08-17T17:45:15.583Z"
   },
   {
    "duration": 61,
    "start_time": "2024-08-17T17:45:24.730Z"
   },
   {
    "duration": 5277,
    "start_time": "2024-08-18T18:04:41.857Z"
   },
   {
    "duration": 229,
    "start_time": "2024-08-18T18:04:47.138Z"
   },
   {
    "duration": 46,
    "start_time": "2024-08-18T18:04:47.370Z"
   },
   {
    "duration": 6,
    "start_time": "2024-08-18T18:04:47.436Z"
   },
   {
    "duration": 3936,
    "start_time": "2024-08-18T18:04:47.445Z"
   },
   {
    "duration": 282,
    "start_time": "2024-08-18T18:04:51.384Z"
   },
   {
    "duration": 157,
    "start_time": "2024-08-18T18:04:51.669Z"
   },
   {
    "duration": 9,
    "start_time": "2024-08-18T18:04:51.829Z"
   },
   {
    "duration": 14,
    "start_time": "2024-08-18T18:04:51.842Z"
   },
   {
    "duration": 27,
    "start_time": "2024-08-18T18:04:51.861Z"
   },
   {
    "duration": 79,
    "start_time": "2024-08-18T18:04:51.892Z"
   },
   {
    "duration": 543,
    "start_time": "2024-08-18T18:04:51.974Z"
   },
   {
    "duration": 38,
    "start_time": "2024-08-18T18:04:52.520Z"
   },
   {
    "duration": 33,
    "start_time": "2024-08-18T18:04:52.561Z"
   },
   {
    "duration": 258,
    "start_time": "2024-08-18T18:04:52.597Z"
   },
   {
    "duration": 352,
    "start_time": "2024-08-18T18:04:52.859Z"
   },
   {
    "duration": 405,
    "start_time": "2024-08-18T18:04:53.214Z"
   },
   {
    "duration": 19,
    "start_time": "2024-08-18T18:04:53.622Z"
   },
   {
    "duration": 6,
    "start_time": "2024-08-18T18:04:53.644Z"
   },
   {
    "duration": 253,
    "start_time": "2024-08-18T18:04:53.653Z"
   },
   {
    "duration": 132,
    "start_time": "2024-08-18T18:04:53.909Z"
   },
   {
    "duration": 475,
    "start_time": "2024-08-18T18:04:54.044Z"
   },
   {
    "duration": 5116,
    "start_time": "2024-08-19T15:33:56.723Z"
   },
   {
    "duration": 216,
    "start_time": "2024-08-19T15:34:01.842Z"
   },
   {
    "duration": 38,
    "start_time": "2024-08-19T15:34:02.060Z"
   },
   {
    "duration": 4,
    "start_time": "2024-08-19T15:34:02.103Z"
   },
   {
    "duration": 3217,
    "start_time": "2024-08-19T15:34:02.110Z"
   },
   {
    "duration": 259,
    "start_time": "2024-08-19T15:34:05.331Z"
   },
   {
    "duration": 142,
    "start_time": "2024-08-19T15:34:05.593Z"
   },
   {
    "duration": 5,
    "start_time": "2024-08-19T15:34:05.738Z"
   },
   {
    "duration": 26,
    "start_time": "2024-08-19T15:34:05.747Z"
   },
   {
    "duration": 23,
    "start_time": "2024-08-19T15:34:05.779Z"
   },
   {
    "duration": 66,
    "start_time": "2024-08-19T15:34:05.805Z"
   },
   {
    "duration": 551,
    "start_time": "2024-08-19T15:34:05.876Z"
   },
   {
    "duration": 45,
    "start_time": "2024-08-19T15:34:06.430Z"
   },
   {
    "duration": 32,
    "start_time": "2024-08-19T15:34:06.477Z"
   },
   {
    "duration": 258,
    "start_time": "2024-08-19T15:34:06.514Z"
   },
   {
    "duration": 329,
    "start_time": "2024-08-19T15:34:06.775Z"
   },
   {
    "duration": 331,
    "start_time": "2024-08-19T15:34:07.108Z"
   },
   {
    "duration": 26,
    "start_time": "2024-08-19T15:34:07.442Z"
   },
   {
    "duration": 6,
    "start_time": "2024-08-19T15:34:07.472Z"
   },
   {
    "duration": 294,
    "start_time": "2024-08-19T15:34:07.482Z"
   },
   {
    "duration": 120,
    "start_time": "2024-08-19T15:34:07.779Z"
   },
   {
    "duration": 478,
    "start_time": "2024-08-19T15:34:07.902Z"
   },
   {
    "duration": 10,
    "start_time": "2024-08-19T15:35:56.126Z"
   },
   {
    "duration": 22,
    "start_time": "2024-08-19T15:41:42.727Z"
   },
   {
    "duration": 336,
    "start_time": "2024-08-19T16:02:56.440Z"
   },
   {
    "duration": 239,
    "start_time": "2024-08-19T16:03:04.948Z"
   },
   {
    "duration": 320,
    "start_time": "2024-08-19T16:03:24.300Z"
   },
   {
    "duration": 233,
    "start_time": "2024-08-19T16:03:38.237Z"
   },
   {
    "duration": 225,
    "start_time": "2024-08-19T16:03:51.676Z"
   },
   {
    "duration": 307,
    "start_time": "2024-08-19T16:03:57.002Z"
   },
   {
    "duration": 228,
    "start_time": "2024-08-19T16:04:02.875Z"
   },
   {
    "duration": 232,
    "start_time": "2024-08-19T16:04:19.438Z"
   },
   {
    "duration": 326,
    "start_time": "2024-08-19T16:04:34.203Z"
   },
   {
    "duration": 322,
    "start_time": "2024-08-19T16:04:42.279Z"
   },
   {
    "duration": 216,
    "start_time": "2024-08-19T16:04:50.201Z"
   },
   {
    "duration": 11,
    "start_time": "2024-08-19T17:34:16.901Z"
   },
   {
    "duration": 121,
    "start_time": "2024-08-19T17:35:31.630Z"
   },
   {
    "duration": 15,
    "start_time": "2024-08-19T17:37:48.280Z"
   },
   {
    "duration": 530,
    "start_time": "2024-08-19T17:37:52.397Z"
   },
   {
    "duration": 13,
    "start_time": "2024-08-19T17:44:13.377Z"
   },
   {
    "duration": 12,
    "start_time": "2024-08-19T17:46:34.746Z"
   },
   {
    "duration": 132,
    "start_time": "2024-08-19T17:46:38.773Z"
   },
   {
    "duration": 12,
    "start_time": "2024-08-19T17:46:54.512Z"
   },
   {
    "duration": 71,
    "start_time": "2024-08-19T17:46:56.559Z"
   },
   {
    "duration": 12,
    "start_time": "2024-08-19T17:47:29.098Z"
   },
   {
    "duration": 77,
    "start_time": "2024-08-19T17:47:31.106Z"
   },
   {
    "duration": 11,
    "start_time": "2024-08-19T17:47:40.185Z"
   },
   {
    "duration": 94,
    "start_time": "2024-08-19T17:47:43.904Z"
   },
   {
    "duration": 11,
    "start_time": "2024-08-19T17:47:56.961Z"
   },
   {
    "duration": 79,
    "start_time": "2024-08-19T17:47:59.067Z"
   },
   {
    "duration": 11,
    "start_time": "2024-08-19T17:48:13.278Z"
   },
   {
    "duration": 78,
    "start_time": "2024-08-19T17:48:16.085Z"
   },
   {
    "duration": 27,
    "start_time": "2024-08-19T17:49:03.605Z"
   },
   {
    "duration": 12,
    "start_time": "2024-08-19T17:49:06.462Z"
   },
   {
    "duration": 73,
    "start_time": "2024-08-19T17:49:08.388Z"
   },
   {
    "duration": 66,
    "start_time": "2024-08-19T17:50:48.075Z"
   },
   {
    "duration": 70,
    "start_time": "2024-08-19T17:50:50.638Z"
   },
   {
    "duration": 60,
    "start_time": "2024-08-19T17:50:53.055Z"
   },
   {
    "duration": 63,
    "start_time": "2024-08-19T17:50:55.931Z"
   },
   {
    "duration": 71,
    "start_time": "2024-08-19T17:52:05.626Z"
   },
   {
    "duration": 12,
    "start_time": "2024-08-19T17:52:38.572Z"
   },
   {
    "duration": 67,
    "start_time": "2024-08-19T17:52:41.580Z"
   },
   {
    "duration": 13,
    "start_time": "2024-08-19T17:53:18.359Z"
   },
   {
    "duration": 11,
    "start_time": "2024-08-19T17:53:22.596Z"
   },
   {
    "duration": 72,
    "start_time": "2024-08-19T17:53:25.464Z"
   },
   {
    "duration": 64,
    "start_time": "2024-08-19T17:53:28.064Z"
   },
   {
    "duration": 73,
    "start_time": "2024-08-19T17:53:30.874Z"
   },
   {
    "duration": 62,
    "start_time": "2024-08-19T17:53:33.061Z"
   },
   {
    "duration": 51,
    "start_time": "2024-08-19T17:53:35.142Z"
   },
   {
    "duration": 51,
    "start_time": "2024-08-19T18:14:38.432Z"
   },
   {
    "duration": 48,
    "start_time": "2024-08-19T18:15:21.924Z"
   },
   {
    "duration": 58,
    "start_time": "2024-08-19T18:15:24.001Z"
   },
   {
    "duration": 132,
    "start_time": "2024-08-19T18:16:15.431Z"
   },
   {
    "duration": 106,
    "start_time": "2024-08-19T18:16:40.898Z"
   },
   {
    "duration": 164,
    "start_time": "2024-08-19T18:17:40.127Z"
   },
   {
    "duration": 103,
    "start_time": "2024-08-19T18:18:10.411Z"
   },
   {
    "duration": 99,
    "start_time": "2024-08-19T18:19:28.054Z"
   },
   {
    "duration": 10,
    "start_time": "2024-08-19T18:20:03.457Z"
   },
   {
    "duration": 69,
    "start_time": "2024-08-19T18:20:06.553Z"
   },
   {
    "duration": 11,
    "start_time": "2024-08-19T18:21:37.248Z"
   },
   {
    "duration": 70,
    "start_time": "2024-08-19T18:21:40.451Z"
   },
   {
    "duration": 11,
    "start_time": "2024-08-19T18:21:49.047Z"
   },
   {
    "duration": 11,
    "start_time": "2024-08-19T18:23:15.147Z"
   },
   {
    "duration": 76,
    "start_time": "2024-08-19T18:23:17.783Z"
   },
   {
    "duration": 15,
    "start_time": "2024-08-19T18:23:42.115Z"
   },
   {
    "duration": 11,
    "start_time": "2024-08-19T18:23:49.752Z"
   },
   {
    "duration": 66,
    "start_time": "2024-08-19T18:23:53.056Z"
   },
   {
    "duration": 12,
    "start_time": "2024-08-19T18:24:57.683Z"
   },
   {
    "duration": 65,
    "start_time": "2024-08-19T18:25:00.495Z"
   },
   {
    "duration": 11,
    "start_time": "2024-08-19T18:25:23.720Z"
   },
   {
    "duration": 67,
    "start_time": "2024-08-19T18:25:27.447Z"
   },
   {
    "duration": 11,
    "start_time": "2024-08-19T18:25:58.302Z"
   },
   {
    "duration": 66,
    "start_time": "2024-08-19T18:26:01.828Z"
   },
   {
    "duration": 11,
    "start_time": "2024-08-19T18:27:42.260Z"
   },
   {
    "duration": 69,
    "start_time": "2024-08-19T18:27:45.437Z"
   },
   {
    "duration": 56,
    "start_time": "2024-08-19T18:27:56.695Z"
   },
   {
    "duration": 72,
    "start_time": "2024-08-19T18:28:22.837Z"
   },
   {
    "duration": 54,
    "start_time": "2024-08-19T18:28:39.367Z"
   },
   {
    "duration": 12,
    "start_time": "2024-08-19T18:29:15.242Z"
   },
   {
    "duration": 69,
    "start_time": "2024-08-19T18:29:17.551Z"
   },
   {
    "duration": 11,
    "start_time": "2024-08-19T18:29:32.485Z"
   },
   {
    "duration": 69,
    "start_time": "2024-08-19T18:29:35.298Z"
   },
   {
    "duration": 59,
    "start_time": "2024-08-19T18:29:39.290Z"
   },
   {
    "duration": 57,
    "start_time": "2024-08-19T18:29:43.421Z"
   },
   {
    "duration": 53,
    "start_time": "2024-08-19T18:29:52.566Z"
   },
   {
    "duration": 48,
    "start_time": "2024-08-19T18:30:00.875Z"
   },
   {
    "duration": 131,
    "start_time": "2024-08-19T18:30:08.828Z"
   },
   {
    "duration": 130,
    "start_time": "2024-08-19T18:30:15.544Z"
   },
   {
    "duration": 109,
    "start_time": "2024-08-19T18:30:26.708Z"
   },
   {
    "duration": 116,
    "start_time": "2024-08-19T18:30:36.538Z"
   },
   {
    "duration": 104,
    "start_time": "2024-08-19T18:30:42.431Z"
   },
   {
    "duration": 95,
    "start_time": "2024-08-19T18:30:56.318Z"
   },
   {
    "duration": 12,
    "start_time": "2024-08-19T18:31:43.541Z"
   },
   {
    "duration": 70,
    "start_time": "2024-08-19T18:31:46.317Z"
   },
   {
    "duration": 47,
    "start_time": "2024-08-19T18:31:55.189Z"
   },
   {
    "duration": 11,
    "start_time": "2024-08-19T18:35:10.861Z"
   },
   {
    "duration": 67,
    "start_time": "2024-08-19T18:35:22.034Z"
   },
   {
    "duration": 11,
    "start_time": "2024-08-19T18:35:52.539Z"
   },
   {
    "duration": 67,
    "start_time": "2024-08-19T18:35:55.722Z"
   },
   {
    "duration": 11,
    "start_time": "2024-08-19T18:36:14.466Z"
   },
   {
    "duration": 67,
    "start_time": "2024-08-19T18:36:17.620Z"
   },
   {
    "duration": 56,
    "start_time": "2024-08-19T18:36:20.896Z"
   },
   {
    "duration": 58,
    "start_time": "2024-08-19T18:36:23.528Z"
   },
   {
    "duration": 57,
    "start_time": "2024-08-19T18:36:28.327Z"
   },
   {
    "duration": 48,
    "start_time": "2024-08-19T18:36:31.124Z"
   },
   {
    "duration": 133,
    "start_time": "2024-08-19T18:36:33.363Z"
   },
   {
    "duration": 110,
    "start_time": "2024-08-19T18:36:35.980Z"
   },
   {
    "duration": 115,
    "start_time": "2024-08-19T18:36:39.520Z"
   },
   {
    "duration": 111,
    "start_time": "2024-08-19T18:36:43.849Z"
   },
   {
    "duration": 94,
    "start_time": "2024-08-19T18:36:46.375Z"
   },
   {
    "duration": 21,
    "start_time": "2024-08-19T18:40:49.318Z"
   },
   {
    "duration": 12,
    "start_time": "2024-08-19T18:45:46.203Z"
   },
   {
    "duration": 70,
    "start_time": "2024-08-19T18:45:49.482Z"
   },
   {
    "duration": 57,
    "start_time": "2024-08-19T18:46:00.130Z"
   },
   {
    "duration": 58,
    "start_time": "2024-08-19T18:46:02.398Z"
   },
   {
    "duration": 12,
    "start_time": "2024-08-19T18:46:34.667Z"
   },
   {
    "duration": 77,
    "start_time": "2024-08-19T18:46:37.833Z"
   },
   {
    "duration": 12,
    "start_time": "2024-08-19T18:47:11.502Z"
   },
   {
    "duration": 65,
    "start_time": "2024-08-19T18:47:14.263Z"
   },
   {
    "duration": 11,
    "start_time": "2024-08-19T18:47:25.384Z"
   },
   {
    "duration": 69,
    "start_time": "2024-08-19T18:47:28.039Z"
   },
   {
    "duration": 12,
    "start_time": "2024-08-19T18:47:42.371Z"
   },
   {
    "duration": 72,
    "start_time": "2024-08-19T18:47:45.693Z"
   },
   {
    "duration": 56,
    "start_time": "2024-08-19T18:47:49.367Z"
   },
   {
    "duration": 59,
    "start_time": "2024-08-19T18:47:52.146Z"
   },
   {
    "duration": 53,
    "start_time": "2024-08-19T18:47:54.688Z"
   },
   {
    "duration": 51,
    "start_time": "2024-08-19T18:47:58.145Z"
   },
   {
    "duration": 130,
    "start_time": "2024-08-19T18:48:00.940Z"
   },
   {
    "duration": 115,
    "start_time": "2024-08-19T18:48:08.252Z"
   },
   {
    "duration": 115,
    "start_time": "2024-08-19T18:48:12.044Z"
   },
   {
    "duration": 106,
    "start_time": "2024-08-19T18:48:14.364Z"
   },
   {
    "duration": 97,
    "start_time": "2024-08-19T18:48:16.595Z"
   },
   {
    "duration": 5163,
    "start_time": "2024-08-20T01:12:47.764Z"
   },
   {
    "duration": 219,
    "start_time": "2024-08-20T01:12:52.931Z"
   },
   {
    "duration": 34,
    "start_time": "2024-08-20T01:12:53.153Z"
   },
   {
    "duration": 4,
    "start_time": "2024-08-20T01:12:53.190Z"
   },
   {
    "duration": 3228,
    "start_time": "2024-08-20T01:12:53.199Z"
   },
   {
    "duration": 249,
    "start_time": "2024-08-20T01:12:56.430Z"
   },
   {
    "duration": 139,
    "start_time": "2024-08-20T01:12:56.682Z"
   },
   {
    "duration": 5,
    "start_time": "2024-08-20T01:12:56.826Z"
   },
   {
    "duration": 11,
    "start_time": "2024-08-20T01:12:56.835Z"
   },
   {
    "duration": 23,
    "start_time": "2024-08-20T01:12:56.848Z"
   },
   {
    "duration": 76,
    "start_time": "2024-08-20T01:12:56.874Z"
   },
   {
    "duration": 560,
    "start_time": "2024-08-20T01:12:56.952Z"
   },
   {
    "duration": 39,
    "start_time": "2024-08-20T01:12:57.526Z"
   },
   {
    "duration": 31,
    "start_time": "2024-08-20T01:12:57.571Z"
   },
   {
    "duration": 240,
    "start_time": "2024-08-20T01:12:57.626Z"
   },
   {
    "duration": 342,
    "start_time": "2024-08-20T01:12:57.869Z"
   },
   {
    "duration": 338,
    "start_time": "2024-08-20T01:12:58.214Z"
   },
   {
    "duration": 10,
    "start_time": "2024-08-20T01:12:58.557Z"
   },
   {
    "duration": 6,
    "start_time": "2024-08-20T01:12:58.571Z"
   },
   {
    "duration": 300,
    "start_time": "2024-08-20T01:12:58.580Z"
   },
   {
    "duration": 307,
    "start_time": "2024-08-20T01:12:58.883Z"
   },
   {
    "duration": 67,
    "start_time": "2024-08-20T01:12:59.193Z"
   },
   {
    "duration": 23,
    "start_time": "2024-08-20T01:12:59.263Z"
   },
   {
    "duration": 12,
    "start_time": "2024-08-20T01:12:59.289Z"
   },
   {
    "duration": 62,
    "start_time": "2024-08-20T01:12:59.327Z"
   },
   {
    "duration": 70,
    "start_time": "2024-08-20T01:12:59.394Z"
   },
   {
    "duration": 66,
    "start_time": "2024-08-20T01:12:59.467Z"
   },
   {
    "duration": 52,
    "start_time": "2024-08-20T01:12:59.536Z"
   },
   {
    "duration": 69,
    "start_time": "2024-08-20T01:12:59.592Z"
   },
   {
    "duration": 126,
    "start_time": "2024-08-20T01:12:59.664Z"
   },
   {
    "duration": 127,
    "start_time": "2024-08-20T01:12:59.793Z"
   },
   {
    "duration": 116,
    "start_time": "2024-08-20T01:12:59.926Z"
   },
   {
    "duration": 117,
    "start_time": "2024-08-20T01:13:00.046Z"
   },
   {
    "duration": 96,
    "start_time": "2024-08-20T01:13:00.169Z"
   },
   {
    "duration": 4,
    "start_time": "2024-08-20T01:13:11.914Z"
   },
   {
    "duration": 4,
    "start_time": "2024-08-20T01:13:14.947Z"
   },
   {
    "duration": 1303,
    "start_time": "2024-08-20T01:13:22.813Z"
   },
   {
    "duration": 183,
    "start_time": "2024-08-20T01:13:24.119Z"
   },
   {
    "duration": 38,
    "start_time": "2024-08-20T01:13:24.305Z"
   },
   {
    "duration": 4,
    "start_time": "2024-08-20T01:13:24.346Z"
   },
   {
    "duration": 3147,
    "start_time": "2024-08-20T01:13:24.356Z"
   },
   {
    "duration": 278,
    "start_time": "2024-08-20T01:13:27.506Z"
   },
   {
    "duration": 150,
    "start_time": "2024-08-20T01:13:27.788Z"
   },
   {
    "duration": 6,
    "start_time": "2024-08-20T01:13:27.941Z"
   },
   {
    "duration": 13,
    "start_time": "2024-08-20T01:13:27.950Z"
   },
   {
    "duration": 24,
    "start_time": "2024-08-20T01:13:27.966Z"
   },
   {
    "duration": 41,
    "start_time": "2024-08-20T01:13:28.027Z"
   },
   {
    "duration": 543,
    "start_time": "2024-08-20T01:13:28.071Z"
   },
   {
    "duration": 37,
    "start_time": "2024-08-20T01:13:28.617Z"
   },
   {
    "duration": 31,
    "start_time": "2024-08-20T01:13:28.662Z"
   },
   {
    "duration": 262,
    "start_time": "2024-08-20T01:13:28.696Z"
   },
   {
    "duration": 381,
    "start_time": "2024-08-20T01:13:28.961Z"
   },
   {
    "duration": 324,
    "start_time": "2024-08-20T01:13:29.345Z"
   },
   {
    "duration": 10,
    "start_time": "2024-08-20T01:13:29.672Z"
   },
   {
    "duration": 5,
    "start_time": "2024-08-20T01:13:29.686Z"
   },
   {
    "duration": 258,
    "start_time": "2024-08-20T01:13:29.695Z"
   },
   {
    "duration": 307,
    "start_time": "2024-08-20T01:13:29.956Z"
   },
   {
    "duration": 70,
    "start_time": "2024-08-20T01:13:30.266Z"
   },
   {
    "duration": 22,
    "start_time": "2024-08-20T01:13:30.339Z"
   },
   {
    "duration": 13,
    "start_time": "2024-08-20T01:13:30.363Z"
   },
   {
    "duration": 100,
    "start_time": "2024-08-20T01:13:30.379Z"
   },
   {
    "duration": 67,
    "start_time": "2024-08-20T01:13:30.483Z"
   },
   {
    "duration": 59,
    "start_time": "2024-08-20T01:13:30.552Z"
   },
   {
    "duration": 55,
    "start_time": "2024-08-20T01:13:30.627Z"
   },
   {
    "duration": 72,
    "start_time": "2024-08-20T01:13:30.685Z"
   },
   {
    "duration": 143,
    "start_time": "2024-08-20T01:13:30.760Z"
   },
   {
    "duration": 131,
    "start_time": "2024-08-20T01:13:30.906Z"
   },
   {
    "duration": 128,
    "start_time": "2024-08-20T01:13:31.040Z"
   },
   {
    "duration": 117,
    "start_time": "2024-08-20T01:13:31.171Z"
   },
   {
    "duration": 107,
    "start_time": "2024-08-20T01:13:31.292Z"
   },
   {
    "duration": 4928,
    "start_time": "2024-08-20T13:34:09.034Z"
   },
   {
    "duration": 206,
    "start_time": "2024-08-20T13:34:13.965Z"
   },
   {
    "duration": 35,
    "start_time": "2024-08-20T13:34:14.174Z"
   },
   {
    "duration": 4,
    "start_time": "2024-08-20T13:34:14.228Z"
   },
   {
    "duration": 3195,
    "start_time": "2024-08-20T13:34:14.235Z"
   },
   {
    "duration": 258,
    "start_time": "2024-08-20T13:34:17.433Z"
   },
   {
    "duration": 155,
    "start_time": "2024-08-20T13:34:17.694Z"
   },
   {
    "duration": 6,
    "start_time": "2024-08-20T13:34:17.852Z"
   },
   {
    "duration": 11,
    "start_time": "2024-08-20T13:34:17.861Z"
   },
   {
    "duration": 58,
    "start_time": "2024-08-20T13:34:17.878Z"
   },
   {
    "duration": 38,
    "start_time": "2024-08-20T13:34:17.940Z"
   },
   {
    "duration": 548,
    "start_time": "2024-08-20T13:34:17.981Z"
   },
   {
    "duration": 33,
    "start_time": "2024-08-20T13:34:18.532Z"
   },
   {
    "duration": 30,
    "start_time": "2024-08-20T13:34:18.568Z"
   },
   {
    "duration": 246,
    "start_time": "2024-08-20T13:34:18.627Z"
   },
   {
    "duration": 327,
    "start_time": "2024-08-20T13:34:18.876Z"
   },
   {
    "duration": 324,
    "start_time": "2024-08-20T13:34:19.205Z"
   },
   {
    "duration": 10,
    "start_time": "2024-08-20T13:34:19.532Z"
   },
   {
    "duration": 6,
    "start_time": "2024-08-20T13:34:19.545Z"
   },
   {
    "duration": 245,
    "start_time": "2024-08-20T13:34:19.555Z"
   },
   {
    "duration": 304,
    "start_time": "2024-08-20T13:34:19.804Z"
   },
   {
    "duration": 64,
    "start_time": "2024-08-20T13:34:20.111Z"
   },
   {
    "duration": 109,
    "start_time": "2024-08-20T13:34:20.178Z"
   },
   {
    "duration": 12,
    "start_time": "2024-08-20T13:34:20.290Z"
   },
   {
    "duration": 62,
    "start_time": "2024-08-20T13:34:20.325Z"
   },
   {
    "duration": 72,
    "start_time": "2024-08-20T13:34:20.390Z"
   },
   {
    "duration": 67,
    "start_time": "2024-08-20T13:34:20.465Z"
   },
   {
    "duration": 49,
    "start_time": "2024-08-20T13:34:20.541Z"
   },
   {
    "duration": 63,
    "start_time": "2024-08-20T13:34:20.593Z"
   },
   {
    "duration": 133,
    "start_time": "2024-08-20T13:34:20.659Z"
   },
   {
    "duration": 112,
    "start_time": "2024-08-20T13:34:20.795Z"
   },
   {
    "duration": 119,
    "start_time": "2024-08-20T13:34:20.911Z"
   },
   {
    "duration": 103,
    "start_time": "2024-08-20T13:34:21.034Z"
   },
   {
    "duration": 97,
    "start_time": "2024-08-20T13:34:21.140Z"
   },
   {
    "duration": 1279,
    "start_time": "2024-08-20T13:57:38.278Z"
   },
   {
    "duration": 182,
    "start_time": "2024-08-20T13:57:39.560Z"
   },
   {
    "duration": 33,
    "start_time": "2024-08-20T13:57:39.745Z"
   },
   {
    "duration": 5,
    "start_time": "2024-08-20T13:57:39.780Z"
   },
   {
    "duration": 3222,
    "start_time": "2024-08-20T13:57:39.792Z"
   },
   {
    "duration": 245,
    "start_time": "2024-08-20T13:57:43.025Z"
   },
   {
    "duration": 153,
    "start_time": "2024-08-20T13:57:43.273Z"
   },
   {
    "duration": 6,
    "start_time": "2024-08-20T13:57:43.428Z"
   },
   {
    "duration": 10,
    "start_time": "2024-08-20T13:57:43.437Z"
   },
   {
    "duration": 24,
    "start_time": "2024-08-20T13:57:43.450Z"
   },
   {
    "duration": 75,
    "start_time": "2024-08-20T13:57:43.477Z"
   },
   {
    "duration": 529,
    "start_time": "2024-08-20T13:57:43.554Z"
   },
   {
    "duration": 45,
    "start_time": "2024-08-20T13:57:44.086Z"
   },
   {
    "duration": 31,
    "start_time": "2024-08-20T13:57:44.137Z"
   },
   {
    "duration": 255,
    "start_time": "2024-08-20T13:57:44.171Z"
   },
   {
    "duration": 377,
    "start_time": "2024-08-20T13:57:44.429Z"
   },
   {
    "duration": 329,
    "start_time": "2024-08-20T13:57:44.809Z"
   },
   {
    "duration": 10,
    "start_time": "2024-08-20T13:57:45.142Z"
   },
   {
    "duration": 6,
    "start_time": "2024-08-20T13:57:45.155Z"
   },
   {
    "duration": 234,
    "start_time": "2024-08-20T13:57:45.164Z"
   },
   {
    "duration": 301,
    "start_time": "2024-08-20T13:57:45.401Z"
   },
   {
    "duration": 68,
    "start_time": "2024-08-20T13:57:45.705Z"
   },
   {
    "duration": 23,
    "start_time": "2024-08-20T13:57:45.776Z"
   },
   {
    "duration": 33,
    "start_time": "2024-08-20T13:57:45.803Z"
   },
   {
    "duration": 69,
    "start_time": "2024-08-20T13:57:45.839Z"
   },
   {
    "duration": 55,
    "start_time": "2024-08-20T13:57:45.927Z"
   },
   {
    "duration": 83,
    "start_time": "2024-08-20T13:57:45.985Z"
   },
   {
    "duration": 67,
    "start_time": "2024-08-20T13:57:46.071Z"
   },
   {
    "duration": 48,
    "start_time": "2024-08-20T13:57:46.142Z"
   },
   {
    "duration": 156,
    "start_time": "2024-08-20T13:57:46.193Z"
   },
   {
    "duration": 123,
    "start_time": "2024-08-20T13:57:46.352Z"
   },
   {
    "duration": 125,
    "start_time": "2024-08-20T13:57:46.479Z"
   },
   {
    "duration": 109,
    "start_time": "2024-08-20T13:57:46.607Z"
   },
   {
    "duration": 111,
    "start_time": "2024-08-20T13:57:46.718Z"
   },
   {
    "duration": 7,
    "start_time": "2024-08-20T14:04:48.022Z"
   },
   {
    "duration": 6,
    "start_time": "2024-08-20T14:15:48.673Z"
   },
   {
    "duration": 6,
    "start_time": "2024-08-20T14:27:54.958Z"
   },
   {
    "duration": 25,
    "start_time": "2024-08-20T14:28:23.745Z"
   },
   {
    "duration": 162026,
    "start_time": "2024-08-20T14:28:43.680Z"
   },
   {
    "duration": 16,
    "start_time": "2024-08-20T14:32:42.699Z"
   },
   {
    "duration": 239,
    "start_time": "2024-08-20T14:33:05.886Z"
   },
   {
    "duration": 257,
    "start_time": "2024-08-20T14:33:37.622Z"
   },
   {
    "duration": 286,
    "start_time": "2024-08-20T14:33:40.748Z"
   },
   {
    "duration": 261,
    "start_time": "2024-08-20T14:33:48.120Z"
   },
   {
    "duration": 5000,
    "start_time": "2024-08-20T14:34:11.337Z"
   },
   {
    "duration": 2114,
    "start_time": "2024-08-20T14:34:48.036Z"
   },
   {
    "duration": 2123,
    "start_time": "2024-08-20T14:35:00.126Z"
   },
   {
    "duration": 2042,
    "start_time": "2024-08-20T14:35:04.595Z"
   },
   {
    "duration": 2056,
    "start_time": "2024-08-20T14:36:13.660Z"
   },
   {
    "duration": 32,
    "start_time": "2024-08-20T14:36:35.402Z"
   },
   {
    "duration": 584,
    "start_time": "2024-08-20T14:37:26.767Z"
   },
   {
    "duration": 45,
    "start_time": "2024-08-20T14:38:57.978Z"
   },
   {
    "duration": 41,
    "start_time": "2024-08-20T14:39:18.877Z"
   },
   {
    "duration": 220,
    "start_time": "2024-08-20T14:39:42.973Z"
   },
   {
    "duration": 251,
    "start_time": "2024-08-20T14:40:15.398Z"
   },
   {
    "duration": 235,
    "start_time": "2024-08-20T14:40:41.166Z"
   },
   {
    "duration": 226,
    "start_time": "2024-08-20T14:40:53.528Z"
   },
   {
    "duration": 370,
    "start_time": "2024-08-20T14:41:17.736Z"
   },
   {
    "duration": 416,
    "start_time": "2024-08-20T14:41:26.669Z"
   },
   {
    "duration": 1641,
    "start_time": "2024-08-20T14:41:58.810Z"
   },
   {
    "duration": 1622,
    "start_time": "2024-08-20T14:42:25.382Z"
   },
   {
    "duration": 1633,
    "start_time": "2024-08-20T14:47:07.386Z"
   },
   {
    "duration": 6,
    "start_time": "2024-08-20T14:50:08.409Z"
   },
   {
    "duration": 7,
    "start_time": "2024-08-20T15:07:22.400Z"
   },
   {
    "duration": 508,
    "start_time": "2024-08-20T15:12:26.697Z"
   },
   {
    "duration": 8,
    "start_time": "2024-08-20T16:45:08.468Z"
   },
   {
    "duration": 1256,
    "start_time": "2024-08-20T19:05:11.968Z"
   },
   {
    "duration": 184,
    "start_time": "2024-08-20T19:05:13.227Z"
   },
   {
    "duration": 39,
    "start_time": "2024-08-20T19:05:13.414Z"
   },
   {
    "duration": 4,
    "start_time": "2024-08-20T19:05:13.458Z"
   },
   {
    "duration": 3324,
    "start_time": "2024-08-20T19:05:13.466Z"
   },
   {
    "duration": 276,
    "start_time": "2024-08-20T19:05:16.793Z"
   },
   {
    "duration": 162,
    "start_time": "2024-08-20T19:05:17.073Z"
   },
   {
    "duration": 6,
    "start_time": "2024-08-20T19:05:17.238Z"
   },
   {
    "duration": 13,
    "start_time": "2024-08-20T19:05:17.248Z"
   },
   {
    "duration": 2131,
    "start_time": "2024-08-20T19:05:17.269Z"
   },
   {
    "duration": 1721,
    "start_time": "2024-08-20T19:05:19.404Z"
   },
   {
    "duration": 39,
    "start_time": "2024-08-20T19:05:21.129Z"
   },
   {
    "duration": 549,
    "start_time": "2024-08-20T19:05:21.171Z"
   },
   {
    "duration": 31,
    "start_time": "2024-08-20T19:05:21.727Z"
   },
   {
    "duration": 31,
    "start_time": "2024-08-20T19:05:21.761Z"
   },
   {
    "duration": 260,
    "start_time": "2024-08-20T19:05:21.795Z"
   },
   {
    "duration": 315,
    "start_time": "2024-08-20T19:05:22.059Z"
   },
   {
    "duration": 350,
    "start_time": "2024-08-20T19:05:22.378Z"
   },
   {
    "duration": 9,
    "start_time": "2024-08-20T19:05:22.732Z"
   },
   {
    "duration": 7,
    "start_time": "2024-08-20T19:05:22.743Z"
   },
   {
    "duration": 425,
    "start_time": "2024-08-20T19:05:22.753Z"
   },
   {
    "duration": 297,
    "start_time": "2024-08-20T19:05:23.182Z"
   },
   {
    "duration": 68,
    "start_time": "2024-08-20T19:05:23.482Z"
   },
   {
    "duration": 23,
    "start_time": "2024-08-20T19:05:23.554Z"
   },
   {
    "duration": 14,
    "start_time": "2024-08-20T19:05:23.580Z"
   },
   {
    "duration": 68,
    "start_time": "2024-08-20T19:05:23.626Z"
   },
   {
    "duration": 71,
    "start_time": "2024-08-20T19:05:23.697Z"
   },
   {
    "duration": 75,
    "start_time": "2024-08-20T19:05:23.775Z"
   },
   {
    "duration": 57,
    "start_time": "2024-08-20T19:05:23.852Z"
   },
   {
    "duration": 49,
    "start_time": "2024-08-20T19:05:23.927Z"
   },
   {
    "duration": 153,
    "start_time": "2024-08-20T19:05:23.979Z"
   },
   {
    "duration": 120,
    "start_time": "2024-08-20T19:05:24.135Z"
   },
   {
    "duration": 125,
    "start_time": "2024-08-20T19:05:24.257Z"
   },
   {
    "duration": 122,
    "start_time": "2024-08-20T19:05:24.384Z"
   },
   {
    "duration": 104,
    "start_time": "2024-08-20T19:05:24.509Z"
   },
   {
    "duration": 1383,
    "start_time": "2024-08-20T21:05:47.614Z"
   },
   {
    "duration": 190,
    "start_time": "2024-08-20T21:05:49.000Z"
   },
   {
    "duration": 43,
    "start_time": "2024-08-20T21:05:49.193Z"
   },
   {
    "duration": 4,
    "start_time": "2024-08-20T21:05:49.241Z"
   },
   {
    "duration": 3733,
    "start_time": "2024-08-20T21:05:49.248Z"
   },
   {
    "duration": 379,
    "start_time": "2024-08-20T21:05:52.985Z"
   },
   {
    "duration": 224,
    "start_time": "2024-08-20T21:05:53.368Z"
   },
   {
    "duration": 13,
    "start_time": "2024-08-20T21:05:53.596Z"
   },
   {
    "duration": 23,
    "start_time": "2024-08-20T21:05:53.613Z"
   },
   {
    "duration": 2222,
    "start_time": "2024-08-20T21:05:53.646Z"
   },
   {
    "duration": 1844,
    "start_time": "2024-08-20T21:05:55.871Z"
   },
   {
    "duration": 49,
    "start_time": "2024-08-20T21:05:57.719Z"
   },
   {
    "duration": 588,
    "start_time": "2024-08-20T21:05:57.771Z"
   },
   {
    "duration": 42,
    "start_time": "2024-08-20T21:05:58.362Z"
   },
   {
    "duration": 55,
    "start_time": "2024-08-20T21:05:58.408Z"
   },
   {
    "duration": 262,
    "start_time": "2024-08-20T21:05:58.467Z"
   },
   {
    "duration": 332,
    "start_time": "2024-08-20T21:05:58.733Z"
   },
   {
    "duration": 351,
    "start_time": "2024-08-20T21:05:59.070Z"
   },
   {
    "duration": 10,
    "start_time": "2024-08-20T21:05:59.427Z"
   },
   {
    "duration": 6,
    "start_time": "2024-08-20T21:05:59.442Z"
   },
   {
    "duration": 480,
    "start_time": "2024-08-20T21:05:59.451Z"
   },
   {
    "duration": 330,
    "start_time": "2024-08-20T21:05:59.935Z"
   },
   {
    "duration": 73,
    "start_time": "2024-08-20T21:06:00.270Z"
   },
   {
    "duration": 23,
    "start_time": "2024-08-20T21:06:00.348Z"
   },
   {
    "duration": 13,
    "start_time": "2024-08-20T21:06:00.374Z"
   },
   {
    "duration": 99,
    "start_time": "2024-08-20T21:06:00.391Z"
   },
   {
    "duration": 75,
    "start_time": "2024-08-20T21:06:00.494Z"
   },
   {
    "duration": 83,
    "start_time": "2024-08-20T21:06:00.578Z"
   },
   {
    "duration": 72,
    "start_time": "2024-08-20T21:06:00.664Z"
   },
   {
    "duration": 66,
    "start_time": "2024-08-20T21:06:00.740Z"
   },
   {
    "duration": 149,
    "start_time": "2024-08-20T21:06:00.825Z"
   },
   {
    "duration": 155,
    "start_time": "2024-08-20T21:06:00.977Z"
   },
   {
    "duration": 125,
    "start_time": "2024-08-20T21:06:01.135Z"
   },
   {
    "duration": 129,
    "start_time": "2024-08-20T21:06:01.264Z"
   },
   {
    "duration": 126,
    "start_time": "2024-08-20T21:06:01.396Z"
   },
   {
    "duration": 1651,
    "start_time": "2024-08-20T21:10:46.636Z"
   },
   {
    "duration": 35,
    "start_time": "2024-08-20T21:11:09.877Z"
   },
   {
    "duration": 26,
    "start_time": "2024-08-20T21:11:16.953Z"
   },
   {
    "duration": 18,
    "start_time": "2024-08-20T21:11:59.239Z"
   },
   {
    "duration": 20,
    "start_time": "2024-08-20T21:12:20.241Z"
   },
   {
    "duration": 23,
    "start_time": "2024-08-20T21:13:09.195Z"
   },
   {
    "duration": 32,
    "start_time": "2024-08-20T21:13:38.325Z"
   },
   {
    "duration": 25,
    "start_time": "2024-08-20T21:14:31.419Z"
   },
   {
    "duration": 6,
    "start_time": "2024-08-20T21:31:39.646Z"
   },
   {
    "duration": 5,
    "start_time": "2024-08-20T21:33:57.574Z"
   },
   {
    "duration": 11,
    "start_time": "2024-08-20T21:42:03.630Z"
   },
   {
    "duration": 7,
    "start_time": "2024-08-20T21:59:18.338Z"
   },
   {
    "duration": 4824,
    "start_time": "2024-08-23T14:53:14.560Z"
   },
   {
    "duration": 223,
    "start_time": "2024-08-23T14:53:19.387Z"
   },
   {
    "duration": 35,
    "start_time": "2024-08-23T14:53:19.613Z"
   },
   {
    "duration": 4,
    "start_time": "2024-08-23T14:53:19.653Z"
   },
   {
    "duration": 3380,
    "start_time": "2024-08-23T14:53:19.661Z"
   },
   {
    "duration": 252,
    "start_time": "2024-08-23T14:53:23.045Z"
   },
   {
    "duration": 161,
    "start_time": "2024-08-23T14:53:23.300Z"
   },
   {
    "duration": 5,
    "start_time": "2024-08-23T14:53:23.463Z"
   },
   {
    "duration": 11,
    "start_time": "2024-08-23T14:53:23.471Z"
   },
   {
    "duration": 2093,
    "start_time": "2024-08-23T14:53:23.488Z"
   },
   {
    "duration": 1593,
    "start_time": "2024-08-23T14:53:25.584Z"
   },
   {
    "duration": 39,
    "start_time": "2024-08-23T14:53:27.180Z"
   },
   {
    "duration": 527,
    "start_time": "2024-08-23T14:53:27.234Z"
   },
   {
    "duration": 32,
    "start_time": "2024-08-23T14:53:27.764Z"
   },
   {
    "duration": 55,
    "start_time": "2024-08-23T14:53:27.799Z"
   },
   {
    "duration": 372,
    "start_time": "2024-08-23T14:53:27.857Z"
   },
   {
    "duration": 327,
    "start_time": "2024-08-23T14:53:28.234Z"
   },
   {
    "duration": 322,
    "start_time": "2024-08-23T14:53:28.564Z"
   },
   {
    "duration": 43,
    "start_time": "2024-08-23T14:53:28.889Z"
   },
   {
    "duration": 22,
    "start_time": "2024-08-23T14:53:28.935Z"
   },
   {
    "duration": 16,
    "start_time": "2024-08-23T14:53:28.959Z"
   },
   {
    "duration": 13,
    "start_time": "2024-08-23T14:53:28.978Z"
   },
   {
    "duration": 61,
    "start_time": "2024-08-23T14:53:28.994Z"
   },
   {
    "duration": 249,
    "start_time": "2024-08-23T14:53:29.058Z"
   },
   {
    "duration": 68,
    "start_time": "2024-08-23T14:53:29.310Z"
   },
   {
    "duration": 27,
    "start_time": "2024-08-23T14:53:29.380Z"
   },
   {
    "duration": 28,
    "start_time": "2024-08-23T14:53:29.411Z"
   },
   {
    "duration": 87,
    "start_time": "2024-08-23T14:53:29.447Z"
   },
   {
    "duration": 55,
    "start_time": "2024-08-23T14:53:29.536Z"
   },
   {
    "duration": 82,
    "start_time": "2024-08-23T14:53:29.594Z"
   },
   {
    "duration": 65,
    "start_time": "2024-08-23T14:53:29.678Z"
   },
   {
    "duration": 52,
    "start_time": "2024-08-23T14:53:29.747Z"
   },
   {
    "duration": 155,
    "start_time": "2024-08-23T14:53:29.802Z"
   },
   {
    "duration": 124,
    "start_time": "2024-08-23T14:53:29.960Z"
   },
   {
    "duration": 125,
    "start_time": "2024-08-23T14:53:30.087Z"
   },
   {
    "duration": 119,
    "start_time": "2024-08-23T14:53:30.215Z"
   },
   {
    "duration": 107,
    "start_time": "2024-08-23T14:53:30.337Z"
   },
   {
    "duration": 11,
    "start_time": "2024-08-23T15:01:06.346Z"
   },
   {
    "duration": 67,
    "start_time": "2024-08-23T15:01:10.184Z"
   },
   {
    "duration": 63,
    "start_time": "2024-08-23T15:01:12.758Z"
   },
   {
    "duration": 58,
    "start_time": "2024-08-23T15:01:16.434Z"
   },
   {
    "duration": 57,
    "start_time": "2024-08-23T15:01:17.591Z"
   },
   {
    "duration": 49,
    "start_time": "2024-08-23T15:01:18.778Z"
   },
   {
    "duration": 125,
    "start_time": "2024-08-23T15:01:19.614Z"
   },
   {
    "duration": 105,
    "start_time": "2024-08-23T15:01:20.881Z"
   },
   {
    "duration": 112,
    "start_time": "2024-08-23T15:01:22.214Z"
   },
   {
    "duration": 112,
    "start_time": "2024-08-23T15:01:23.321Z"
   },
   {
    "duration": 96,
    "start_time": "2024-08-23T15:01:24.364Z"
   },
   {
    "duration": 8,
    "start_time": "2024-08-23T15:04:22.725Z"
   },
   {
    "duration": 5,
    "start_time": "2024-08-23T15:05:10.771Z"
   },
   {
    "duration": 21,
    "start_time": "2024-08-23T15:18:13.585Z"
   },
   {
    "duration": 69,
    "start_time": "2024-08-23T15:28:50.749Z"
   },
   {
    "duration": 113,
    "start_time": "2024-08-23T15:28:55.144Z"
   },
   {
    "duration": 169,
    "start_time": "2024-08-23T15:29:05.685Z"
   },
   {
    "duration": 170,
    "start_time": "2024-08-23T15:29:09.784Z"
   },
   {
    "duration": 288,
    "start_time": "2024-08-23T15:29:31.276Z"
   },
   {
    "duration": 5,
    "start_time": "2024-08-23T16:46:25.322Z"
   },
   {
    "duration": 4,
    "start_time": "2024-08-23T16:47:05.961Z"
   },
   {
    "duration": 5,
    "start_time": "2024-08-23T16:47:38.122Z"
   },
   {
    "duration": 5,
    "start_time": "2024-08-23T16:47:41.637Z"
   },
   {
    "duration": 5,
    "start_time": "2024-08-23T16:48:07.305Z"
   },
   {
    "duration": 7,
    "start_time": "2024-08-23T16:49:31.876Z"
   },
   {
    "duration": 6,
    "start_time": "2024-08-23T16:49:39.951Z"
   },
   {
    "duration": 6,
    "start_time": "2024-08-23T16:49:51.720Z"
   },
   {
    "duration": 5,
    "start_time": "2024-08-23T16:50:07.522Z"
   },
   {
    "duration": 5,
    "start_time": "2024-08-23T16:50:14.210Z"
   },
   {
    "duration": 5,
    "start_time": "2024-08-23T16:52:20.698Z"
   },
   {
    "duration": 1646,
    "start_time": "2024-08-25T20:44:42.168Z"
   },
   {
    "duration": 232,
    "start_time": "2024-08-25T20:44:43.817Z"
   },
   {
    "duration": 70,
    "start_time": "2024-08-25T20:44:44.053Z"
   },
   {
    "duration": 5,
    "start_time": "2024-08-25T20:44:44.130Z"
   },
   {
    "duration": 3481,
    "start_time": "2024-08-25T20:44:44.139Z"
   },
   {
    "duration": 298,
    "start_time": "2024-08-25T20:44:47.624Z"
   },
   {
    "duration": 200,
    "start_time": "2024-08-25T20:44:47.926Z"
   },
   {
    "duration": 6,
    "start_time": "2024-08-25T20:44:48.129Z"
   },
   {
    "duration": 31,
    "start_time": "2024-08-25T20:44:48.139Z"
   },
   {
    "duration": 2191,
    "start_time": "2024-08-25T20:44:48.177Z"
   },
   {
    "duration": 1804,
    "start_time": "2024-08-25T20:44:50.372Z"
   },
   {
    "duration": 49,
    "start_time": "2024-08-25T20:44:52.180Z"
   },
   {
    "duration": 569,
    "start_time": "2024-08-25T20:44:52.240Z"
   },
   {
    "duration": 33,
    "start_time": "2024-08-25T20:44:52.812Z"
   },
   {
    "duration": 33,
    "start_time": "2024-08-25T20:44:52.867Z"
   },
   {
    "duration": 264,
    "start_time": "2024-08-25T20:44:52.904Z"
   },
   {
    "duration": 362,
    "start_time": "2024-08-25T20:44:53.171Z"
   },
   {
    "duration": 396,
    "start_time": "2024-08-25T20:44:53.536Z"
   },
   {
    "duration": 47,
    "start_time": "2024-08-25T20:44:53.936Z"
   },
   {
    "duration": 30,
    "start_time": "2024-08-25T20:44:53.986Z"
   },
   {
    "duration": 18,
    "start_time": "2024-08-25T20:44:54.019Z"
   },
   {
    "duration": 11,
    "start_time": "2024-08-25T20:44:54.069Z"
   },
   {
    "duration": 28,
    "start_time": "2024-08-25T20:44:54.083Z"
   },
   {
    "duration": 593,
    "start_time": "2024-08-25T20:44:54.114Z"
   },
   {
    "duration": 185,
    "start_time": "2024-08-25T20:44:54.710Z"
   },
   {
    "duration": 569,
    "start_time": "2024-08-25T20:44:54.899Z"
   },
   {
    "duration": 16,
    "start_time": "2024-08-25T20:44:55.472Z"
   },
   {
    "duration": 616,
    "start_time": "2024-08-25T20:44:55.498Z"
   },
   {
    "duration": 170,
    "start_time": "2024-08-25T20:44:56.117Z"
   },
   {
    "duration": 155,
    "start_time": "2024-08-25T20:44:56.291Z"
   },
   {
    "duration": 166,
    "start_time": "2024-08-25T20:44:56.450Z"
   },
   {
    "duration": 182,
    "start_time": "2024-08-25T20:44:56.619Z"
   },
   {
    "duration": 112,
    "start_time": "2024-08-25T20:44:56.804Z"
   },
   {
    "duration": 6,
    "start_time": "2024-08-25T20:44:56.919Z"
   },
   {
    "duration": 154,
    "start_time": "2024-10-23T16:22:11.994Z"
   },
   {
    "duration": 2498,
    "start_time": "2024-10-23T16:22:17.128Z"
   },
   {
    "duration": 124,
    "start_time": "2024-10-23T16:22:19.628Z"
   },
   {
    "duration": 21,
    "start_time": "2024-10-23T16:22:19.754Z"
   },
   {
    "duration": 4,
    "start_time": "2024-10-23T16:22:19.777Z"
   },
   {
    "duration": 1420,
    "start_time": "2024-10-23T16:22:19.783Z"
   },
   {
    "duration": 140,
    "start_time": "2024-10-23T16:22:21.205Z"
   },
   {
    "duration": 86,
    "start_time": "2024-10-23T16:22:21.347Z"
   },
   {
    "duration": 4,
    "start_time": "2024-10-23T16:22:21.435Z"
   },
   {
    "duration": 6,
    "start_time": "2024-10-23T16:22:21.441Z"
   },
   {
    "duration": 1122,
    "start_time": "2024-10-23T16:22:21.450Z"
   },
   {
    "duration": 883,
    "start_time": "2024-10-23T16:22:22.574Z"
   },
   {
    "duration": 23,
    "start_time": "2024-10-23T16:22:23.461Z"
   },
   {
    "duration": 285,
    "start_time": "2024-10-23T16:22:23.485Z"
   },
   {
    "duration": 19,
    "start_time": "2024-10-23T16:22:23.771Z"
   },
   {
    "duration": 27,
    "start_time": "2024-10-23T16:22:23.793Z"
   },
   {
    "duration": 128,
    "start_time": "2024-10-23T16:22:23.822Z"
   },
   {
    "duration": 178,
    "start_time": "2024-10-23T16:22:23.952Z"
   },
   {
    "duration": 179,
    "start_time": "2024-10-23T16:22:24.132Z"
   },
   {
    "duration": 13,
    "start_time": "2024-10-23T16:22:24.314Z"
   },
   {
    "duration": 11,
    "start_time": "2024-10-23T16:22:24.329Z"
   },
   {
    "duration": 8,
    "start_time": "2024-10-23T16:22:24.342Z"
   },
   {
    "duration": 5,
    "start_time": "2024-10-23T16:22:24.351Z"
   },
   {
    "duration": 48,
    "start_time": "2024-10-23T16:22:24.358Z"
   },
   {
    "duration": 10,
    "start_time": "2024-10-23T16:22:24.407Z"
   },
   {
    "duration": 133,
    "start_time": "2024-10-23T16:22:24.418Z"
   },
   {
    "duration": 34,
    "start_time": "2024-10-23T16:22:24.554Z"
   },
   {
    "duration": 22,
    "start_time": "2024-10-23T16:22:24.590Z"
   },
   {
    "duration": 6,
    "start_time": "2024-10-23T16:22:24.616Z"
   },
   {
    "duration": 170,
    "start_time": "2024-10-23T16:22:24.624Z"
   },
   {
    "duration": 80,
    "start_time": "2024-10-23T16:22:24.797Z"
   },
   {
    "duration": 76,
    "start_time": "2024-10-23T16:22:24.878Z"
   },
   {
    "duration": 73,
    "start_time": "2024-10-23T16:22:24.956Z"
   },
   {
    "duration": 63,
    "start_time": "2024-10-23T16:22:25.031Z"
   },
   {
    "duration": 54,
    "start_time": "2024-10-23T16:22:25.106Z"
   },
   {
    "duration": 3,
    "start_time": "2024-10-23T16:22:25.162Z"
   },
   {
    "duration": 18,
    "start_time": "2024-10-23T16:24:17.332Z"
   },
   {
    "duration": 15,
    "start_time": "2024-10-23T16:24:31.527Z"
   },
   {
    "duration": 38,
    "start_time": "2024-10-23T16:25:19.878Z"
   },
   {
    "duration": 58,
    "start_time": "2024-10-23T16:29:09.515Z"
   },
   {
    "duration": 45,
    "start_time": "2024-10-23T16:29:30.103Z"
   },
   {
    "duration": 53,
    "start_time": "2024-10-23T16:29:44.699Z"
   },
   {
    "duration": 119,
    "start_time": "2024-10-23T16:31:45.788Z"
   },
   {
    "duration": 8,
    "start_time": "2024-10-23T16:33:45.529Z"
   },
   {
    "duration": 8,
    "start_time": "2024-10-23T16:35:07.389Z"
   },
   {
    "duration": 55,
    "start_time": "2024-10-23T16:39:47.243Z"
   },
   {
    "duration": 560,
    "start_time": "2024-10-23T16:39:51.032Z"
   },
   {
    "duration": 60,
    "start_time": "2024-10-23T16:40:23.439Z"
   },
   {
    "duration": 15,
    "start_time": "2024-10-23T16:40:42.305Z"
   },
   {
    "duration": 8,
    "start_time": "2024-10-23T16:41:24.057Z"
   },
   {
    "duration": 2652,
    "start_time": "2024-10-23T18:35:41.401Z"
   },
   {
    "duration": 147,
    "start_time": "2024-10-23T18:35:44.055Z"
   },
   {
    "duration": 29,
    "start_time": "2024-10-23T18:35:44.203Z"
   },
   {
    "duration": 3,
    "start_time": "2024-10-23T18:35:44.234Z"
   },
   {
    "duration": 1547,
    "start_time": "2024-10-23T18:35:44.239Z"
   },
   {
    "duration": 154,
    "start_time": "2024-10-23T18:35:45.788Z"
   },
   {
    "duration": 81,
    "start_time": "2024-10-23T18:35:45.944Z"
   },
   {
    "duration": 3,
    "start_time": "2024-10-23T18:35:46.028Z"
   },
   {
    "duration": 7,
    "start_time": "2024-10-23T18:35:46.033Z"
   },
   {
    "duration": 1164,
    "start_time": "2024-10-23T18:35:46.043Z"
   },
   {
    "duration": 1006,
    "start_time": "2024-10-23T18:35:47.212Z"
   },
   {
    "duration": 26,
    "start_time": "2024-10-23T18:35:48.220Z"
   },
   {
    "duration": 300,
    "start_time": "2024-10-23T18:35:48.248Z"
   },
   {
    "duration": 21,
    "start_time": "2024-10-23T18:35:48.550Z"
   },
   {
    "duration": 19,
    "start_time": "2024-10-23T18:35:48.573Z"
   },
   {
    "duration": 145,
    "start_time": "2024-10-23T18:35:48.611Z"
   },
   {
    "duration": 199,
    "start_time": "2024-10-23T18:35:48.758Z"
   },
   {
    "duration": 190,
    "start_time": "2024-10-23T18:35:48.959Z"
   },
   {
    "duration": 16,
    "start_time": "2024-10-23T18:35:49.151Z"
   },
   {
    "duration": 16,
    "start_time": "2024-10-23T18:35:49.168Z"
   },
   {
    "duration": 28,
    "start_time": "2024-10-23T18:35:49.186Z"
   },
   {
    "duration": 7,
    "start_time": "2024-10-23T18:35:49.217Z"
   },
   {
    "duration": 21,
    "start_time": "2024-10-23T18:35:49.227Z"
   },
   {
    "duration": 71,
    "start_time": "2024-10-23T18:35:49.250Z"
   },
   {
    "duration": 145,
    "start_time": "2024-10-23T18:35:49.323Z"
   },
   {
    "duration": 180,
    "start_time": "2024-10-23T18:35:49.470Z"
   },
   {
    "duration": 46,
    "start_time": "2024-10-23T18:35:49.652Z"
   },
   {
    "duration": 14,
    "start_time": "2024-10-23T18:35:49.712Z"
   },
   {
    "duration": 8,
    "start_time": "2024-10-23T18:35:49.727Z"
   },
   {
    "duration": 179,
    "start_time": "2024-10-23T18:35:49.736Z"
   },
   {
    "duration": 99,
    "start_time": "2024-10-23T18:35:49.917Z"
   },
   {
    "duration": 68,
    "start_time": "2024-10-23T18:35:50.018Z"
   },
   {
    "duration": 83,
    "start_time": "2024-10-23T18:35:50.087Z"
   },
   {
    "duration": 73,
    "start_time": "2024-10-23T18:35:50.172Z"
   },
   {
    "duration": 79,
    "start_time": "2024-10-23T18:35:50.247Z"
   },
   {
    "duration": 3,
    "start_time": "2024-10-23T18:35:50.328Z"
   },
   {
    "duration": 641,
    "start_time": "2024-10-23T18:55:09.198Z"
   },
   {
    "duration": 44,
    "start_time": "2024-10-23T18:56:04.517Z"
   },
   {
    "duration": 41,
    "start_time": "2024-10-23T18:56:44.172Z"
   },
   {
    "duration": 61,
    "start_time": "2024-10-23T18:56:56.813Z"
   },
   {
    "duration": 43,
    "start_time": "2024-10-23T18:57:44.465Z"
   },
   {
    "duration": 41,
    "start_time": "2024-10-23T18:58:08.545Z"
   },
   {
    "duration": 69,
    "start_time": "2024-10-23T18:58:14.706Z"
   },
   {
    "duration": 41,
    "start_time": "2024-10-23T18:58:28.258Z"
   },
   {
    "duration": 165,
    "start_time": "2024-10-23T18:59:35.007Z"
   },
   {
    "duration": 11,
    "start_time": "2024-10-23T18:59:50.941Z"
   },
   {
    "duration": 46,
    "start_time": "2024-10-23T19:00:35.925Z"
   },
   {
    "duration": 101,
    "start_time": "2024-10-23T19:01:05.329Z"
   },
   {
    "duration": 83,
    "start_time": "2024-10-23T19:01:22.468Z"
   },
   {
    "duration": 49,
    "start_time": "2024-10-23T19:01:29.229Z"
   },
   {
    "duration": 101,
    "start_time": "2024-10-23T19:02:07.897Z"
   },
   {
    "duration": 237,
    "start_time": "2024-10-23T19:02:22.721Z"
   },
   {
    "duration": 232,
    "start_time": "2024-10-23T19:02:41.768Z"
   },
   {
    "duration": 245,
    "start_time": "2024-10-23T19:02:53.116Z"
   },
   {
    "duration": 5,
    "start_time": "2024-10-23T19:05:54.136Z"
   },
   {
    "duration": 198,
    "start_time": "2024-10-23T19:06:06.655Z"
   },
   {
    "duration": 222,
    "start_time": "2024-10-23T19:06:18.724Z"
   },
   {
    "duration": 261,
    "start_time": "2024-10-23T19:07:28.441Z"
   },
   {
    "duration": 226,
    "start_time": "2024-10-23T19:07:39.048Z"
   },
   {
    "duration": 219,
    "start_time": "2024-10-23T19:07:58.969Z"
   },
   {
    "duration": 223,
    "start_time": "2024-10-23T19:08:25.547Z"
   },
   {
    "duration": 217,
    "start_time": "2024-10-23T19:09:24.411Z"
   },
   {
    "duration": 210,
    "start_time": "2024-10-23T19:13:20.490Z"
   },
   {
    "duration": 5,
    "start_time": "2024-10-23T20:12:25.928Z"
   },
   {
    "duration": 18,
    "start_time": "2024-10-23T20:13:59.942Z"
   },
   {
    "duration": 10,
    "start_time": "2024-10-23T20:14:06.381Z"
   },
   {
    "duration": 9,
    "start_time": "2024-10-23T20:14:28.554Z"
   },
   {
    "duration": 10,
    "start_time": "2024-10-23T20:14:40.571Z"
   },
   {
    "duration": 4,
    "start_time": "2024-10-23T20:15:03.541Z"
   },
   {
    "duration": 5,
    "start_time": "2024-10-23T20:15:07.102Z"
   },
   {
    "duration": 10,
    "start_time": "2024-10-23T20:15:16.284Z"
   },
   {
    "duration": 10,
    "start_time": "2024-10-23T20:15:22.667Z"
   },
   {
    "duration": 12,
    "start_time": "2024-10-23T20:15:29.300Z"
   },
   {
    "duration": 10,
    "start_time": "2024-10-23T20:16:00.091Z"
   },
   {
    "duration": 20,
    "start_time": "2024-10-23T20:16:49.637Z"
   },
   {
    "duration": 8,
    "start_time": "2024-10-23T20:16:54.926Z"
   },
   {
    "duration": 56,
    "start_time": "2024-10-23T20:16:58.316Z"
   },
   {
    "duration": 7,
    "start_time": "2024-10-23T20:17:00.277Z"
   },
   {
    "duration": 825,
    "start_time": "2024-10-23T20:21:05.889Z"
   },
   {
    "duration": 111,
    "start_time": "2024-10-23T20:21:06.717Z"
   },
   {
    "duration": 25,
    "start_time": "2024-10-23T20:21:06.830Z"
   },
   {
    "duration": 3,
    "start_time": "2024-10-23T20:21:06.857Z"
   },
   {
    "duration": 1485,
    "start_time": "2024-10-23T20:21:06.864Z"
   },
   {
    "duration": 160,
    "start_time": "2024-10-23T20:21:08.351Z"
   },
   {
    "duration": 74,
    "start_time": "2024-10-23T20:21:08.513Z"
   },
   {
    "duration": 3,
    "start_time": "2024-10-23T20:21:08.589Z"
   },
   {
    "duration": 22,
    "start_time": "2024-10-23T20:21:08.594Z"
   },
   {
    "duration": 1154,
    "start_time": "2024-10-23T20:21:08.618Z"
   },
   {
    "duration": 960,
    "start_time": "2024-10-23T20:21:09.776Z"
   },
   {
    "duration": 34,
    "start_time": "2024-10-23T20:21:10.739Z"
   },
   {
    "duration": 297,
    "start_time": "2024-10-23T20:21:10.775Z"
   },
   {
    "duration": 21,
    "start_time": "2024-10-23T20:21:11.075Z"
   },
   {
    "duration": 32,
    "start_time": "2024-10-23T20:21:11.097Z"
   },
   {
    "duration": 133,
    "start_time": "2024-10-23T20:21:11.131Z"
   },
   {
    "duration": 192,
    "start_time": "2024-10-23T20:21:11.265Z"
   },
   {
    "duration": 216,
    "start_time": "2024-10-23T20:21:11.459Z"
   },
   {
    "duration": 207,
    "start_time": "2024-10-23T20:21:11.677Z"
   },
   {
    "duration": 239,
    "start_time": "2024-10-23T20:21:11.886Z"
   },
   {
    "duration": 17,
    "start_time": "2024-10-23T20:21:12.127Z"
   },
   {
    "duration": 11,
    "start_time": "2024-10-23T20:21:12.146Z"
   },
   {
    "duration": 11,
    "start_time": "2024-10-23T20:21:12.160Z"
   },
   {
    "duration": 7,
    "start_time": "2024-10-23T20:21:12.173Z"
   },
   {
    "duration": 235,
    "start_time": "2024-10-23T20:21:12.182Z"
   },
   {
    "duration": 72,
    "start_time": "2024-10-23T20:21:12.423Z"
   },
   {
    "duration": 16,
    "start_time": "2024-10-23T20:21:12.496Z"
   },
   {
    "duration": 160,
    "start_time": "2024-10-23T20:21:12.514Z"
   },
   {
    "duration": 47,
    "start_time": "2024-10-23T20:21:12.676Z"
   },
   {
    "duration": 14,
    "start_time": "2024-10-23T20:21:12.725Z"
   },
   {
    "duration": 8,
    "start_time": "2024-10-23T20:21:12.741Z"
   },
   {
    "duration": 190,
    "start_time": "2024-10-23T20:21:12.750Z"
   },
   {
    "duration": 99,
    "start_time": "2024-10-23T20:21:12.943Z"
   },
   {
    "duration": 77,
    "start_time": "2024-10-23T20:21:13.044Z"
   },
   {
    "duration": 71,
    "start_time": "2024-10-23T20:21:13.123Z"
   },
   {
    "duration": 85,
    "start_time": "2024-10-23T20:21:13.195Z"
   },
   {
    "duration": 85,
    "start_time": "2024-10-23T20:21:13.282Z"
   },
   {
    "duration": 4,
    "start_time": "2024-10-23T20:21:13.369Z"
   },
   {
    "duration": 817,
    "start_time": "2024-10-23T21:59:15.150Z"
   },
   {
    "duration": 134,
    "start_time": "2024-10-23T21:59:15.969Z"
   },
   {
    "duration": 22,
    "start_time": "2024-10-23T21:59:16.104Z"
   },
   {
    "duration": 3,
    "start_time": "2024-10-23T21:59:16.128Z"
   },
   {
    "duration": 1474,
    "start_time": "2024-10-23T21:59:16.132Z"
   },
   {
    "duration": 158,
    "start_time": "2024-10-23T21:59:17.608Z"
   },
   {
    "duration": 93,
    "start_time": "2024-10-23T21:59:17.768Z"
   },
   {
    "duration": 4,
    "start_time": "2024-10-23T21:59:17.863Z"
   },
   {
    "duration": 7,
    "start_time": "2024-10-23T21:59:17.869Z"
   },
   {
    "duration": 1104,
    "start_time": "2024-10-23T21:59:17.880Z"
   },
   {
    "duration": 877,
    "start_time": "2024-10-23T21:59:18.986Z"
   },
   {
    "duration": 28,
    "start_time": "2024-10-23T21:59:19.865Z"
   },
   {
    "duration": 293,
    "start_time": "2024-10-23T21:59:19.895Z"
   },
   {
    "duration": 24,
    "start_time": "2024-10-23T21:59:20.189Z"
   },
   {
    "duration": 17,
    "start_time": "2024-10-23T21:59:20.215Z"
   },
   {
    "duration": 144,
    "start_time": "2024-10-23T21:59:20.234Z"
   },
   {
    "duration": 189,
    "start_time": "2024-10-23T21:59:20.380Z"
   },
   {
    "duration": 209,
    "start_time": "2024-10-23T21:59:20.571Z"
   },
   {
    "duration": 191,
    "start_time": "2024-10-23T21:59:20.783Z"
   },
   {
    "duration": 233,
    "start_time": "2024-10-23T21:59:20.976Z"
   },
   {
    "duration": 15,
    "start_time": "2024-10-23T21:59:21.210Z"
   },
   {
    "duration": 12,
    "start_time": "2024-10-23T21:59:21.226Z"
   },
   {
    "duration": 174,
    "start_time": "2024-10-23T21:59:21.239Z"
   },
   {
    "duration": 6,
    "start_time": "2024-10-23T21:59:21.415Z"
   },
   {
    "duration": 14,
    "start_time": "2024-10-23T21:59:21.424Z"
   },
   {
    "duration": 70,
    "start_time": "2024-10-23T21:59:21.440Z"
   },
   {
    "duration": 8,
    "start_time": "2024-10-23T21:59:21.511Z"
   },
   {
    "duration": 135,
    "start_time": "2024-10-23T21:59:21.523Z"
   },
   {
    "duration": 34,
    "start_time": "2024-10-23T21:59:21.660Z"
   },
   {
    "duration": 20,
    "start_time": "2024-10-23T21:59:21.696Z"
   },
   {
    "duration": 7,
    "start_time": "2024-10-23T21:59:21.718Z"
   },
   {
    "duration": 174,
    "start_time": "2024-10-23T21:59:21.726Z"
   },
   {
    "duration": 81,
    "start_time": "2024-10-23T21:59:21.902Z"
   },
   {
    "duration": 79,
    "start_time": "2024-10-23T21:59:21.985Z"
   },
   {
    "duration": 76,
    "start_time": "2024-10-23T21:59:22.066Z"
   },
   {
    "duration": 77,
    "start_time": "2024-10-23T21:59:22.144Z"
   },
   {
    "duration": 58,
    "start_time": "2024-10-23T21:59:22.222Z"
   },
   {
    "duration": 3,
    "start_time": "2024-10-23T21:59:22.282Z"
   },
   {
    "duration": 57,
    "start_time": "2024-10-23T22:09:15.878Z"
   },
   {
    "duration": 61,
    "start_time": "2024-10-23T22:09:57.927Z"
   },
   {
    "duration": 9,
    "start_time": "2024-10-23T22:10:57.911Z"
   },
   {
    "duration": 129,
    "start_time": "2024-10-23T22:11:04.282Z"
   },
   {
    "duration": 8,
    "start_time": "2024-10-23T22:11:34.980Z"
   }
  ],
  "kernelspec": {
   "display_name": "Python 3 (ipykernel)",
   "language": "python",
   "name": "python3"
  },
  "language_info": {
   "codemirror_mode": {
    "name": "ipython",
    "version": 3
   },
   "file_extension": ".py",
   "mimetype": "text/x-python",
   "name": "python",
   "nbconvert_exporter": "python",
   "pygments_lexer": "ipython3",
   "version": "3.9.19"
  },
  "toc": {
   "base_numbering": 1,
   "nav_menu": {},
   "number_sections": true,
   "sideBar": true,
   "skip_h1_title": true,
   "title_cell": "Tabla de contenidos",
   "title_sidebar": "Contenidos",
   "toc_cell": true,
   "toc_position": {
    "height": "calc(100% - 180px)",
    "left": "10px",
    "top": "150px",
    "width": "334px"
   },
   "toc_section_display": true,
   "toc_window_display": true
  }
 },
 "nbformat": 4,
 "nbformat_minor": 2
}
